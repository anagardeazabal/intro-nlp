{
  "nbformat": 4,
  "nbformat_minor": 0,
  "metadata": {
    "colab": {
      "name": "NLP-INTRO.ipynb",
      "provenance": [],
      "authorship_tag": "ABX9TyP97DY0mYArYNYMW2N3SKyV",
      "include_colab_link": true
    },
    "kernelspec": {
      "name": "python3",
      "display_name": "Python 3"
    },
    "language_info": {
      "name": "python"
    }
  },
  "cells": [
    {
      "cell_type": "markdown",
      "metadata": {
        "id": "view-in-github",
        "colab_type": "text"
      },
      "source": [
        "<a href=\"https://colab.research.google.com/github/anagardeazabal/intro-nlp/blob/main/NLP_INTRO.ipynb\" target=\"_parent\"><img src=\"https://colab.research.google.com/assets/colab-badge.svg\" alt=\"Open In Colab\"/></a>"
      ]
    },
    {
      "cell_type": "markdown",
      "source": [
        "##Processamento de linguagem natural\n",
        "\n",
        "Neste projeto introdutório de estudos em NLP, primeiramente, será revisado alguns tópicos e explicação sobre algumas terminologias para maior compreensão do tema. \n",
        "\n",
        "Na segunda parte, será realizado nesse projeto um classificador (análise de sentimentos), com a identificação de medo e alegria. A análise é baseada no Twitter, com comentários em português.\n",
        "\n",
        "Como é um projeto de introdução, a biblioteca do *spacy* suprirá os requisitos para o processamento de linguagem natural.\n",
        "\n",
        "<p align=\"left\">\n",
        "<img src='https://encrypted-tbn0.gstatic.com/images?q=tbn:ANd9GcTb1Miyahs2lzSLEHo9sdCG3bgcR0lTqBtZovfwI52MOdfc0vqmoMOkRBcSpJEiNNmziTQ&usqp=CAU' width=\"400\"/>\n",
        "</p>\n"
      ],
      "metadata": {
        "id": "SMMoCvZO0RCJ"
      }
    },
    {
      "cell_type": "markdown",
      "source": [
        "**NLP**"
      ],
      "metadata": {
        "id": "UYp0aXNT6YHV"
      }
    },
    {
      "cell_type": "markdown",
      "source": [
        "Nós, humanos, aprendemos através da percepção. Todo nosso entendimento de mundo é baseado nos sentidos e explorados pela comunicação: falamos, lemos, escrevemos. Tecnicamente, tudo isso é quantitativo através dos dados não estruturados gerados.\n",
        "\n",
        "NLP é uma parte da inteligência artificial que lida com o entendimento e processamento da linguagem humana. De uma maneira geral, é como se existisse uma nuvem de sintaxes e relações que nós fazemos. A NLP irá mesclar linguística, ciência da computação e IA, para basicamente representar através da vetorização dessas palavras tudo que pode ser interpretado e construído a partir disso.\n",
        "\n",
        "\n",
        "<p align=\"center\">\n",
        "<img src='https://blog.acolyer.org/wp-content/uploads/2016/04/word2vec-king-queen-vectors.png' width=\"400\"/>\n",
        "</p>\n"
      ],
      "metadata": {
        "id": "H_F-Ip8F6bhp"
      }
    },
    {
      "cell_type": "markdown",
      "source": [
        "## E como é construído? - Ferramentas para NLP"
      ],
      "metadata": {
        "id": "tnAe_-c__r4f"
      }
    },
    {
      "cell_type": "markdown",
      "source": [
        "Vamos ter como exemplo a figura acima. Foi feita uma vetorização com as palavras: rei, homem, rainha, mulher. Percebemos que existe uma correlação de similaridades dessas palavras. Se montarmos um pequeno texto, baseado no nosso imaginário, como:\n",
        "\n",
        "\"Na Escócia, existem muitos castelos. Maria, Rainha dos escoceses, teve seu reinado no castelo de Edimburgo por volta de 1573.\" \n",
        "\n",
        "Podemos processar o texto com técnicas de:\n",
        "\n",
        "***Tokenização***: Quebrando o texto em unidades. \"Na\", \"Escócia\", \"existem\", \"muitos\"...\n",
        "\n",
        "***POS***(Part of speech): Identificar a sintaxe dessa frase. O entedimento da máquina seria algo como: *Input*: Palavra \"Escócia\" -> Predição de part of speech -> *Output*: \"proper_noum\", nome próprio que identifica o país. (apenas para fins de exemplificação foi utilizada apenas um token, mas toda palavra é lida e identificada enquanto nome, verbo, adjetivo, etc).\n",
        "\n",
        "***Lematização***: Reduzir a palavra em seu radical ou forma base, sem flexões. Exemplo: Escóc - ia, escoc - eses. Ou em um texto maior, poderia ter variações de reino, reinado, reinos, reinar, etc, que não fazem diferença final na análise.\n",
        "\n",
        "***█ Stopwords***: Para considerar a importância de cada palavra no texto, devemos remover o \"barulho\" de palavras irrelevantes ao texto. Importante ressaltar que: nem toda palavra pequena é stopword. Se estamos analisando uma banda, por exemplo, \"The rolling stones\", o The é essencial para esse reconhecimento. Mas voltando ao texto inicial, \"Na Escócia\", \"na\" seria uma stopword.\n",
        "\n",
        "***Parsing***: É um pouco mais complexo, é como se fosse a relação de dependência de palavras e como elas são interligadas estruturalmente. Por exemplo, castelo está lidado diretamente com a localização Edimburgo, é importante o reconhecimento dessa conexão para linearidade na execução.\n",
        "\n",
        "***NER***: Reconhecimento de entidade. A palavra é detectada em uma categoria predeterminada. Ex: Escócia: país, 1573: data, Maria: pessoa.\n",
        "\n",
        "\n",
        "\n",
        "\n",
        "\n",
        "\n"
      ],
      "metadata": {
        "id": "ocnpc0ZjANt8"
      }
    },
    {
      "cell_type": "markdown",
      "source": [
        "## Classificação de sentimento - Base Twitter 𓅚"
      ],
      "metadata": {
        "id": "znnBXwz5NNqB"
      }
    },
    {
      "cell_type": "markdown",
      "source": [
        "I) Início da classificação e importando as bibliotecas "
      ],
      "metadata": {
        "id": "RE0Ly3EK-6SO"
      }
    },
    {
      "cell_type": "code",
      "source": [
        "!pip install -q spacy==2.2.3"
      ],
      "metadata": {
        "colab": {
          "base_uri": "https://localhost:8080/"
        },
        "id": "thkBiA8wAupw",
        "outputId": "18cb60cd-6a1e-4113-e29d-d98d71258188"
      },
      "execution_count": null,
      "outputs": [
        {
          "output_type": "stream",
          "name": "stdout",
          "text": [
            "\u001b[K     |████████████████████████████████| 10.4 MB 1.9 MB/s \n",
            "\u001b[K     |████████████████████████████████| 2.2 MB 39.5 MB/s \n",
            "\u001b[?25h"
          ]
        }
      ]
    },
    {
      "cell_type": "code",
      "source": [
        "import spacy\n",
        "spacy.__version__"
      ],
      "metadata": {
        "colab": {
          "base_uri": "https://localhost:8080/",
          "height": 35
        },
        "id": "bQ9mX2y4BgPQ",
        "outputId": "9b54e183-df9a-40e3-d07e-ea2ed3eeae40"
      },
      "execution_count": null,
      "outputs": [
        {
          "output_type": "execute_result",
          "data": {
            "text/plain": [
              "'2.2.3'"
            ],
            "application/vnd.google.colaboratory.intrinsic+json": {
              "type": "string"
            }
          },
          "metadata": {},
          "execution_count": 3
        }
      ]
    },
    {
      "cell_type": "code",
      "source": [
        "!python3 -m spacy download pt ##para trabalhar com modelos em português "
      ],
      "metadata": {
        "colab": {
          "base_uri": "https://localhost:8080/"
        },
        "id": "Ty4tb6b6Bipn",
        "outputId": "1a0dce8f-c5db-4b4e-c2ca-4b69ae408fa7"
      },
      "execution_count": null,
      "outputs": [
        {
          "output_type": "stream",
          "name": "stdout",
          "text": [
            "Collecting pt_core_news_sm==2.2.5\n",
            "  Downloading https://github.com/explosion/spacy-models/releases/download/pt_core_news_sm-2.2.5/pt_core_news_sm-2.2.5.tar.gz (21.2 MB)\n",
            "\u001b[K     |████████████████████████████████| 21.2 MB 7.8 MB/s \n",
            "\u001b[?25hRequirement already satisfied: spacy>=2.2.2 in /usr/local/lib/python3.7/dist-packages (from pt_core_news_sm==2.2.5) (2.2.3)\n",
            "Requirement already satisfied: numpy>=1.15.0 in /usr/local/lib/python3.7/dist-packages (from spacy>=2.2.2->pt_core_news_sm==2.2.5) (1.21.5)\n",
            "Requirement already satisfied: plac<1.2.0,>=0.9.6 in /usr/local/lib/python3.7/dist-packages (from spacy>=2.2.2->pt_core_news_sm==2.2.5) (1.1.3)\n",
            "Requirement already satisfied: cymem<2.1.0,>=2.0.2 in /usr/local/lib/python3.7/dist-packages (from spacy>=2.2.2->pt_core_news_sm==2.2.5) (2.0.6)\n",
            "Requirement already satisfied: requests<3.0.0,>=2.13.0 in /usr/local/lib/python3.7/dist-packages (from spacy>=2.2.2->pt_core_news_sm==2.2.5) (2.23.0)\n",
            "Requirement already satisfied: srsly<1.1.0,>=0.1.0 in /usr/local/lib/python3.7/dist-packages (from spacy>=2.2.2->pt_core_news_sm==2.2.5) (1.0.5)\n",
            "Requirement already satisfied: catalogue<1.1.0,>=0.0.7 in /usr/local/lib/python3.7/dist-packages (from spacy>=2.2.2->pt_core_news_sm==2.2.5) (1.0.0)\n",
            "Requirement already satisfied: thinc<7.4.0,>=7.3.0 in /usr/local/lib/python3.7/dist-packages (from spacy>=2.2.2->pt_core_news_sm==2.2.5) (7.3.1)\n",
            "Requirement already satisfied: preshed<3.1.0,>=3.0.2 in /usr/local/lib/python3.7/dist-packages (from spacy>=2.2.2->pt_core_news_sm==2.2.5) (3.0.6)\n",
            "Requirement already satisfied: murmurhash<1.1.0,>=0.28.0 in /usr/local/lib/python3.7/dist-packages (from spacy>=2.2.2->pt_core_news_sm==2.2.5) (1.0.6)\n",
            "Requirement already satisfied: blis<0.5.0,>=0.4.0 in /usr/local/lib/python3.7/dist-packages (from spacy>=2.2.2->pt_core_news_sm==2.2.5) (0.4.1)\n",
            "Requirement already satisfied: setuptools in /usr/local/lib/python3.7/dist-packages (from spacy>=2.2.2->pt_core_news_sm==2.2.5) (57.4.0)\n",
            "Requirement already satisfied: wasabi<1.1.0,>=0.4.0 in /usr/local/lib/python3.7/dist-packages (from spacy>=2.2.2->pt_core_news_sm==2.2.5) (0.9.0)\n",
            "Requirement already satisfied: importlib-metadata>=0.20 in /usr/local/lib/python3.7/dist-packages (from catalogue<1.1.0,>=0.0.7->spacy>=2.2.2->pt_core_news_sm==2.2.5) (4.11.3)\n",
            "Requirement already satisfied: zipp>=0.5 in /usr/local/lib/python3.7/dist-packages (from importlib-metadata>=0.20->catalogue<1.1.0,>=0.0.7->spacy>=2.2.2->pt_core_news_sm==2.2.5) (3.7.0)\n",
            "Requirement already satisfied: typing-extensions>=3.6.4 in /usr/local/lib/python3.7/dist-packages (from importlib-metadata>=0.20->catalogue<1.1.0,>=0.0.7->spacy>=2.2.2->pt_core_news_sm==2.2.5) (3.10.0.2)\n",
            "Requirement already satisfied: chardet<4,>=3.0.2 in /usr/local/lib/python3.7/dist-packages (from requests<3.0.0,>=2.13.0->spacy>=2.2.2->pt_core_news_sm==2.2.5) (3.0.4)\n",
            "Requirement already satisfied: urllib3!=1.25.0,!=1.25.1,<1.26,>=1.21.1 in /usr/local/lib/python3.7/dist-packages (from requests<3.0.0,>=2.13.0->spacy>=2.2.2->pt_core_news_sm==2.2.5) (1.24.3)\n",
            "Requirement already satisfied: idna<3,>=2.5 in /usr/local/lib/python3.7/dist-packages (from requests<3.0.0,>=2.13.0->spacy>=2.2.2->pt_core_news_sm==2.2.5) (2.10)\n",
            "Requirement already satisfied: certifi>=2017.4.17 in /usr/local/lib/python3.7/dist-packages (from requests<3.0.0,>=2.13.0->spacy>=2.2.2->pt_core_news_sm==2.2.5) (2021.10.8)\n",
            "Requirement already satisfied: tqdm<5.0.0,>=4.10.0 in /usr/local/lib/python3.7/dist-packages (from thinc<7.4.0,>=7.3.0->spacy>=2.2.2->pt_core_news_sm==2.2.5) (4.63.0)\n",
            "Building wheels for collected packages: pt-core-news-sm\n",
            "  Building wheel for pt-core-news-sm (setup.py) ... \u001b[?25l\u001b[?25hdone\n",
            "  Created wheel for pt-core-news-sm: filename=pt_core_news_sm-2.2.5-py3-none-any.whl size=21186281 sha256=1475308f4b5ff7397a63e2dd9347bcf9a2e6ed5dfc42495d0b311b2c4a2f47a4\n",
            "  Stored in directory: /tmp/pip-ephem-wheel-cache-zguv6p0z/wheels/c3/f9/0c/5c014a36941a00f5df5fc0756cb961d7c457a978e697a6ce3b\n",
            "Successfully built pt-core-news-sm\n",
            "Installing collected packages: pt-core-news-sm\n",
            "Successfully installed pt-core-news-sm-2.2.5\n",
            "\u001b[38;5;2m✔ Download and installation successful\u001b[0m\n",
            "You can now load the model via spacy.load('pt_core_news_sm')\n",
            "\u001b[38;5;2m✔ Linking successful\u001b[0m\n",
            "/usr/local/lib/python3.7/dist-packages/pt_core_news_sm -->\n",
            "/usr/local/lib/python3.7/dist-packages/spacy/data/pt\n",
            "You can now load the model via spacy.load('pt')\n"
          ]
        }
      ]
    },
    {
      "cell_type": "code",
      "source": [
        "import pandas as pd\n",
        "import string\n",
        "import spacy\n",
        "import random ##gera números aleatórios\n",
        "import seaborn as sns\n",
        "import numpy as np\n",
        "import re ##regular expression"
      ],
      "metadata": {
        "id": "2qb9rI4cBwTK"
      },
      "execution_count": null,
      "outputs": []
    },
    {
      "cell_type": "markdown",
      "source": [
        "II) Base de dados - Treino\n",
        "\n",
        "Disponível pelo link: *https://www.kaggle.com/augustop/portuguese-tweets-for-sentiment-analysis#TweetsNeutralHash.csv*\n",
        "\n",
        "Obs: *Utilizado neste projeto o dataset com 50 mil tweets.*\n",
        "\n",
        "**Marcação**\n",
        "\n",
        "negative label: 0, posisitve label: 1"
      ],
      "metadata": {
        "id": "V4YJJt64CJOp"
      }
    },
    {
      "cell_type": "code",
      "source": [
        "base_treinamento = pd.read_csv('/content/Train50.csv', delimiter=';')"
      ],
      "metadata": {
        "id": "arb9CK4SHXGB"
      },
      "execution_count": null,
      "outputs": []
    },
    {
      "cell_type": "code",
      "source": [
        "base_treinamento.shape"
      ],
      "metadata": {
        "colab": {
          "base_uri": "https://localhost:8080/"
        },
        "id": "Om39HRfoHjEZ",
        "outputId": "32538ac5-4bbf-4938-a574-753cadedd6f7"
      },
      "execution_count": null,
      "outputs": [
        {
          "output_type": "execute_result",
          "data": {
            "text/plain": [
              "(50000, 5)"
            ]
          },
          "metadata": {},
          "execution_count": 7
        }
      ]
    },
    {
      "cell_type": "code",
      "source": [
        "base_treinamento.head() "
      ],
      "metadata": {
        "colab": {
          "base_uri": "https://localhost:8080/",
          "height": 206
        },
        "id": "VMEQgXJ3Hsrn",
        "outputId": "c468c818-9cec-4f7c-ac26-e94fefab0bb5"
      },
      "execution_count": null,
      "outputs": [
        {
          "output_type": "execute_result",
          "data": {
            "text/plain": [
              "                    id                                         tweet_text  \\\n",
              "0  1050785521201541121  @Laranjito76 A pessoa certa para isso seria o ...   \n",
              "1  1050785431955140608  @behin_d_curtain Para mim, é precisamente o co...   \n",
              "2  1050785401248645120  Vou fazer um video hoje... estou pensando em f...   \n",
              "3  1050785370982547461  aaaaaaaa amei tanto essas polaroids, nem sei e...   \n",
              "4  1050785368902131713  Valoriza o coração do menininho que vc tem. El...   \n",
              "\n",
              "                       tweet_date  sentiment query_used  \n",
              "0  Fri Oct 12 16:29:25 +0000 2018          1         :)  \n",
              "1  Fri Oct 12 16:29:04 +0000 2018          1         :)  \n",
              "2  Fri Oct 12 16:28:56 +0000 2018          1         :)  \n",
              "3  Fri Oct 12 16:28:49 +0000 2018          1         :)  \n",
              "4  Fri Oct 12 16:28:49 +0000 2018          1         :)  "
            ],
            "text/html": [
              "\n",
              "  <div id=\"df-84846ead-79fb-493c-a7e8-9c814a66eaee\">\n",
              "    <div class=\"colab-df-container\">\n",
              "      <div>\n",
              "<style scoped>\n",
              "    .dataframe tbody tr th:only-of-type {\n",
              "        vertical-align: middle;\n",
              "    }\n",
              "\n",
              "    .dataframe tbody tr th {\n",
              "        vertical-align: top;\n",
              "    }\n",
              "\n",
              "    .dataframe thead th {\n",
              "        text-align: right;\n",
              "    }\n",
              "</style>\n",
              "<table border=\"1\" class=\"dataframe\">\n",
              "  <thead>\n",
              "    <tr style=\"text-align: right;\">\n",
              "      <th></th>\n",
              "      <th>id</th>\n",
              "      <th>tweet_text</th>\n",
              "      <th>tweet_date</th>\n",
              "      <th>sentiment</th>\n",
              "      <th>query_used</th>\n",
              "    </tr>\n",
              "  </thead>\n",
              "  <tbody>\n",
              "    <tr>\n",
              "      <th>0</th>\n",
              "      <td>1050785521201541121</td>\n",
              "      <td>@Laranjito76 A pessoa certa para isso seria o ...</td>\n",
              "      <td>Fri Oct 12 16:29:25 +0000 2018</td>\n",
              "      <td>1</td>\n",
              "      <td>:)</td>\n",
              "    </tr>\n",
              "    <tr>\n",
              "      <th>1</th>\n",
              "      <td>1050785431955140608</td>\n",
              "      <td>@behin_d_curtain Para mim, é precisamente o co...</td>\n",
              "      <td>Fri Oct 12 16:29:04 +0000 2018</td>\n",
              "      <td>1</td>\n",
              "      <td>:)</td>\n",
              "    </tr>\n",
              "    <tr>\n",
              "      <th>2</th>\n",
              "      <td>1050785401248645120</td>\n",
              "      <td>Vou fazer um video hoje... estou pensando em f...</td>\n",
              "      <td>Fri Oct 12 16:28:56 +0000 2018</td>\n",
              "      <td>1</td>\n",
              "      <td>:)</td>\n",
              "    </tr>\n",
              "    <tr>\n",
              "      <th>3</th>\n",
              "      <td>1050785370982547461</td>\n",
              "      <td>aaaaaaaa amei tanto essas polaroids, nem sei e...</td>\n",
              "      <td>Fri Oct 12 16:28:49 +0000 2018</td>\n",
              "      <td>1</td>\n",
              "      <td>:)</td>\n",
              "    </tr>\n",
              "    <tr>\n",
              "      <th>4</th>\n",
              "      <td>1050785368902131713</td>\n",
              "      <td>Valoriza o coração do menininho que vc tem. El...</td>\n",
              "      <td>Fri Oct 12 16:28:49 +0000 2018</td>\n",
              "      <td>1</td>\n",
              "      <td>:)</td>\n",
              "    </tr>\n",
              "  </tbody>\n",
              "</table>\n",
              "</div>\n",
              "      <button class=\"colab-df-convert\" onclick=\"convertToInteractive('df-84846ead-79fb-493c-a7e8-9c814a66eaee')\"\n",
              "              title=\"Convert this dataframe to an interactive table.\"\n",
              "              style=\"display:none;\">\n",
              "        \n",
              "  <svg xmlns=\"http://www.w3.org/2000/svg\" height=\"24px\"viewBox=\"0 0 24 24\"\n",
              "       width=\"24px\">\n",
              "    <path d=\"M0 0h24v24H0V0z\" fill=\"none\"/>\n",
              "    <path d=\"M18.56 5.44l.94 2.06.94-2.06 2.06-.94-2.06-.94-.94-2.06-.94 2.06-2.06.94zm-11 1L8.5 8.5l.94-2.06 2.06-.94-2.06-.94L8.5 2.5l-.94 2.06-2.06.94zm10 10l.94 2.06.94-2.06 2.06-.94-2.06-.94-.94-2.06-.94 2.06-2.06.94z\"/><path d=\"M17.41 7.96l-1.37-1.37c-.4-.4-.92-.59-1.43-.59-.52 0-1.04.2-1.43.59L10.3 9.45l-7.72 7.72c-.78.78-.78 2.05 0 2.83L4 21.41c.39.39.9.59 1.41.59.51 0 1.02-.2 1.41-.59l7.78-7.78 2.81-2.81c.8-.78.8-2.07 0-2.86zM5.41 20L4 18.59l7.72-7.72 1.47 1.35L5.41 20z\"/>\n",
              "  </svg>\n",
              "      </button>\n",
              "      \n",
              "  <style>\n",
              "    .colab-df-container {\n",
              "      display:flex;\n",
              "      flex-wrap:wrap;\n",
              "      gap: 12px;\n",
              "    }\n",
              "\n",
              "    .colab-df-convert {\n",
              "      background-color: #E8F0FE;\n",
              "      border: none;\n",
              "      border-radius: 50%;\n",
              "      cursor: pointer;\n",
              "      display: none;\n",
              "      fill: #1967D2;\n",
              "      height: 32px;\n",
              "      padding: 0 0 0 0;\n",
              "      width: 32px;\n",
              "    }\n",
              "\n",
              "    .colab-df-convert:hover {\n",
              "      background-color: #E2EBFA;\n",
              "      box-shadow: 0px 1px 2px rgba(60, 64, 67, 0.3), 0px 1px 3px 1px rgba(60, 64, 67, 0.15);\n",
              "      fill: #174EA6;\n",
              "    }\n",
              "\n",
              "    [theme=dark] .colab-df-convert {\n",
              "      background-color: #3B4455;\n",
              "      fill: #D2E3FC;\n",
              "    }\n",
              "\n",
              "    [theme=dark] .colab-df-convert:hover {\n",
              "      background-color: #434B5C;\n",
              "      box-shadow: 0px 1px 3px 1px rgba(0, 0, 0, 0.15);\n",
              "      filter: drop-shadow(0px 1px 2px rgba(0, 0, 0, 0.3));\n",
              "      fill: #FFFFFF;\n",
              "    }\n",
              "  </style>\n",
              "\n",
              "      <script>\n",
              "        const buttonEl =\n",
              "          document.querySelector('#df-84846ead-79fb-493c-a7e8-9c814a66eaee button.colab-df-convert');\n",
              "        buttonEl.style.display =\n",
              "          google.colab.kernel.accessAllowed ? 'block' : 'none';\n",
              "\n",
              "        async function convertToInteractive(key) {\n",
              "          const element = document.querySelector('#df-84846ead-79fb-493c-a7e8-9c814a66eaee');\n",
              "          const dataTable =\n",
              "            await google.colab.kernel.invokeFunction('convertToInteractive',\n",
              "                                                     [key], {});\n",
              "          if (!dataTable) return;\n",
              "\n",
              "          const docLinkHtml = 'Like what you see? Visit the ' +\n",
              "            '<a target=\"_blank\" href=https://colab.research.google.com/notebooks/data_table.ipynb>data table notebook</a>'\n",
              "            + ' to learn more about interactive tables.';\n",
              "          element.innerHTML = '';\n",
              "          dataTable['output_type'] = 'display_data';\n",
              "          await google.colab.output.renderOutput(dataTable, element);\n",
              "          const docLink = document.createElement('div');\n",
              "          docLink.innerHTML = docLinkHtml;\n",
              "          element.appendChild(docLink);\n",
              "        }\n",
              "      </script>\n",
              "    </div>\n",
              "  </div>\n",
              "  "
            ]
          },
          "metadata": {},
          "execution_count": 8
        }
      ]
    },
    {
      "cell_type": "code",
      "source": [
        "base_treinamento.tail()"
      ],
      "metadata": {
        "colab": {
          "base_uri": "https://localhost:8080/",
          "height": 206
        },
        "id": "sNuUhOkMH9or",
        "outputId": "d39003c7-17de-482d-bdfd-929c93f5848c"
      },
      "execution_count": null,
      "outputs": [
        {
          "output_type": "execute_result",
          "data": {
            "text/plain": [
              "                        id                                         tweet_text  \\\n",
              "49995  1046762827053232128     :( é tão lindo que dói https://t.co/GqnpgyWWxB   \n",
              "49996  1046762813362966529  @veraluciarj Pois é.. tenho problema c/ \"coisa...   \n",
              "49997  1046762806392082432  eu te amo tanto minja vidinha meu bem mais pre...   \n",
              "49998  1046762752071618560                      @itsLary @jessboluda Pfvor :(   \n",
              "49999  1046762735340584962  @Renk_lol Passa ano Entra ano Eu nao desisto d...   \n",
              "\n",
              "                           tweet_date  sentiment query_used  \n",
              "49995  Mon Oct 01 14:04:40 +0000 2018          0         :(  \n",
              "49996  Mon Oct 01 14:04:37 +0000 2018          0         :(  \n",
              "49997  Mon Oct 01 14:04:35 +0000 2018          0         :(  \n",
              "49998  Mon Oct 01 14:04:22 +0000 2018          0         :(  \n",
              "49999  Mon Oct 01 14:04:18 +0000 2018          0         :(  "
            ],
            "text/html": [
              "\n",
              "  <div id=\"df-0696aee5-8008-4028-930a-669ec93c1a34\">\n",
              "    <div class=\"colab-df-container\">\n",
              "      <div>\n",
              "<style scoped>\n",
              "    .dataframe tbody tr th:only-of-type {\n",
              "        vertical-align: middle;\n",
              "    }\n",
              "\n",
              "    .dataframe tbody tr th {\n",
              "        vertical-align: top;\n",
              "    }\n",
              "\n",
              "    .dataframe thead th {\n",
              "        text-align: right;\n",
              "    }\n",
              "</style>\n",
              "<table border=\"1\" class=\"dataframe\">\n",
              "  <thead>\n",
              "    <tr style=\"text-align: right;\">\n",
              "      <th></th>\n",
              "      <th>id</th>\n",
              "      <th>tweet_text</th>\n",
              "      <th>tweet_date</th>\n",
              "      <th>sentiment</th>\n",
              "      <th>query_used</th>\n",
              "    </tr>\n",
              "  </thead>\n",
              "  <tbody>\n",
              "    <tr>\n",
              "      <th>49995</th>\n",
              "      <td>1046762827053232128</td>\n",
              "      <td>:( é tão lindo que dói https://t.co/GqnpgyWWxB</td>\n",
              "      <td>Mon Oct 01 14:04:40 +0000 2018</td>\n",
              "      <td>0</td>\n",
              "      <td>:(</td>\n",
              "    </tr>\n",
              "    <tr>\n",
              "      <th>49996</th>\n",
              "      <td>1046762813362966529</td>\n",
              "      <td>@veraluciarj Pois é.. tenho problema c/ \"coisa...</td>\n",
              "      <td>Mon Oct 01 14:04:37 +0000 2018</td>\n",
              "      <td>0</td>\n",
              "      <td>:(</td>\n",
              "    </tr>\n",
              "    <tr>\n",
              "      <th>49997</th>\n",
              "      <td>1046762806392082432</td>\n",
              "      <td>eu te amo tanto minja vidinha meu bem mais pre...</td>\n",
              "      <td>Mon Oct 01 14:04:35 +0000 2018</td>\n",
              "      <td>0</td>\n",
              "      <td>:(</td>\n",
              "    </tr>\n",
              "    <tr>\n",
              "      <th>49998</th>\n",
              "      <td>1046762752071618560</td>\n",
              "      <td>@itsLary @jessboluda Pfvor :(</td>\n",
              "      <td>Mon Oct 01 14:04:22 +0000 2018</td>\n",
              "      <td>0</td>\n",
              "      <td>:(</td>\n",
              "    </tr>\n",
              "    <tr>\n",
              "      <th>49999</th>\n",
              "      <td>1046762735340584962</td>\n",
              "      <td>@Renk_lol Passa ano Entra ano Eu nao desisto d...</td>\n",
              "      <td>Mon Oct 01 14:04:18 +0000 2018</td>\n",
              "      <td>0</td>\n",
              "      <td>:(</td>\n",
              "    </tr>\n",
              "  </tbody>\n",
              "</table>\n",
              "</div>\n",
              "      <button class=\"colab-df-convert\" onclick=\"convertToInteractive('df-0696aee5-8008-4028-930a-669ec93c1a34')\"\n",
              "              title=\"Convert this dataframe to an interactive table.\"\n",
              "              style=\"display:none;\">\n",
              "        \n",
              "  <svg xmlns=\"http://www.w3.org/2000/svg\" height=\"24px\"viewBox=\"0 0 24 24\"\n",
              "       width=\"24px\">\n",
              "    <path d=\"M0 0h24v24H0V0z\" fill=\"none\"/>\n",
              "    <path d=\"M18.56 5.44l.94 2.06.94-2.06 2.06-.94-2.06-.94-.94-2.06-.94 2.06-2.06.94zm-11 1L8.5 8.5l.94-2.06 2.06-.94-2.06-.94L8.5 2.5l-.94 2.06-2.06.94zm10 10l.94 2.06.94-2.06 2.06-.94-2.06-.94-.94-2.06-.94 2.06-2.06.94z\"/><path d=\"M17.41 7.96l-1.37-1.37c-.4-.4-.92-.59-1.43-.59-.52 0-1.04.2-1.43.59L10.3 9.45l-7.72 7.72c-.78.78-.78 2.05 0 2.83L4 21.41c.39.39.9.59 1.41.59.51 0 1.02-.2 1.41-.59l7.78-7.78 2.81-2.81c.8-.78.8-2.07 0-2.86zM5.41 20L4 18.59l7.72-7.72 1.47 1.35L5.41 20z\"/>\n",
              "  </svg>\n",
              "      </button>\n",
              "      \n",
              "  <style>\n",
              "    .colab-df-container {\n",
              "      display:flex;\n",
              "      flex-wrap:wrap;\n",
              "      gap: 12px;\n",
              "    }\n",
              "\n",
              "    .colab-df-convert {\n",
              "      background-color: #E8F0FE;\n",
              "      border: none;\n",
              "      border-radius: 50%;\n",
              "      cursor: pointer;\n",
              "      display: none;\n",
              "      fill: #1967D2;\n",
              "      height: 32px;\n",
              "      padding: 0 0 0 0;\n",
              "      width: 32px;\n",
              "    }\n",
              "\n",
              "    .colab-df-convert:hover {\n",
              "      background-color: #E2EBFA;\n",
              "      box-shadow: 0px 1px 2px rgba(60, 64, 67, 0.3), 0px 1px 3px 1px rgba(60, 64, 67, 0.15);\n",
              "      fill: #174EA6;\n",
              "    }\n",
              "\n",
              "    [theme=dark] .colab-df-convert {\n",
              "      background-color: #3B4455;\n",
              "      fill: #D2E3FC;\n",
              "    }\n",
              "\n",
              "    [theme=dark] .colab-df-convert:hover {\n",
              "      background-color: #434B5C;\n",
              "      box-shadow: 0px 1px 3px 1px rgba(0, 0, 0, 0.15);\n",
              "      filter: drop-shadow(0px 1px 2px rgba(0, 0, 0, 0.3));\n",
              "      fill: #FFFFFF;\n",
              "    }\n",
              "  </style>\n",
              "\n",
              "      <script>\n",
              "        const buttonEl =\n",
              "          document.querySelector('#df-0696aee5-8008-4028-930a-669ec93c1a34 button.colab-df-convert');\n",
              "        buttonEl.style.display =\n",
              "          google.colab.kernel.accessAllowed ? 'block' : 'none';\n",
              "\n",
              "        async function convertToInteractive(key) {\n",
              "          const element = document.querySelector('#df-0696aee5-8008-4028-930a-669ec93c1a34');\n",
              "          const dataTable =\n",
              "            await google.colab.kernel.invokeFunction('convertToInteractive',\n",
              "                                                     [key], {});\n",
              "          if (!dataTable) return;\n",
              "\n",
              "          const docLinkHtml = 'Like what you see? Visit the ' +\n",
              "            '<a target=\"_blank\" href=https://colab.research.google.com/notebooks/data_table.ipynb>data table notebook</a>'\n",
              "            + ' to learn more about interactive tables.';\n",
              "          element.innerHTML = '';\n",
              "          dataTable['output_type'] = 'display_data';\n",
              "          await google.colab.output.renderOutput(dataTable, element);\n",
              "          const docLink = document.createElement('div');\n",
              "          docLink.innerHTML = docLinkHtml;\n",
              "          element.appendChild(docLink);\n",
              "        }\n",
              "      </script>\n",
              "    </div>\n",
              "  </div>\n",
              "  "
            ]
          },
          "metadata": {},
          "execution_count": 9
        }
      ]
    },
    {
      "cell_type": "code",
      "source": [
        "sns.countplot(base_treinamento['sentiment'], label = 'Contagem'); #podemos observar que dos 50 mil tweets, 25mil sao negativos e 25 mil sao positivos"
      ],
      "metadata": {
        "colab": {
          "base_uri": "https://localhost:8080/",
          "height": 334
        },
        "id": "XiBRUlqqIHcs",
        "outputId": "aa642694-112f-472e-e76e-6506ce55e192"
      },
      "execution_count": null,
      "outputs": [
        {
          "output_type": "stream",
          "name": "stderr",
          "text": [
            "/usr/local/lib/python3.7/dist-packages/seaborn/_decorators.py:43: FutureWarning: Pass the following variable as a keyword arg: x. From version 0.12, the only valid positional argument will be `data`, and passing other arguments without an explicit keyword will result in an error or misinterpretation.\n",
            "  FutureWarning\n"
          ]
        },
        {
          "output_type": "display_data",
          "data": {
            "text/plain": [
              "<Figure size 432x288 with 1 Axes>"
            ],
            "image/png": "[encoded data removed]"
          },
          "metadata": {
            "needs_background": "light"
          }
        }
      ]
    },
    {
      "cell_type": "code",
      "source": [
        "base_treinamento.drop(['id', 'tweet_date', 'query_used'], axis = 1, inplace=True) #vamos apagar essas colunas que sao irrelevantes pra análise"
      ],
      "metadata": {
        "id": "qXxqf5UqISX1"
      },
      "execution_count": null,
      "outputs": []
    },
    {
      "cell_type": "code",
      "source": [
        "base_treinamento.head() #colunas já removidas"
      ],
      "metadata": {
        "colab": {
          "base_uri": "https://localhost:8080/",
          "height": 206
        },
        "id": "NplFLGQEIY7h",
        "outputId": "7df31195-995a-48d4-84fc-f4e50736864c"
      },
      "execution_count": null,
      "outputs": [
        {
          "output_type": "execute_result",
          "data": {
            "text/plain": [
              "                                          tweet_text  sentiment\n",
              "0  @Laranjito76 A pessoa certa para isso seria o ...          1\n",
              "1  @behin_d_curtain Para mim, é precisamente o co...          1\n",
              "2  Vou fazer um video hoje... estou pensando em f...          1\n",
              "3  aaaaaaaa amei tanto essas polaroids, nem sei e...          1\n",
              "4  Valoriza o coração do menininho que vc tem. El...          1"
            ],
            "text/html": [
              "\n",
              "  <div id=\"df-89fad4aa-22cc-4200-a073-9f829b8bbf9c\">\n",
              "    <div class=\"colab-df-container\">\n",
              "      <div>\n",
              "<style scoped>\n",
              "    .dataframe tbody tr th:only-of-type {\n",
              "        vertical-align: middle;\n",
              "    }\n",
              "\n",
              "    .dataframe tbody tr th {\n",
              "        vertical-align: top;\n",
              "    }\n",
              "\n",
              "    .dataframe thead th {\n",
              "        text-align: right;\n",
              "    }\n",
              "</style>\n",
              "<table border=\"1\" class=\"dataframe\">\n",
              "  <thead>\n",
              "    <tr style=\"text-align: right;\">\n",
              "      <th></th>\n",
              "      <th>tweet_text</th>\n",
              "      <th>sentiment</th>\n",
              "    </tr>\n",
              "  </thead>\n",
              "  <tbody>\n",
              "    <tr>\n",
              "      <th>0</th>\n",
              "      <td>@Laranjito76 A pessoa certa para isso seria o ...</td>\n",
              "      <td>1</td>\n",
              "    </tr>\n",
              "    <tr>\n",
              "      <th>1</th>\n",
              "      <td>@behin_d_curtain Para mim, é precisamente o co...</td>\n",
              "      <td>1</td>\n",
              "    </tr>\n",
              "    <tr>\n",
              "      <th>2</th>\n",
              "      <td>Vou fazer um video hoje... estou pensando em f...</td>\n",
              "      <td>1</td>\n",
              "    </tr>\n",
              "    <tr>\n",
              "      <th>3</th>\n",
              "      <td>aaaaaaaa amei tanto essas polaroids, nem sei e...</td>\n",
              "      <td>1</td>\n",
              "    </tr>\n",
              "    <tr>\n",
              "      <th>4</th>\n",
              "      <td>Valoriza o coração do menininho que vc tem. El...</td>\n",
              "      <td>1</td>\n",
              "    </tr>\n",
              "  </tbody>\n",
              "</table>\n",
              "</div>\n",
              "      <button class=\"colab-df-convert\" onclick=\"convertToInteractive('df-89fad4aa-22cc-4200-a073-9f829b8bbf9c')\"\n",
              "              title=\"Convert this dataframe to an interactive table.\"\n",
              "              style=\"display:none;\">\n",
              "        \n",
              "  <svg xmlns=\"http://www.w3.org/2000/svg\" height=\"24px\"viewBox=\"0 0 24 24\"\n",
              "       width=\"24px\">\n",
              "    <path d=\"M0 0h24v24H0V0z\" fill=\"none\"/>\n",
              "    <path d=\"M18.56 5.44l.94 2.06.94-2.06 2.06-.94-2.06-.94-.94-2.06-.94 2.06-2.06.94zm-11 1L8.5 8.5l.94-2.06 2.06-.94-2.06-.94L8.5 2.5l-.94 2.06-2.06.94zm10 10l.94 2.06.94-2.06 2.06-.94-2.06-.94-.94-2.06-.94 2.06-2.06.94z\"/><path d=\"M17.41 7.96l-1.37-1.37c-.4-.4-.92-.59-1.43-.59-.52 0-1.04.2-1.43.59L10.3 9.45l-7.72 7.72c-.78.78-.78 2.05 0 2.83L4 21.41c.39.39.9.59 1.41.59.51 0 1.02-.2 1.41-.59l7.78-7.78 2.81-2.81c.8-.78.8-2.07 0-2.86zM5.41 20L4 18.59l7.72-7.72 1.47 1.35L5.41 20z\"/>\n",
              "  </svg>\n",
              "      </button>\n",
              "      \n",
              "  <style>\n",
              "    .colab-df-container {\n",
              "      display:flex;\n",
              "      flex-wrap:wrap;\n",
              "      gap: 12px;\n",
              "    }\n",
              "\n",
              "    .colab-df-convert {\n",
              "      background-color: #E8F0FE;\n",
              "      border: none;\n",
              "      border-radius: 50%;\n",
              "      cursor: pointer;\n",
              "      display: none;\n",
              "      fill: #1967D2;\n",
              "      height: 32px;\n",
              "      padding: 0 0 0 0;\n",
              "      width: 32px;\n",
              "    }\n",
              "\n",
              "    .colab-df-convert:hover {\n",
              "      background-color: #E2EBFA;\n",
              "      box-shadow: 0px 1px 2px rgba(60, 64, 67, 0.3), 0px 1px 3px 1px rgba(60, 64, 67, 0.15);\n",
              "      fill: #174EA6;\n",
              "    }\n",
              "\n",
              "    [theme=dark] .colab-df-convert {\n",
              "      background-color: #3B4455;\n",
              "      fill: #D2E3FC;\n",
              "    }\n",
              "\n",
              "    [theme=dark] .colab-df-convert:hover {\n",
              "      background-color: #434B5C;\n",
              "      box-shadow: 0px 1px 3px 1px rgba(0, 0, 0, 0.15);\n",
              "      filter: drop-shadow(0px 1px 2px rgba(0, 0, 0, 0.3));\n",
              "      fill: #FFFFFF;\n",
              "    }\n",
              "  </style>\n",
              "\n",
              "      <script>\n",
              "        const buttonEl =\n",
              "          document.querySelector('#df-89fad4aa-22cc-4200-a073-9f829b8bbf9c button.colab-df-convert');\n",
              "        buttonEl.style.display =\n",
              "          google.colab.kernel.accessAllowed ? 'block' : 'none';\n",
              "\n",
              "        async function convertToInteractive(key) {\n",
              "          const element = document.querySelector('#df-89fad4aa-22cc-4200-a073-9f829b8bbf9c');\n",
              "          const dataTable =\n",
              "            await google.colab.kernel.invokeFunction('convertToInteractive',\n",
              "                                                     [key], {});\n",
              "          if (!dataTable) return;\n",
              "\n",
              "          const docLinkHtml = 'Like what you see? Visit the ' +\n",
              "            '<a target=\"_blank\" href=https://colab.research.google.com/notebooks/data_table.ipynb>data table notebook</a>'\n",
              "            + ' to learn more about interactive tables.';\n",
              "          element.innerHTML = '';\n",
              "          dataTable['output_type'] = 'display_data';\n",
              "          await google.colab.output.renderOutput(dataTable, element);\n",
              "          const docLink = document.createElement('div');\n",
              "          docLink.innerHTML = docLinkHtml;\n",
              "          element.appendChild(docLink);\n",
              "        }\n",
              "      </script>\n",
              "    </div>\n",
              "  </div>\n",
              "  "
            ]
          },
          "metadata": {},
          "execution_count": 12
        }
      ]
    },
    {
      "cell_type": "markdown",
      "source": [
        "II) Base de dados - Teste"
      ],
      "metadata": {
        "id": "H4urUoV8IwZv"
      }
    },
    {
      "cell_type": "code",
      "source": [
        "base_teste = pd.read_csv('/content/Test.csv', delimiter=';')"
      ],
      "metadata": {
        "id": "48zZoTdgJClb"
      },
      "execution_count": null,
      "outputs": []
    },
    {
      "cell_type": "code",
      "source": [
        "base_teste.head()"
      ],
      "metadata": {
        "colab": {
          "base_uri": "https://localhost:8080/",
          "height": 206
        },
        "id": "1tQHvpkrrT5w",
        "outputId": "90e676ea-9b48-4310-837b-4fafd74d7f2d"
      },
      "execution_count": null,
      "outputs": [
        {
          "output_type": "execute_result",
          "data": {
            "text/plain": [
              "                    id                                         tweet_text  \\\n",
              "0  1029536486021099522                   @Gazo1a Nossa! Muito obrigada :)   \n",
              "1  1029536496368406528             @BerzGamer vai pa puta que te pariu :)   \n",
              "2  1029536531655131137  QUER MAIS DESCONTOS? (14/08) ⭐⭐⭐⭐⭐ 🌐 Confira n...   \n",
              "3  1029536560117678081  EU VOU PEGAR VCS, ME AJUDEM GALERA, PELO AMOR ...   \n",
              "4  1029536605852377088  Estávamos em casa do Zé e eu estava a morrer d...   \n",
              "\n",
              "                       tweet_date  sentiment query_used  \n",
              "0  Wed Aug 15 01:13:20 +0000 2018          1         :)  \n",
              "1  Wed Aug 15 01:13:23 +0000 2018          1         :)  \n",
              "2  Wed Aug 15 01:13:31 +0000 2018          1         :)  \n",
              "3  Wed Aug 15 01:13:38 +0000 2018          1         :)  \n",
              "4  Wed Aug 15 01:13:49 +0000 2018          1         :)  "
            ],
            "text/html": [
              "\n",
              "  <div id=\"df-f43fd6eb-cb80-434b-8a27-e0e6bd8b5781\">\n",
              "    <div class=\"colab-df-container\">\n",
              "      <div>\n",
              "<style scoped>\n",
              "    .dataframe tbody tr th:only-of-type {\n",
              "        vertical-align: middle;\n",
              "    }\n",
              "\n",
              "    .dataframe tbody tr th {\n",
              "        vertical-align: top;\n",
              "    }\n",
              "\n",
              "    .dataframe thead th {\n",
              "        text-align: right;\n",
              "    }\n",
              "</style>\n",
              "<table border=\"1\" class=\"dataframe\">\n",
              "  <thead>\n",
              "    <tr style=\"text-align: right;\">\n",
              "      <th></th>\n",
              "      <th>id</th>\n",
              "      <th>tweet_text</th>\n",
              "      <th>tweet_date</th>\n",
              "      <th>sentiment</th>\n",
              "      <th>query_used</th>\n",
              "    </tr>\n",
              "  </thead>\n",
              "  <tbody>\n",
              "    <tr>\n",
              "      <th>0</th>\n",
              "      <td>1029536486021099522</td>\n",
              "      <td>@Gazo1a Nossa! Muito obrigada :)</td>\n",
              "      <td>Wed Aug 15 01:13:20 +0000 2018</td>\n",
              "      <td>1</td>\n",
              "      <td>:)</td>\n",
              "    </tr>\n",
              "    <tr>\n",
              "      <th>1</th>\n",
              "      <td>1029536496368406528</td>\n",
              "      <td>@BerzGamer vai pa puta que te pariu :)</td>\n",
              "      <td>Wed Aug 15 01:13:23 +0000 2018</td>\n",
              "      <td>1</td>\n",
              "      <td>:)</td>\n",
              "    </tr>\n",
              "    <tr>\n",
              "      <th>2</th>\n",
              "      <td>1029536531655131137</td>\n",
              "      <td>QUER MAIS DESCONTOS? (14/08) ⭐⭐⭐⭐⭐ 🌐 Confira n...</td>\n",
              "      <td>Wed Aug 15 01:13:31 +0000 2018</td>\n",
              "      <td>1</td>\n",
              "      <td>:)</td>\n",
              "    </tr>\n",
              "    <tr>\n",
              "      <th>3</th>\n",
              "      <td>1029536560117678081</td>\n",
              "      <td>EU VOU PEGAR VCS, ME AJUDEM GALERA, PELO AMOR ...</td>\n",
              "      <td>Wed Aug 15 01:13:38 +0000 2018</td>\n",
              "      <td>1</td>\n",
              "      <td>:)</td>\n",
              "    </tr>\n",
              "    <tr>\n",
              "      <th>4</th>\n",
              "      <td>1029536605852377088</td>\n",
              "      <td>Estávamos em casa do Zé e eu estava a morrer d...</td>\n",
              "      <td>Wed Aug 15 01:13:49 +0000 2018</td>\n",
              "      <td>1</td>\n",
              "      <td>:)</td>\n",
              "    </tr>\n",
              "  </tbody>\n",
              "</table>\n",
              "</div>\n",
              "      <button class=\"colab-df-convert\" onclick=\"convertToInteractive('df-f43fd6eb-cb80-434b-8a27-e0e6bd8b5781')\"\n",
              "              title=\"Convert this dataframe to an interactive table.\"\n",
              "              style=\"display:none;\">\n",
              "        \n",
              "  <svg xmlns=\"http://www.w3.org/2000/svg\" height=\"24px\"viewBox=\"0 0 24 24\"\n",
              "       width=\"24px\">\n",
              "    <path d=\"M0 0h24v24H0V0z\" fill=\"none\"/>\n",
              "    <path d=\"M18.56 5.44l.94 2.06.94-2.06 2.06-.94-2.06-.94-.94-2.06-.94 2.06-2.06.94zm-11 1L8.5 8.5l.94-2.06 2.06-.94-2.06-.94L8.5 2.5l-.94 2.06-2.06.94zm10 10l.94 2.06.94-2.06 2.06-.94-2.06-.94-.94-2.06-.94 2.06-2.06.94z\"/><path d=\"M17.41 7.96l-1.37-1.37c-.4-.4-.92-.59-1.43-.59-.52 0-1.04.2-1.43.59L10.3 9.45l-7.72 7.72c-.78.78-.78 2.05 0 2.83L4 21.41c.39.39.9.59 1.41.59.51 0 1.02-.2 1.41-.59l7.78-7.78 2.81-2.81c.8-.78.8-2.07 0-2.86zM5.41 20L4 18.59l7.72-7.72 1.47 1.35L5.41 20z\"/>\n",
              "  </svg>\n",
              "      </button>\n",
              "      \n",
              "  <style>\n",
              "    .colab-df-container {\n",
              "      display:flex;\n",
              "      flex-wrap:wrap;\n",
              "      gap: 12px;\n",
              "    }\n",
              "\n",
              "    .colab-df-convert {\n",
              "      background-color: #E8F0FE;\n",
              "      border: none;\n",
              "      border-radius: 50%;\n",
              "      cursor: pointer;\n",
              "      display: none;\n",
              "      fill: #1967D2;\n",
              "      height: 32px;\n",
              "      padding: 0 0 0 0;\n",
              "      width: 32px;\n",
              "    }\n",
              "\n",
              "    .colab-df-convert:hover {\n",
              "      background-color: #E2EBFA;\n",
              "      box-shadow: 0px 1px 2px rgba(60, 64, 67, 0.3), 0px 1px 3px 1px rgba(60, 64, 67, 0.15);\n",
              "      fill: #174EA6;\n",
              "    }\n",
              "\n",
              "    [theme=dark] .colab-df-convert {\n",
              "      background-color: #3B4455;\n",
              "      fill: #D2E3FC;\n",
              "    }\n",
              "\n",
              "    [theme=dark] .colab-df-convert:hover {\n",
              "      background-color: #434B5C;\n",
              "      box-shadow: 0px 1px 3px 1px rgba(0, 0, 0, 0.15);\n",
              "      filter: drop-shadow(0px 1px 2px rgba(0, 0, 0, 0.3));\n",
              "      fill: #FFFFFF;\n",
              "    }\n",
              "  </style>\n",
              "\n",
              "      <script>\n",
              "        const buttonEl =\n",
              "          document.querySelector('#df-f43fd6eb-cb80-434b-8a27-e0e6bd8b5781 button.colab-df-convert');\n",
              "        buttonEl.style.display =\n",
              "          google.colab.kernel.accessAllowed ? 'block' : 'none';\n",
              "\n",
              "        async function convertToInteractive(key) {\n",
              "          const element = document.querySelector('#df-f43fd6eb-cb80-434b-8a27-e0e6bd8b5781');\n",
              "          const dataTable =\n",
              "            await google.colab.kernel.invokeFunction('convertToInteractive',\n",
              "                                                     [key], {});\n",
              "          if (!dataTable) return;\n",
              "\n",
              "          const docLinkHtml = 'Like what you see? Visit the ' +\n",
              "            '<a target=\"_blank\" href=https://colab.research.google.com/notebooks/data_table.ipynb>data table notebook</a>'\n",
              "            + ' to learn more about interactive tables.';\n",
              "          element.innerHTML = '';\n",
              "          dataTable['output_type'] = 'display_data';\n",
              "          await google.colab.output.renderOutput(dataTable, element);\n",
              "          const docLink = document.createElement('div');\n",
              "          docLink.innerHTML = docLinkHtml;\n",
              "          element.appendChild(docLink);\n",
              "        }\n",
              "      </script>\n",
              "    </div>\n",
              "  </div>\n",
              "  "
            ]
          },
          "metadata": {},
          "execution_count": 14
        }
      ]
    },
    {
      "cell_type": "code",
      "source": [
        "base_teste.shape #base de treinamento ficou com 50 mil, para 5 mil na base de teste"
      ],
      "metadata": {
        "colab": {
          "base_uri": "https://localhost:8080/"
        },
        "id": "QdefXwTurZVG",
        "outputId": "6d0849b5-8ed4-477f-dc2c-68f139641da4"
      },
      "execution_count": null,
      "outputs": [
        {
          "output_type": "execute_result",
          "data": {
            "text/plain": [
              "(5000, 5)"
            ]
          },
          "metadata": {},
          "execution_count": 15
        }
      ]
    },
    {
      "cell_type": "code",
      "source": [
        "sns.countplot(base_teste['sentiment'], label='Contagem'); #2500 para classe 0, 2500 para classe 1"
      ],
      "metadata": {
        "colab": {
          "base_uri": "https://localhost:8080/",
          "height": 334
        },
        "id": "tkPbQqGtrfGJ",
        "outputId": "f64681e7-3795-49fd-9785-b7dd39b866d1"
      },
      "execution_count": null,
      "outputs": [
        {
          "output_type": "stream",
          "name": "stderr",
          "text": [
            "/usr/local/lib/python3.7/dist-packages/seaborn/_decorators.py:43: FutureWarning: Pass the following variable as a keyword arg: x. From version 0.12, the only valid positional argument will be `data`, and passing other arguments without an explicit keyword will result in an error or misinterpretation.\n",
            "  FutureWarning\n"
          ]
        },
        {
          "output_type": "display_data",
          "data": {
            "text/plain": [
              "<Figure size 432x288 with 1 Axes>"
            ],
            "image/png": "[encoded data removed]"
          },
          "metadata": {
            "needs_background": "light"
          }
        }
      ]
    },
    {
      "cell_type": "code",
      "source": [
        "base_teste.drop(['id', 'tweet_date', 'query_used'], axis = 1, inplace=True) #removendo também na base de teste para ter apenas o texto e o sentimento"
      ],
      "metadata": {
        "id": "ynRpxa8OrmA4"
      },
      "execution_count": null,
      "outputs": []
    },
    {
      "cell_type": "code",
      "source": [
        "base_teste.head()"
      ],
      "metadata": {
        "colab": {
          "base_uri": "https://localhost:8080/",
          "height": 206
        },
        "id": "FCfulew7rpHd",
        "outputId": "09abce3d-d79e-4d34-e6d1-8cf00e225848"
      },
      "execution_count": null,
      "outputs": [
        {
          "output_type": "execute_result",
          "data": {
            "text/plain": [
              "                                          tweet_text  sentiment\n",
              "0                   @Gazo1a Nossa! Muito obrigada :)          1\n",
              "1             @BerzGamer vai pa puta que te pariu :)          1\n",
              "2  QUER MAIS DESCONTOS? (14/08) ⭐⭐⭐⭐⭐ 🌐 Confira n...          1\n",
              "3  EU VOU PEGAR VCS, ME AJUDEM GALERA, PELO AMOR ...          1\n",
              "4  Estávamos em casa do Zé e eu estava a morrer d...          1"
            ],
            "text/html": [
              "\n",
              "  <div id=\"df-f956e2f2-c5e8-47fd-abf3-38c8ee0e893c\">\n",
              "    <div class=\"colab-df-container\">\n",
              "      <div>\n",
              "<style scoped>\n",
              "    .dataframe tbody tr th:only-of-type {\n",
              "        vertical-align: middle;\n",
              "    }\n",
              "\n",
              "    .dataframe tbody tr th {\n",
              "        vertical-align: top;\n",
              "    }\n",
              "\n",
              "    .dataframe thead th {\n",
              "        text-align: right;\n",
              "    }\n",
              "</style>\n",
              "<table border=\"1\" class=\"dataframe\">\n",
              "  <thead>\n",
              "    <tr style=\"text-align: right;\">\n",
              "      <th></th>\n",
              "      <th>tweet_text</th>\n",
              "      <th>sentiment</th>\n",
              "    </tr>\n",
              "  </thead>\n",
              "  <tbody>\n",
              "    <tr>\n",
              "      <th>0</th>\n",
              "      <td>@Gazo1a Nossa! Muito obrigada :)</td>\n",
              "      <td>1</td>\n",
              "    </tr>\n",
              "    <tr>\n",
              "      <th>1</th>\n",
              "      <td>@BerzGamer vai pa puta que te pariu :)</td>\n",
              "      <td>1</td>\n",
              "    </tr>\n",
              "    <tr>\n",
              "      <th>2</th>\n",
              "      <td>QUER MAIS DESCONTOS? (14/08) ⭐⭐⭐⭐⭐ 🌐 Confira n...</td>\n",
              "      <td>1</td>\n",
              "    </tr>\n",
              "    <tr>\n",
              "      <th>3</th>\n",
              "      <td>EU VOU PEGAR VCS, ME AJUDEM GALERA, PELO AMOR ...</td>\n",
              "      <td>1</td>\n",
              "    </tr>\n",
              "    <tr>\n",
              "      <th>4</th>\n",
              "      <td>Estávamos em casa do Zé e eu estava a morrer d...</td>\n",
              "      <td>1</td>\n",
              "    </tr>\n",
              "  </tbody>\n",
              "</table>\n",
              "</div>\n",
              "      <button class=\"colab-df-convert\" onclick=\"convertToInteractive('df-f956e2f2-c5e8-47fd-abf3-38c8ee0e893c')\"\n",
              "              title=\"Convert this dataframe to an interactive table.\"\n",
              "              style=\"display:none;\">\n",
              "        \n",
              "  <svg xmlns=\"http://www.w3.org/2000/svg\" height=\"24px\"viewBox=\"0 0 24 24\"\n",
              "       width=\"24px\">\n",
              "    <path d=\"M0 0h24v24H0V0z\" fill=\"none\"/>\n",
              "    <path d=\"M18.56 5.44l.94 2.06.94-2.06 2.06-.94-2.06-.94-.94-2.06-.94 2.06-2.06.94zm-11 1L8.5 8.5l.94-2.06 2.06-.94-2.06-.94L8.5 2.5l-.94 2.06-2.06.94zm10 10l.94 2.06.94-2.06 2.06-.94-2.06-.94-.94-2.06-.94 2.06-2.06.94z\"/><path d=\"M17.41 7.96l-1.37-1.37c-.4-.4-.92-.59-1.43-.59-.52 0-1.04.2-1.43.59L10.3 9.45l-7.72 7.72c-.78.78-.78 2.05 0 2.83L4 21.41c.39.39.9.59 1.41.59.51 0 1.02-.2 1.41-.59l7.78-7.78 2.81-2.81c.8-.78.8-2.07 0-2.86zM5.41 20L4 18.59l7.72-7.72 1.47 1.35L5.41 20z\"/>\n",
              "  </svg>\n",
              "      </button>\n",
              "      \n",
              "  <style>\n",
              "    .colab-df-container {\n",
              "      display:flex;\n",
              "      flex-wrap:wrap;\n",
              "      gap: 12px;\n",
              "    }\n",
              "\n",
              "    .colab-df-convert {\n",
              "      background-color: #E8F0FE;\n",
              "      border: none;\n",
              "      border-radius: 50%;\n",
              "      cursor: pointer;\n",
              "      display: none;\n",
              "      fill: #1967D2;\n",
              "      height: 32px;\n",
              "      padding: 0 0 0 0;\n",
              "      width: 32px;\n",
              "    }\n",
              "\n",
              "    .colab-df-convert:hover {\n",
              "      background-color: #E2EBFA;\n",
              "      box-shadow: 0px 1px 2px rgba(60, 64, 67, 0.3), 0px 1px 3px 1px rgba(60, 64, 67, 0.15);\n",
              "      fill: #174EA6;\n",
              "    }\n",
              "\n",
              "    [theme=dark] .colab-df-convert {\n",
              "      background-color: #3B4455;\n",
              "      fill: #D2E3FC;\n",
              "    }\n",
              "\n",
              "    [theme=dark] .colab-df-convert:hover {\n",
              "      background-color: #434B5C;\n",
              "      box-shadow: 0px 1px 3px 1px rgba(0, 0, 0, 0.15);\n",
              "      filter: drop-shadow(0px 1px 2px rgba(0, 0, 0, 0.3));\n",
              "      fill: #FFFFFF;\n",
              "    }\n",
              "  </style>\n",
              "\n",
              "      <script>\n",
              "        const buttonEl =\n",
              "          document.querySelector('#df-f956e2f2-c5e8-47fd-abf3-38c8ee0e893c button.colab-df-convert');\n",
              "        buttonEl.style.display =\n",
              "          google.colab.kernel.accessAllowed ? 'block' : 'none';\n",
              "\n",
              "        async function convertToInteractive(key) {\n",
              "          const element = document.querySelector('#df-f956e2f2-c5e8-47fd-abf3-38c8ee0e893c');\n",
              "          const dataTable =\n",
              "            await google.colab.kernel.invokeFunction('convertToInteractive',\n",
              "                                                     [key], {});\n",
              "          if (!dataTable) return;\n",
              "\n",
              "          const docLinkHtml = 'Like what you see? Visit the ' +\n",
              "            '<a target=\"_blank\" href=https://colab.research.google.com/notebooks/data_table.ipynb>data table notebook</a>'\n",
              "            + ' to learn more about interactive tables.';\n",
              "          element.innerHTML = '';\n",
              "          dataTable['output_type'] = 'display_data';\n",
              "          await google.colab.output.renderOutput(dataTable, element);\n",
              "          const docLink = document.createElement('div');\n",
              "          docLink.innerHTML = docLinkHtml;\n",
              "          element.appendChild(docLink);\n",
              "        }\n",
              "      </script>\n",
              "    </div>\n",
              "  </div>\n",
              "  "
            ]
          },
          "metadata": {},
          "execution_count": 18
        }
      ]
    },
    {
      "cell_type": "code",
      "source": [
        "sns.heatmap(pd.isnull(base_teste)); #nao temos valores nulos, portanto nao precisamos modificar mais e já podemos fazer o pré processamento"
      ],
      "metadata": {
        "colab": {
          "base_uri": "https://localhost:8080/",
          "height": 271
        },
        "id": "enF_XZQdrtFg",
        "outputId": "0713f06e-3bd0-45dc-b1c2-f21c27d68fd4"
      },
      "execution_count": null,
      "outputs": [
        {
          "output_type": "display_data",
          "data": {
            "text/plain": [
              "<Figure size 432x288 with 2 Axes>"
            ],
            "image/png": "[encoded data removed]"
          },
          "metadata": {
            "needs_background": "light"
          }
        }
      ]
    },
    {
      "cell_type": "markdown",
      "source": [
        "III) Função para o pré processamento dos textos"
      ],
      "metadata": {
        "id": "gm38cHCury4d"
      }
    },
    {
      "cell_type": "markdown",
      "source": [
        "Vamos fazer a edição de:\n",
        "\n",
        ">* Alterar para letras minúsculas\n",
        ">* Remover caracteres do nome de usuário \"@\"\n",
        ">* Remoção de URLs\n",
        ">* Retirar os espaços em brancos que são gerados\n",
        ">* Tratamento de emojis\n",
        ">* Stop words, lematização e pontuações \n"
      ],
      "metadata": {
        "id": "HmWuqXFG8F4B"
      }
    },
    {
      "cell_type": "code",
      "source": [
        "pln = spacy.load ('pt')\n",
        "pln"
      ],
      "metadata": {
        "colab": {
          "base_uri": "https://localhost:8080/"
        },
        "id": "FzEym_qur-eP",
        "outputId": "bee2a6e8-6692-4efc-a9c8-afd8e8346b86"
      },
      "execution_count": null,
      "outputs": [
        {
          "output_type": "execute_result",
          "data": {
            "text/plain": [
              "<spacy.lang.pt.Portuguese at 0x7f6b50bc8690>"
            ]
          },
          "metadata": {},
          "execution_count": 20
        }
      ]
    },
    {
      "cell_type": "code",
      "source": [
        "base_treinamento['tweet_text'][1]"
      ],
      "metadata": {
        "colab": {
          "base_uri": "https://localhost:8080/",
          "height": 35
        },
        "id": "P38y_J4n9N4Z",
        "outputId": "5cfd0a83-28b4-41cd-89b2-4e2212a06511"
      },
      "execution_count": null,
      "outputs": [
        {
          "output_type": "execute_result",
          "data": {
            "text/plain": [
              "'@behin_d_curtain Para mim, é precisamente o contrário :) Vem a chuva e vem a boa disposição :)'"
            ],
            "application/vnd.google.colaboratory.intrinsic+json": {
              "type": "string"
            }
          },
          "metadata": {},
          "execution_count": 21
        }
      ]
    },
    {
      "cell_type": "code",
      "source": [
        "stop_words = spacy.lang.pt.stop_words.STOP_WORDS"
      ],
      "metadata": {
        "id": "iBR9w3XM9ZFO"
      },
      "execution_count": null,
      "outputs": []
    },
    {
      "cell_type": "code",
      "source": [
        "print(stop_words)"
      ],
      "metadata": {
        "colab": {
          "base_uri": "https://localhost:8080/"
        },
        "id": "ro3yeQ0v9eqc",
        "outputId": "2de8d9a2-956b-49fa-bf04-da3007f1f222"
      },
      "execution_count": null,
      "outputs": [
        {
          "output_type": "stream",
          "name": "stdout",
          "text": [
            "{'eventual', 'minha', 'outra', 'conhecido', 'são', 'fim', 'estes', 'ligado', 'fará', 'teus', 'dois', 'pode', 'nada', 'fostes', 'tivemos', 'vos', 'cima', 'cá', 'estou', 'isto', 'catorze', 'esteve', 'sob', 'vais', 'vez', 'apoio', 'meio', 'vários', 'qualquer', 'usa', 'teve', 'próximo', 'logo', 'porquê', 'estive', 'era', 'iniciar', 'meses', 'bastante', 'isso', 'os', 'este', 'sem', 'cinco', 'estivestes', 'nível', 'primeira', 'estivemos', 'assim', 'você', 'quinto', 'dão', 'mil', 'vós', 'somente', 'quieta', 'meu', 'momento', 'inclusive', 'com', 'sistema', 'grandes', 'pelos', 'possivelmente', 'sois', 'suas', 'diante', 'vêm', 'parte', 'coisa', 'custa', 'seria', 'sou', 'depois', 'vossos', 'nuns', 'fez', 'área', 'faço', 'parece', 'atrás', 'fomos', 'aquela', 'poder', 'agora', 'pontos', 'devem', 'valor', 'sempre', 'pouca', 'de', 'apontar', 'fazes', 'dar', 'tais', 'onde', 'muitos', 'comprido', 'é', 'entre', 'tanta', 'puderam', 'alguns', 'pelas', 'ter', 'uma', 'quais', 'após', 'longe', 'foi', 'foram', 'têm', 'nenhuma', 'ponto', 'lhe', 'ou', 'outras', 'tive', 'seu', 'cujo', 'pela', 'temos', 'seus', 'esses', 'sexto', 'no', 'tipo', 'segundo', 'fora', 'obrigado', 'vossa', 'certamente', 'desse', 'somos', 'oitavo', 'ver', 'vão', 'neste', 'próprio', 'caminho', 'lugar', 'quer', 'direita', 'estava', 'dentro', 'faz', 'sua', 'bem', 'dezanove', 'sabe', 'à', 'ali', 'sétima', 'novo', 'corrente', 'três', 'estão', 'sete', 'portanto', 'estará', 'dessa', 'quero', 'sexta', 'tentei', 'dezassete', 'que', 'sétimo', 'final', 'conhecida', 'tente', 'do', 'for', 'vinda', 'breve', 'lá', 'mais', 'número', 'meus', 'tens', 'contudo', 'tiveste', 'conselho', 'num', 'nos', 'então', 'relação', 'porém', 'só', 'te', 'nova', 'grupo', 'fazia', 'posso', 'esse', 'novas', 'inicio', 'demais', 'eles', 'todos', 'em', 'sobre', 'aquelas', 'além', 'apenas', 'pois', 'veja', 'possível', 'primeiro', 'esta', 'vinte', 'porquanto', 'nove', 'cento', 'podem', 'quieto', 'questão', 'antes', 'números', 'contra', 'quando', 'povo', 'um', 'acerca', 'dizem', 'pegar', 'está', 'teu', 'vens', 'cedo', 'ir', 'tanto', 'como', 'essas', 'naquele', 'foste', 'mas', 'nossos', 'nessa', 'nem', 'oitava', 'quem', 'falta', 'essa', 'estiveram', 'pouco', 'estas', 'naquela', 'tua', 'tempo', 'tu', 'comprida', 'me', 'lado', 'querem', 'tem', 'aquilo', 'todas', 'já', 'vai', 'fazemos', 'forma', 'vocês', 'dizer', 'eu', 'fazem', 'nesse', 'maior', 'tão', 'todo', 'muito', 'és', 'tentar', 'ambas', 'seis', 'fazer', 'favor', 'onze', 'numa', 'também', 'exemplo', 'as', 'às', 'porque', 'quarto', 'nunca', 'poderá', 'outros', 'novos', 'deverá', 'põem', 'dos', 'pôde', 'aqueles', 'treze', 'vosso', 'na', 'toda', 'põe', 'irá', 'umas', 'vossas', 'podia', 'cuja', 'quinta', 'quanto', 'apoia', 'zero', 'ser', 'tentaram', 'dá', 'dez', 'tivestes', 'não', 'quinze', 'uns', 'segunda', 'certeza', 'ele', 'quê', 'último', 'estás', 'usar', 'vem', 'por', 'baixo', 'cada', 'nesta', 'perto', 'embora', 'dezasseis', 'ontem', 'mal', 'desta', 'disso', 'tal', 'até', 'terceiro', 'quarta', 'saber', 'debaixo', 'máximo', 'vezes', 'adeus', 'através', 'boa', 'des', 'diz', 'nossas', 'partir', 'algumas', 'nas', 'das', 'estiveste', 'pelo', 'enquanto', 'aqui', 'tarde', 'tuas', 'daquele', 'deve', 'tudo', 'maioria', 'doze', 'quatro', 'obrigada', 'próxima', 'oito', 'desde', 'qual', 'tenho', 'ambos', 'aos', 'estado', 'geral', 'fui', 'daquela', 'para', 'nossa', 'se', 'tendes', 'mês', 'da', 'minhas', 'algo', 'grande', 'elas', 'ainda', 'nosso', 'deste', 'estar', 'vindo', 'ademais', 'aí', 'fazeis', 'sei', 'ora', 'tiveram', 'dezoito', 'ela', 'sim', 'talvez', 'duas', 'nós', 'posição', 'bom', 'menor', 'aquele', 'menos', 'terceira', 'local', 'mesmo', 'ao', 'maiorias'}\n"
          ]
        }
      ]
    },
    {
      "cell_type": "code",
      "source": [
        "string.punctuation"
      ],
      "metadata": {
        "colab": {
          "base_uri": "https://localhost:8080/",
          "height": 35
        },
        "id": "RYx_pwU29paU",
        "outputId": "c4c64bfe-06cb-4819-a388-ed37f553f57d"
      },
      "execution_count": null,
      "outputs": [
        {
          "output_type": "execute_result",
          "data": {
            "text/plain": [
              "'!\"#$%&\\'()*+,-./:;<=>?@[\\\\]^_`{|}~'"
            ],
            "application/vnd.google.colaboratory.intrinsic+json": {
              "type": "string"
            }
          },
          "metadata": {},
          "execution_count": 24
        }
      ]
    },
    {
      "cell_type": "code",
      "source": [
        "def preprocessamento(texto):\n",
        "\n",
        "  texto = texto.lower() #letras minúsculas\n",
        "\n",
        "  texto = re.sub(r\"@[A-Za-z0-9$-_@.&+]+\", ' ', texto) #nome do usuário\n",
        "\n",
        "  texto = re.sub(r\"https?://[A-Za-z0-9./]+\", ' ', texto) #urls\n",
        "\n",
        "  texto = re.sub(r\" +\", ' ', texto) #espaços em branco\n",
        "\n",
        "\n",
        "  lista_emocoes = {':)': 'emocaopositiva', #emojis\n",
        "                   ':d': 'emocaopositiva',\n",
        "                   ':(': 'emocaonegativa'}\n",
        "  for emocao in lista_emocoes:\n",
        "    texto = texto.replace(emocao, lista_emocoes[emocao])\n",
        "\n",
        "  documento = pln(texto) #lematização\n",
        "\n",
        "  lista = []\n",
        "  for token in documento:\n",
        "    lista.append(token.lemma_)\n",
        "  \n",
        "  #Stop words e pontuações\n",
        "  lista = [palavra for palavra in lista if palavra not in stop_words and palavra not in string.punctuation]\n",
        "  lista = ' '.join([str(elemento) for elemento in lista if not elemento.isdigit()])\n",
        "  \n",
        "  return lista"
      ],
      "metadata": {
        "id": "PN2u_fzl_LUX"
      },
      "execution_count": null,
      "outputs": []
    },
    {
      "cell_type": "code",
      "source": [
        "#frase de teste para a função, podemos observar que foi removido corretamente\n",
        "texto_teste = '@behin_d_curtain :D Para :( mim, http://www.iaexpert.com.br é precisamente o contrário :) Vem a chuva e vem a boa disposição :)'\n",
        "resultado = preprocessamento(texto_teste)\n",
        "resultado"
      ],
      "metadata": {
        "colab": {
          "base_uri": "https://localhost:8080/",
          "height": 35
        },
        "id": "fzeoVOtQASCI",
        "outputId": "dbaeaf45-7c7e-4024-949d-4aabe8c45122"
      },
      "execution_count": null,
      "outputs": [
        {
          "output_type": "execute_result",
          "data": {
            "text/plain": [
              "'  emocaopositiva parir emocaonegativa mim precisamente o contrário emocaopositiva vir o chuva e vir o disposição emocaopositiva'"
            ],
            "application/vnd.google.colaboratory.intrinsic+json": {
              "type": "string"
            }
          },
          "metadata": {},
          "execution_count": 26
        }
      ]
    },
    {
      "cell_type": "markdown",
      "source": [
        "IV - Pré processamento - base de dados"
      ],
      "metadata": {
        "id": "5vnvup-9Aauu"
      }
    },
    {
      "cell_type": "markdown",
      "source": [
        "Limpeza dos textos"
      ],
      "metadata": {
        "id": "4hmcGRwtApmd"
      }
    },
    {
      "cell_type": "code",
      "source": [
        "base_treinamento.head(10)"
      ],
      "metadata": {
        "colab": {
          "base_uri": "https://localhost:8080/",
          "height": 363
        },
        "id": "HFcJSH5mAvqb",
        "outputId": "592b247f-d939-4556-f3a0-c76878f29dbb"
      },
      "execution_count": null,
      "outputs": [
        {
          "output_type": "execute_result",
          "data": {
            "text/plain": [
              "                                          tweet_text  sentiment\n",
              "0  @Laranjito76 A pessoa certa para isso seria o ...          1\n",
              "1  @behin_d_curtain Para mim, é precisamente o co...          1\n",
              "2  Vou fazer um video hoje... estou pensando em f...          1\n",
              "3  aaaaaaaa amei tanto essas polaroids, nem sei e...          1\n",
              "4  Valoriza o coração do menininho que vc tem. El...          1\n",
              "5       @KingJokerLeto mas amiga eu to aqui ainda :)          1\n",
              "6                   @RivasJairo Bravo, Jairo!!! :)))          1\n",
              "7  @inquilinasls @Spotify socorro ksoaksosks acho...          1\n",
              "8  @chimekarlla gosto muito de fazenda :) , mas m...          1\n",
              "9                            Amanha vou ver venom :D          1"
            ],
            "text/html": [
              "\n",
              "  <div id=\"df-436904b5-2a7b-4a06-91cb-95c713db5648\">\n",
              "    <div class=\"colab-df-container\">\n",
              "      <div>\n",
              "<style scoped>\n",
              "    .dataframe tbody tr th:only-of-type {\n",
              "        vertical-align: middle;\n",
              "    }\n",
              "\n",
              "    .dataframe tbody tr th {\n",
              "        vertical-align: top;\n",
              "    }\n",
              "\n",
              "    .dataframe thead th {\n",
              "        text-align: right;\n",
              "    }\n",
              "</style>\n",
              "<table border=\"1\" class=\"dataframe\">\n",
              "  <thead>\n",
              "    <tr style=\"text-align: right;\">\n",
              "      <th></th>\n",
              "      <th>tweet_text</th>\n",
              "      <th>sentiment</th>\n",
              "    </tr>\n",
              "  </thead>\n",
              "  <tbody>\n",
              "    <tr>\n",
              "      <th>0</th>\n",
              "      <td>@Laranjito76 A pessoa certa para isso seria o ...</td>\n",
              "      <td>1</td>\n",
              "    </tr>\n",
              "    <tr>\n",
              "      <th>1</th>\n",
              "      <td>@behin_d_curtain Para mim, é precisamente o co...</td>\n",
              "      <td>1</td>\n",
              "    </tr>\n",
              "    <tr>\n",
              "      <th>2</th>\n",
              "      <td>Vou fazer um video hoje... estou pensando em f...</td>\n",
              "      <td>1</td>\n",
              "    </tr>\n",
              "    <tr>\n",
              "      <th>3</th>\n",
              "      <td>aaaaaaaa amei tanto essas polaroids, nem sei e...</td>\n",
              "      <td>1</td>\n",
              "    </tr>\n",
              "    <tr>\n",
              "      <th>4</th>\n",
              "      <td>Valoriza o coração do menininho que vc tem. El...</td>\n",
              "      <td>1</td>\n",
              "    </tr>\n",
              "    <tr>\n",
              "      <th>5</th>\n",
              "      <td>@KingJokerLeto mas amiga eu to aqui ainda :)</td>\n",
              "      <td>1</td>\n",
              "    </tr>\n",
              "    <tr>\n",
              "      <th>6</th>\n",
              "      <td>@RivasJairo Bravo, Jairo!!! :)))</td>\n",
              "      <td>1</td>\n",
              "    </tr>\n",
              "    <tr>\n",
              "      <th>7</th>\n",
              "      <td>@inquilinasls @Spotify socorro ksoaksosks acho...</td>\n",
              "      <td>1</td>\n",
              "    </tr>\n",
              "    <tr>\n",
              "      <th>8</th>\n",
              "      <td>@chimekarlla gosto muito de fazenda :) , mas m...</td>\n",
              "      <td>1</td>\n",
              "    </tr>\n",
              "    <tr>\n",
              "      <th>9</th>\n",
              "      <td>Amanha vou ver venom :D</td>\n",
              "      <td>1</td>\n",
              "    </tr>\n",
              "  </tbody>\n",
              "</table>\n",
              "</div>\n",
              "      <button class=\"colab-df-convert\" onclick=\"convertToInteractive('df-436904b5-2a7b-4a06-91cb-95c713db5648')\"\n",
              "              title=\"Convert this dataframe to an interactive table.\"\n",
              "              style=\"display:none;\">\n",
              "        \n",
              "  <svg xmlns=\"http://www.w3.org/2000/svg\" height=\"24px\"viewBox=\"0 0 24 24\"\n",
              "       width=\"24px\">\n",
              "    <path d=\"M0 0h24v24H0V0z\" fill=\"none\"/>\n",
              "    <path d=\"M18.56 5.44l.94 2.06.94-2.06 2.06-.94-2.06-.94-.94-2.06-.94 2.06-2.06.94zm-11 1L8.5 8.5l.94-2.06 2.06-.94-2.06-.94L8.5 2.5l-.94 2.06-2.06.94zm10 10l.94 2.06.94-2.06 2.06-.94-2.06-.94-.94-2.06-.94 2.06-2.06.94z\"/><path d=\"M17.41 7.96l-1.37-1.37c-.4-.4-.92-.59-1.43-.59-.52 0-1.04.2-1.43.59L10.3 9.45l-7.72 7.72c-.78.78-.78 2.05 0 2.83L4 21.41c.39.39.9.59 1.41.59.51 0 1.02-.2 1.41-.59l7.78-7.78 2.81-2.81c.8-.78.8-2.07 0-2.86zM5.41 20L4 18.59l7.72-7.72 1.47 1.35L5.41 20z\"/>\n",
              "  </svg>\n",
              "      </button>\n",
              "      \n",
              "  <style>\n",
              "    .colab-df-container {\n",
              "      display:flex;\n",
              "      flex-wrap:wrap;\n",
              "      gap: 12px;\n",
              "    }\n",
              "\n",
              "    .colab-df-convert {\n",
              "      background-color: #E8F0FE;\n",
              "      border: none;\n",
              "      border-radius: 50%;\n",
              "      cursor: pointer;\n",
              "      display: none;\n",
              "      fill: #1967D2;\n",
              "      height: 32px;\n",
              "      padding: 0 0 0 0;\n",
              "      width: 32px;\n",
              "    }\n",
              "\n",
              "    .colab-df-convert:hover {\n",
              "      background-color: #E2EBFA;\n",
              "      box-shadow: 0px 1px 2px rgba(60, 64, 67, 0.3), 0px 1px 3px 1px rgba(60, 64, 67, 0.15);\n",
              "      fill: #174EA6;\n",
              "    }\n",
              "\n",
              "    [theme=dark] .colab-df-convert {\n",
              "      background-color: #3B4455;\n",
              "      fill: #D2E3FC;\n",
              "    }\n",
              "\n",
              "    [theme=dark] .colab-df-convert:hover {\n",
              "      background-color: #434B5C;\n",
              "      box-shadow: 0px 1px 3px 1px rgba(0, 0, 0, 0.15);\n",
              "      filter: drop-shadow(0px 1px 2px rgba(0, 0, 0, 0.3));\n",
              "      fill: #FFFFFF;\n",
              "    }\n",
              "  </style>\n",
              "\n",
              "      <script>\n",
              "        const buttonEl =\n",
              "          document.querySelector('#df-436904b5-2a7b-4a06-91cb-95c713db5648 button.colab-df-convert');\n",
              "        buttonEl.style.display =\n",
              "          google.colab.kernel.accessAllowed ? 'block' : 'none';\n",
              "\n",
              "        async function convertToInteractive(key) {\n",
              "          const element = document.querySelector('#df-436904b5-2a7b-4a06-91cb-95c713db5648');\n",
              "          const dataTable =\n",
              "            await google.colab.kernel.invokeFunction('convertToInteractive',\n",
              "                                                     [key], {});\n",
              "          if (!dataTable) return;\n",
              "\n",
              "          const docLinkHtml = 'Like what you see? Visit the ' +\n",
              "            '<a target=\"_blank\" href=https://colab.research.google.com/notebooks/data_table.ipynb>data table notebook</a>'\n",
              "            + ' to learn more about interactive tables.';\n",
              "          element.innerHTML = '';\n",
              "          dataTable['output_type'] = 'display_data';\n",
              "          await google.colab.output.renderOutput(dataTable, element);\n",
              "          const docLink = document.createElement('div');\n",
              "          docLink.innerHTML = docLinkHtml;\n",
              "          element.appendChild(docLink);\n",
              "        }\n",
              "      </script>\n",
              "    </div>\n",
              "  </div>\n",
              "  "
            ]
          },
          "metadata": {},
          "execution_count": 27
        }
      ]
    },
    {
      "cell_type": "code",
      "source": [
        "base_treinamento['tweet_text'] = base_treinamento['tweet_text'].apply(preprocessamento)"
      ],
      "metadata": {
        "id": "4LorOXRRAw5j"
      },
      "execution_count": null,
      "outputs": []
    },
    {
      "cell_type": "code",
      "source": [
        "base_treinamento.head(10) #podemos observar que já foi removido o caractere e os emojis"
      ],
      "metadata": {
        "colab": {
          "base_uri": "https://localhost:8080/",
          "height": 363
        },
        "id": "TSa-9xs9MYJ6",
        "outputId": "4a31bb55-e067-4ee3-e72e-83e254103e14"
      },
      "execution_count": null,
      "outputs": [
        {
          "output_type": "execute_result",
          "data": {
            "text/plain": [
              "                                          tweet_text  sentiment\n",
              "0    o pessoa certo parir seriar o valer e azeved...          1\n",
              "1    parir mim precisamente o contrário emocaopos...          1\n",
              "2  video hoje ... pensar falar sobrar o meter csg...          1\n",
              "3  aaaaaaaa amar polaroids expressar o quantum to...          1\n",
              "4  valorizar o coração menino vc diferente o sorr...          1\n",
              "5                            amigo to emocaopositiva          1\n",
              "6                         bravo jairo emocaopositiva          1\n",
              "7        socorrer ksoaksosks achar to o caixa som :p          1\n",
              "8    gostar fazenda emocaopositiva morrer medo ga...          1\n",
              "9                       amanhar venom emocaopositiva          1"
            ],
            "text/html": [
              "\n",
              "  <div id=\"df-d34ee974-5d99-4f7d-b0d5-5d4b807d03c5\">\n",
              "    <div class=\"colab-df-container\">\n",
              "      <div>\n",
              "<style scoped>\n",
              "    .dataframe tbody tr th:only-of-type {\n",
              "        vertical-align: middle;\n",
              "    }\n",
              "\n",
              "    .dataframe tbody tr th {\n",
              "        vertical-align: top;\n",
              "    }\n",
              "\n",
              "    .dataframe thead th {\n",
              "        text-align: right;\n",
              "    }\n",
              "</style>\n",
              "<table border=\"1\" class=\"dataframe\">\n",
              "  <thead>\n",
              "    <tr style=\"text-align: right;\">\n",
              "      <th></th>\n",
              "      <th>tweet_text</th>\n",
              "      <th>sentiment</th>\n",
              "    </tr>\n",
              "  </thead>\n",
              "  <tbody>\n",
              "    <tr>\n",
              "      <th>0</th>\n",
              "      <td>o pessoa certo parir seriar o valer e azeved...</td>\n",
              "      <td>1</td>\n",
              "    </tr>\n",
              "    <tr>\n",
              "      <th>1</th>\n",
              "      <td>parir mim precisamente o contrário emocaopos...</td>\n",
              "      <td>1</td>\n",
              "    </tr>\n",
              "    <tr>\n",
              "      <th>2</th>\n",
              "      <td>video hoje ... pensar falar sobrar o meter csg...</td>\n",
              "      <td>1</td>\n",
              "    </tr>\n",
              "    <tr>\n",
              "      <th>3</th>\n",
              "      <td>aaaaaaaa amar polaroids expressar o quantum to...</td>\n",
              "      <td>1</td>\n",
              "    </tr>\n",
              "    <tr>\n",
              "      <th>4</th>\n",
              "      <td>valorizar o coração menino vc diferente o sorr...</td>\n",
              "      <td>1</td>\n",
              "    </tr>\n",
              "    <tr>\n",
              "      <th>5</th>\n",
              "      <td>amigo to emocaopositiva</td>\n",
              "      <td>1</td>\n",
              "    </tr>\n",
              "    <tr>\n",
              "      <th>6</th>\n",
              "      <td>bravo jairo emocaopositiva</td>\n",
              "      <td>1</td>\n",
              "    </tr>\n",
              "    <tr>\n",
              "      <th>7</th>\n",
              "      <td>socorrer ksoaksosks achar to o caixa som :p</td>\n",
              "      <td>1</td>\n",
              "    </tr>\n",
              "    <tr>\n",
              "      <th>8</th>\n",
              "      <td>gostar fazenda emocaopositiva morrer medo ga...</td>\n",
              "      <td>1</td>\n",
              "    </tr>\n",
              "    <tr>\n",
              "      <th>9</th>\n",
              "      <td>amanhar venom emocaopositiva</td>\n",
              "      <td>1</td>\n",
              "    </tr>\n",
              "  </tbody>\n",
              "</table>\n",
              "</div>\n",
              "      <button class=\"colab-df-convert\" onclick=\"convertToInteractive('df-d34ee974-5d99-4f7d-b0d5-5d4b807d03c5')\"\n",
              "              title=\"Convert this dataframe to an interactive table.\"\n",
              "              style=\"display:none;\">\n",
              "        \n",
              "  <svg xmlns=\"http://www.w3.org/2000/svg\" height=\"24px\"viewBox=\"0 0 24 24\"\n",
              "       width=\"24px\">\n",
              "    <path d=\"M0 0h24v24H0V0z\" fill=\"none\"/>\n",
              "    <path d=\"M18.56 5.44l.94 2.06.94-2.06 2.06-.94-2.06-.94-.94-2.06-.94 2.06-2.06.94zm-11 1L8.5 8.5l.94-2.06 2.06-.94-2.06-.94L8.5 2.5l-.94 2.06-2.06.94zm10 10l.94 2.06.94-2.06 2.06-.94-2.06-.94-.94-2.06-.94 2.06-2.06.94z\"/><path d=\"M17.41 7.96l-1.37-1.37c-.4-.4-.92-.59-1.43-.59-.52 0-1.04.2-1.43.59L10.3 9.45l-7.72 7.72c-.78.78-.78 2.05 0 2.83L4 21.41c.39.39.9.59 1.41.59.51 0 1.02-.2 1.41-.59l7.78-7.78 2.81-2.81c.8-.78.8-2.07 0-2.86zM5.41 20L4 18.59l7.72-7.72 1.47 1.35L5.41 20z\"/>\n",
              "  </svg>\n",
              "      </button>\n",
              "      \n",
              "  <style>\n",
              "    .colab-df-container {\n",
              "      display:flex;\n",
              "      flex-wrap:wrap;\n",
              "      gap: 12px;\n",
              "    }\n",
              "\n",
              "    .colab-df-convert {\n",
              "      background-color: #E8F0FE;\n",
              "      border: none;\n",
              "      border-radius: 50%;\n",
              "      cursor: pointer;\n",
              "      display: none;\n",
              "      fill: #1967D2;\n",
              "      height: 32px;\n",
              "      padding: 0 0 0 0;\n",
              "      width: 32px;\n",
              "    }\n",
              "\n",
              "    .colab-df-convert:hover {\n",
              "      background-color: #E2EBFA;\n",
              "      box-shadow: 0px 1px 2px rgba(60, 64, 67, 0.3), 0px 1px 3px 1px rgba(60, 64, 67, 0.15);\n",
              "      fill: #174EA6;\n",
              "    }\n",
              "\n",
              "    [theme=dark] .colab-df-convert {\n",
              "      background-color: #3B4455;\n",
              "      fill: #D2E3FC;\n",
              "    }\n",
              "\n",
              "    [theme=dark] .colab-df-convert:hover {\n",
              "      background-color: #434B5C;\n",
              "      box-shadow: 0px 1px 3px 1px rgba(0, 0, 0, 0.15);\n",
              "      filter: drop-shadow(0px 1px 2px rgba(0, 0, 0, 0.3));\n",
              "      fill: #FFFFFF;\n",
              "    }\n",
              "  </style>\n",
              "\n",
              "      <script>\n",
              "        const buttonEl =\n",
              "          document.querySelector('#df-d34ee974-5d99-4f7d-b0d5-5d4b807d03c5 button.colab-df-convert');\n",
              "        buttonEl.style.display =\n",
              "          google.colab.kernel.accessAllowed ? 'block' : 'none';\n",
              "\n",
              "        async function convertToInteractive(key) {\n",
              "          const element = document.querySelector('#df-d34ee974-5d99-4f7d-b0d5-5d4b807d03c5');\n",
              "          const dataTable =\n",
              "            await google.colab.kernel.invokeFunction('convertToInteractive',\n",
              "                                                     [key], {});\n",
              "          if (!dataTable) return;\n",
              "\n",
              "          const docLinkHtml = 'Like what you see? Visit the ' +\n",
              "            '<a target=\"_blank\" href=https://colab.research.google.com/notebooks/data_table.ipynb>data table notebook</a>'\n",
              "            + ' to learn more about interactive tables.';\n",
              "          element.innerHTML = '';\n",
              "          dataTable['output_type'] = 'display_data';\n",
              "          await google.colab.output.renderOutput(dataTable, element);\n",
              "          const docLink = document.createElement('div');\n",
              "          docLink.innerHTML = docLinkHtml;\n",
              "          element.appendChild(docLink);\n",
              "        }\n",
              "      </script>\n",
              "    </div>\n",
              "  </div>\n",
              "  "
            ]
          },
          "metadata": {},
          "execution_count": 29
        }
      ]
    },
    {
      "cell_type": "code",
      "source": [
        "base_teste['tweet_text'] = base_teste['tweet_text'].apply(preprocessamento)"
      ],
      "metadata": {
        "id": "8JmR1WiiNAVF"
      },
      "execution_count": null,
      "outputs": []
    },
    {
      "cell_type": "code",
      "source": [
        "base_teste.head(10)"
      ],
      "metadata": {
        "colab": {
          "base_uri": "https://localhost:8080/",
          "height": 363
        },
        "id": "LzFERpWDNgI4",
        "outputId": "484d7b3b-bc23-49f3-9421-6bb23d5e5491"
      },
      "execution_count": null,
      "outputs": [
        {
          "output_type": "execute_result",
          "data": {
            "text/plain": [
              "                                          tweet_text  sentiment\n",
              "0                             obrigar emocaopositiva          1\n",
              "1                       pa puta parir emocaopositiva          1\n",
              "2  querer desconto 14/08 ⭐ ⭐ ⭐ ⭐ ⭐ 🌐 conferir o l...          1\n",
              "3  vcs ajudar galera pelar amor butera emocaoposi...          1\n",
              "4  casar zé e o morrer sono chegar o casar e fica...          1\n",
              "5                             preciso emocaopositiva          1\n",
              "6    acaso adorar beijo e abraço hahahahaha bue f...          1\n",
              "7                          solteiro s emocaopositiva          1\n",
              "8  lindeza cortador kit mário coleção bia cravol ...          1\n",
              "9                               claro emocaopositiva          1"
            ],
            "text/html": [
              "\n",
              "  <div id=\"df-0b300264-6ae3-4d33-a11c-5ec22e2bc370\">\n",
              "    <div class=\"colab-df-container\">\n",
              "      <div>\n",
              "<style scoped>\n",
              "    .dataframe tbody tr th:only-of-type {\n",
              "        vertical-align: middle;\n",
              "    }\n",
              "\n",
              "    .dataframe tbody tr th {\n",
              "        vertical-align: top;\n",
              "    }\n",
              "\n",
              "    .dataframe thead th {\n",
              "        text-align: right;\n",
              "    }\n",
              "</style>\n",
              "<table border=\"1\" class=\"dataframe\">\n",
              "  <thead>\n",
              "    <tr style=\"text-align: right;\">\n",
              "      <th></th>\n",
              "      <th>tweet_text</th>\n",
              "      <th>sentiment</th>\n",
              "    </tr>\n",
              "  </thead>\n",
              "  <tbody>\n",
              "    <tr>\n",
              "      <th>0</th>\n",
              "      <td>obrigar emocaopositiva</td>\n",
              "      <td>1</td>\n",
              "    </tr>\n",
              "    <tr>\n",
              "      <th>1</th>\n",
              "      <td>pa puta parir emocaopositiva</td>\n",
              "      <td>1</td>\n",
              "    </tr>\n",
              "    <tr>\n",
              "      <th>2</th>\n",
              "      <td>querer desconto 14/08 ⭐ ⭐ ⭐ ⭐ ⭐ 🌐 conferir o l...</td>\n",
              "      <td>1</td>\n",
              "    </tr>\n",
              "    <tr>\n",
              "      <th>3</th>\n",
              "      <td>vcs ajudar galera pelar amor butera emocaoposi...</td>\n",
              "      <td>1</td>\n",
              "    </tr>\n",
              "    <tr>\n",
              "      <th>4</th>\n",
              "      <td>casar zé e o morrer sono chegar o casar e fica...</td>\n",
              "      <td>1</td>\n",
              "    </tr>\n",
              "    <tr>\n",
              "      <th>5</th>\n",
              "      <td>preciso emocaopositiva</td>\n",
              "      <td>1</td>\n",
              "    </tr>\n",
              "    <tr>\n",
              "      <th>6</th>\n",
              "      <td>acaso adorar beijo e abraço hahahahaha bue f...</td>\n",
              "      <td>1</td>\n",
              "    </tr>\n",
              "    <tr>\n",
              "      <th>7</th>\n",
              "      <td>solteiro s emocaopositiva</td>\n",
              "      <td>1</td>\n",
              "    </tr>\n",
              "    <tr>\n",
              "      <th>8</th>\n",
              "      <td>lindeza cortador kit mário coleção bia cravol ...</td>\n",
              "      <td>1</td>\n",
              "    </tr>\n",
              "    <tr>\n",
              "      <th>9</th>\n",
              "      <td>claro emocaopositiva</td>\n",
              "      <td>1</td>\n",
              "    </tr>\n",
              "  </tbody>\n",
              "</table>\n",
              "</div>\n",
              "      <button class=\"colab-df-convert\" onclick=\"convertToInteractive('df-0b300264-6ae3-4d33-a11c-5ec22e2bc370')\"\n",
              "              title=\"Convert this dataframe to an interactive table.\"\n",
              "              style=\"display:none;\">\n",
              "        \n",
              "  <svg xmlns=\"http://www.w3.org/2000/svg\" height=\"24px\"viewBox=\"0 0 24 24\"\n",
              "       width=\"24px\">\n",
              "    <path d=\"M0 0h24v24H0V0z\" fill=\"none\"/>\n",
              "    <path d=\"M18.56 5.44l.94 2.06.94-2.06 2.06-.94-2.06-.94-.94-2.06-.94 2.06-2.06.94zm-11 1L8.5 8.5l.94-2.06 2.06-.94-2.06-.94L8.5 2.5l-.94 2.06-2.06.94zm10 10l.94 2.06.94-2.06 2.06-.94-2.06-.94-.94-2.06-.94 2.06-2.06.94z\"/><path d=\"M17.41 7.96l-1.37-1.37c-.4-.4-.92-.59-1.43-.59-.52 0-1.04.2-1.43.59L10.3 9.45l-7.72 7.72c-.78.78-.78 2.05 0 2.83L4 21.41c.39.39.9.59 1.41.59.51 0 1.02-.2 1.41-.59l7.78-7.78 2.81-2.81c.8-.78.8-2.07 0-2.86zM5.41 20L4 18.59l7.72-7.72 1.47 1.35L5.41 20z\"/>\n",
              "  </svg>\n",
              "      </button>\n",
              "      \n",
              "  <style>\n",
              "    .colab-df-container {\n",
              "      display:flex;\n",
              "      flex-wrap:wrap;\n",
              "      gap: 12px;\n",
              "    }\n",
              "\n",
              "    .colab-df-convert {\n",
              "      background-color: #E8F0FE;\n",
              "      border: none;\n",
              "      border-radius: 50%;\n",
              "      cursor: pointer;\n",
              "      display: none;\n",
              "      fill: #1967D2;\n",
              "      height: 32px;\n",
              "      padding: 0 0 0 0;\n",
              "      width: 32px;\n",
              "    }\n",
              "\n",
              "    .colab-df-convert:hover {\n",
              "      background-color: #E2EBFA;\n",
              "      box-shadow: 0px 1px 2px rgba(60, 64, 67, 0.3), 0px 1px 3px 1px rgba(60, 64, 67, 0.15);\n",
              "      fill: #174EA6;\n",
              "    }\n",
              "\n",
              "    [theme=dark] .colab-df-convert {\n",
              "      background-color: #3B4455;\n",
              "      fill: #D2E3FC;\n",
              "    }\n",
              "\n",
              "    [theme=dark] .colab-df-convert:hover {\n",
              "      background-color: #434B5C;\n",
              "      box-shadow: 0px 1px 3px 1px rgba(0, 0, 0, 0.15);\n",
              "      filter: drop-shadow(0px 1px 2px rgba(0, 0, 0, 0.3));\n",
              "      fill: #FFFFFF;\n",
              "    }\n",
              "  </style>\n",
              "\n",
              "      <script>\n",
              "        const buttonEl =\n",
              "          document.querySelector('#df-0b300264-6ae3-4d33-a11c-5ec22e2bc370 button.colab-df-convert');\n",
              "        buttonEl.style.display =\n",
              "          google.colab.kernel.accessAllowed ? 'block' : 'none';\n",
              "\n",
              "        async function convertToInteractive(key) {\n",
              "          const element = document.querySelector('#df-0b300264-6ae3-4d33-a11c-5ec22e2bc370');\n",
              "          const dataTable =\n",
              "            await google.colab.kernel.invokeFunction('convertToInteractive',\n",
              "                                                     [key], {});\n",
              "          if (!dataTable) return;\n",
              "\n",
              "          const docLinkHtml = 'Like what you see? Visit the ' +\n",
              "            '<a target=\"_blank\" href=https://colab.research.google.com/notebooks/data_table.ipynb>data table notebook</a>'\n",
              "            + ' to learn more about interactive tables.';\n",
              "          element.innerHTML = '';\n",
              "          dataTable['output_type'] = 'display_data';\n",
              "          await google.colab.output.renderOutput(dataTable, element);\n",
              "          const docLink = document.createElement('div');\n",
              "          docLink.innerHTML = docLinkHtml;\n",
              "          element.appendChild(docLink);\n",
              "        }\n",
              "      </script>\n",
              "    </div>\n",
              "  </div>\n",
              "  "
            ]
          },
          "metadata": {},
          "execution_count": 31
        }
      ]
    },
    {
      "cell_type": "markdown",
      "source": [
        "V - Tratamento da classe"
      ],
      "metadata": {
        "id": "SiOhKeWoNIPf"
      }
    },
    {
      "cell_type": "code",
      "source": [
        "#para fins didáticos: estamos percorrendo os textos e os sentimentos (positivo ou negativo), dentro da variável texto, \n",
        "#recebe o tweet e dentro da emocao, recebe o sentimento. logo após, é criado um dicionário, se o valor da emocao for =1\n",
        "#recebe positivo e se for =0, recebe falso.\n",
        "\n",
        "base_dados_treinamento_final = []\n",
        "for texto, emocao in zip(base_treinamento['tweet_text'], base_treinamento['sentiment']): \n",
        "  if emocao == 1:\n",
        "    dic = ({'POSITIVO': True, 'NEGATIVO': False})\n",
        "  elif emocao == 0:\n",
        "    dic = ({'POSITIVO': False, 'NEGATIVO': True})\n",
        "\n",
        "  base_dados_treinamento_final.append([texto, dic.copy()])"
      ],
      "metadata": {
        "id": "5ObQJwEvNMDf"
      },
      "execution_count": null,
      "outputs": []
    },
    {
      "cell_type": "code",
      "source": [
        "len(base_dados_treinamento_final)"
      ],
      "metadata": {
        "colab": {
          "base_uri": "https://localhost:8080/"
        },
        "id": "R1Q5TrgINwwx",
        "outputId": "2e5e46a5-4f28-49d2-ad35-d641d04183c8"
      },
      "execution_count": null,
      "outputs": [
        {
          "output_type": "execute_result",
          "data": {
            "text/plain": [
              "50000"
            ]
          },
          "metadata": {},
          "execution_count": 33
        }
      ]
    },
    {
      "cell_type": "code",
      "source": [
        "base_dados_treinamento_final[10:15]"
      ],
      "metadata": {
        "colab": {
          "base_uri": "https://localhost:8080/"
        },
        "id": "4AEdTZfxNzb3",
        "outputId": "a626efbb-ba50-46be-e61a-78a37347073d"
      },
      "execution_count": null,
      "outputs": [
        {
          "output_type": "execute_result",
          "data": {
            "text/plain": [
              "[['simplesmente o deixar chatear querer muitooo e iludir emocaopositiva',\n",
              "  {'NEGATIVO': False, 'POSITIVO': True}],\n",
              " ['o comedir umar rotina e perfeitamente parir consolidar o escola condução :p',\n",
              "  {'NEGATIVO': False, 'POSITIVO': True}],\n",
              " ['amigar parecer apaixonar vc — recíproco emocaopositiva',\n",
              "  {'NEGATIVO': False, 'POSITIVO': True}],\n",
              " ['  gajar bacano aleijar esperar e o silvar feliz emocaopositiva',\n",
              "  {'NEGATIVO': False, 'POSITIVO': True}],\n",
              " ['tou o video cabra bebé emocaopositiva',\n",
              "  {'NEGATIVO': False, 'POSITIVO': True}]]"
            ]
          },
          "metadata": {},
          "execution_count": 34
        }
      ]
    },
    {
      "cell_type": "code",
      "source": [
        "base_dados_treinamento_final[45000:45005] #verificando os tweets finais para mostrar que a classificação está negativa como anteriormente"
      ],
      "metadata": {
        "colab": {
          "base_uri": "https://localhost:8080/"
        },
        "id": "xpwOI8DrN0qh",
        "outputId": "dfbae139-1e0f-4d5d-d0b9-7269444b57bf"
      },
      "execution_count": null,
      "outputs": [
        {
          "output_type": "execute_result",
          "data": {
            "text/plain": [
              "[['o menino pijama listrar o filmar triste mundo estruturar nenhum pra assistir rever e to pensar n emocaonegativa',\n",
              "  {'NEGATIVO': True, 'POSITIVO': False}],\n",
              " ['pra o vídeo luísa raiz o poliana infelizmente o twitter tá ruim amanhã postar emocaonegativa asaventurasdepoliana099',\n",
              "  {'NEGATIVO': True, 'POSITIVO': False}],\n",
              " ['to crise abstinência strangers emocaonegativa — tbm :/ to',\n",
              "  {'NEGATIVO': True, 'POSITIVO': False}],\n",
              " ['  esquecer olhar pra pagar o mensalidade turma pro cursar querer emocaonegativa',\n",
              "  {'NEGATIVO': True, 'POSITIVO': False}],\n",
              " ['querer comer doce comer montar hoje emocaonegativa maldição',\n",
              "  {'NEGATIVO': True, 'POSITIVO': False}]]"
            ]
          },
          "metadata": {},
          "execution_count": 35
        }
      ]
    },
    {
      "cell_type": "markdown",
      "source": [
        "VI - Criação do classificador"
      ],
      "metadata": {
        "id": "1EM_YqMPN409"
      }
    },
    {
      "cell_type": "code",
      "source": [
        "modelo = spacy.blank('pt') #criamos o modelo vazio em portugues\n",
        "categorias = modelo.create_pipe(\"textcat\") #definimos as categorias dos textos\n",
        "categorias.add_label(\"POSITIVO\") \n",
        "categorias.add_label(\"NEGATIVO\")\n",
        "modelo.add_pipe(categorias)\n",
        "historico = []"
      ],
      "metadata": {
        "id": "ZrDlScb6OERP"
      },
      "execution_count": null,
      "outputs": []
    },
    {
      "cell_type": "code",
      "source": [
        "modelo.begin_training() #inicio do treinamento, utilizando redes neurais para classificacao de textos\n",
        "for epoca in range(20): \n",
        "  random.shuffle(base_dados_treinamento_final)\n",
        "  losses = {} #dicionario para calcular o erro\n",
        "  for batch in spacy.util.minibatch(base_dados_treinamento_final, 512): #treinamento de 512 em 512 para ser um pouco mais rápido\n",
        "    textos = [modelo(texto) for texto, entities in batch]\n",
        "    annotations = [{'cats': entities} for texto, entities in batch] #cats=categorias. percorrendo os textos e as categorias.\n",
        "    modelo.update(textos, annotations, losses=losses)\n",
        "    historico.append(losses)\n",
        "  if epoca % 5 == 0:\n",
        "    print(losses)"
      ],
      "metadata": {
        "colab": {
          "base_uri": "https://localhost:8080/"
        },
        "id": "0lJnclnkOHpj",
        "outputId": "90e19acd-559a-4baa-ed98-d41a79df3d0e"
      },
      "execution_count": null,
      "outputs": [
        {
          "output_type": "stream",
          "name": "stdout",
          "text": [
            "{'textcat': 1.4422266400249129e-05}\n",
            "{'textcat': 1.0541352162343753e-07}\n",
            "{'textcat': 1.4290315837085787e-07}\n",
            "{'textcat': 3.9745515933347145e-10}\n"
          ]
        }
      ]
    },
    {
      "cell_type": "code",
      "source": [
        "historico_loss = [] #historico do valor do erro\n",
        "for i in historico:\n",
        "  historico_loss.append(i.get('textcat'))"
      ],
      "metadata": {
        "id": "1WHNimTSYclt"
      },
      "execution_count": null,
      "outputs": []
    },
    {
      "cell_type": "code",
      "source": [
        "historico_loss = np.array(historico_loss) \n",
        "historico_loss"
      ],
      "metadata": {
        "colab": {
          "base_uri": "https://localhost:8080/"
        },
        "id": "HCVXOu3IYd5b",
        "outputId": "734176a3-07e3-40ca-9e30-ad82b27cad87"
      },
      "execution_count": null,
      "outputs": [
        {
          "output_type": "execute_result",
          "data": {
            "text/plain": [
              "array([1.44222664e-05, 1.44222664e-05, 1.44222664e-05, ...,\n",
              "       2.54215128e-10, 2.54215128e-10, 2.54215128e-10])"
            ]
          },
          "metadata": {},
          "execution_count": 39
        }
      ]
    },
    {
      "cell_type": "code",
      "source": [
        "import matplotlib.pyplot as plt\n",
        "plt.plot(historico_loss)\n",
        "plt.title('Progressão do erro')\n",
        "plt.xlabel('Batches') #bathes = dados que foram agrupados por algum intervalo. podemos observar que foi diminuindo conforme o gráfico mostra\n",
        "plt.ylabel('Erro')"
      ],
      "metadata": {
        "colab": {
          "base_uri": "https://localhost:8080/",
          "height": 313
        },
        "id": "l64QBTYlYjsh",
        "outputId": "6b326c95-c345-4593-d878-35ccc27674f8"
      },
      "execution_count": null,
      "outputs": [
        {
          "output_type": "execute_result",
          "data": {
            "text/plain": [
              "Text(0, 0.5, 'Erro')"
            ]
          },
          "metadata": {},
          "execution_count": 40
        },
        {
          "output_type": "display_data",
          "data": {
            "text/plain": [
              "<Figure size 432x288 with 1 Axes>"
            ],
            "image/png": "[encoded data removed]"
          },
          "metadata": {
            "needs_background": "light"
          }
        }
      ]
    },
    {
      "cell_type": "code",
      "source": [
        "modelo.to_disk(\"modelo\")"
      ],
      "metadata": {
        "id": "J6adcDeyYnOG"
      },
      "execution_count": null,
      "outputs": []
    },
    {
      "cell_type": "markdown",
      "source": [
        "VI- Testes com uma frase"
      ],
      "metadata": {
        "id": "2y7mb0h9Yo24"
      }
    },
    {
      "cell_type": "code",
      "source": [
        "modelo_carregado = spacy.load('modelo') #testes com o modelo feito\n",
        "modelo_carregado"
      ],
      "metadata": {
        "colab": {
          "base_uri": "https://localhost:8080/"
        },
        "id": "U-lmUEG1Y0OJ",
        "outputId": "79b7b228-9b91-415f-e475-b3364ea29690"
      },
      "execution_count": null,
      "outputs": [
        {
          "output_type": "execute_result",
          "data": {
            "text/plain": [
              "<spacy.lang.pt.Portuguese at 0x7f6b48c91210>"
            ]
          },
          "metadata": {},
          "execution_count": 42
        }
      ]
    },
    {
      "cell_type": "markdown",
      "source": [
        "Texto positivo"
      ],
      "metadata": {
        "id": "PbEasMTVY4PV"
      }
    },
    {
      "cell_type": "code",
      "source": [
        "texto_positivo = base_teste['tweet_text'][21]\n",
        "texto_positivo"
      ],
      "metadata": {
        "colab": {
          "base_uri": "https://localhost:8080/",
          "height": 35
        },
        "id": "NkLgqFXRY80n",
        "outputId": "1719147a-b474-4617-f7cb-57f10cf87324"
      },
      "execution_count": null,
      "outputs": [
        {
          "output_type": "execute_result",
          "data": {
            "text/plain": [
              "'  ficar feliz q recíproco emocaopositiva'"
            ],
            "application/vnd.google.colaboratory.intrinsic+json": {
              "type": "string"
            }
          },
          "metadata": {},
          "execution_count": 43
        }
      ]
    },
    {
      "cell_type": "code",
      "source": [
        "texto_positivo = base_teste['tweet_text'][32] #mais um exemplo\n",
        "texto_positivo"
      ],
      "metadata": {
        "colab": {
          "base_uri": "https://localhost:8080/",
          "height": 35
        },
        "id": "XN9sqy8Vie5C",
        "outputId": "59dae8ed-9ab9-4532-e7ef-9cf94581deb0"
      },
      "execution_count": null,
      "outputs": [
        {
          "output_type": "execute_result",
          "data": {
            "text/plain": [
              "'acertar casar emocaopositiva'"
            ],
            "application/vnd.google.colaboratory.intrinsic+json": {
              "type": "string"
            }
          },
          "metadata": {},
          "execution_count": 66
        }
      ]
    },
    {
      "cell_type": "code",
      "source": [
        "previsao = modelo_carregado(texto_positivo)\n",
        "previsao"
      ],
      "metadata": {
        "colab": {
          "base_uri": "https://localhost:8080/"
        },
        "id": "h876bRvFY_3l",
        "outputId": "4d3fce10-03f7-45f6-cde2-18ff4ab59e9b"
      },
      "execution_count": null,
      "outputs": [
        {
          "output_type": "execute_result",
          "data": {
            "text/plain": [
              "  ficar feliz q recíproco emocaopositiva"
            ]
          },
          "metadata": {},
          "execution_count": 44
        }
      ]
    },
    {
      "cell_type": "code",
      "source": [
        "previsao.cats #mostra as probablilidades do sentimento"
      ],
      "metadata": {
        "colab": {
          "base_uri": "https://localhost:8080/"
        },
        "id": "gKkDRkWDZBkh",
        "outputId": "e68ecaa1-1daa-4663-883a-de4ce62c5f13"
      },
      "execution_count": null,
      "outputs": [
        {
          "output_type": "execute_result",
          "data": {
            "text/plain": [
              "{'NEGATIVO': 6.426099571399391e-05, 'POSITIVO': 0.9999545812606812}"
            ]
          },
          "metadata": {},
          "execution_count": 45
        }
      ]
    },
    {
      "cell_type": "code",
      "source": [
        "texto_positivo = 'eu gosto muito de você'\n",
        "texto_positivo = preprocessamento(texto_positivo)\n",
        "texto_positivo"
      ],
      "metadata": {
        "colab": {
          "base_uri": "https://localhost:8080/",
          "height": 35
        },
        "id": "kwKu4rftZF6b",
        "outputId": "5ef50898-8a96-4ccb-a643-05151c266e79"
      },
      "execution_count": null,
      "outputs": [
        {
          "output_type": "execute_result",
          "data": {
            "text/plain": [
              "'gostar'"
            ],
            "application/vnd.google.colaboratory.intrinsic+json": {
              "type": "string"
            }
          },
          "metadata": {},
          "execution_count": 46
        }
      ]
    },
    {
      "cell_type": "code",
      "source": [
        "modelo_carregado(texto_positivo).cats #positivo está maior, a leitura está correta"
      ],
      "metadata": {
        "colab": {
          "base_uri": "https://localhost:8080/"
        },
        "id": "clUmSUTJZIjH",
        "outputId": "fdb7035f-307f-4804-dfc4-256422442f07"
      },
      "execution_count": null,
      "outputs": [
        {
          "output_type": "execute_result",
          "data": {
            "text/plain": [
              "{'NEGATIVO': 0.11887697875499725, 'POSITIVO': 0.9093663096427917}"
            ]
          },
          "metadata": {},
          "execution_count": 47
        }
      ]
    },
    {
      "cell_type": "markdown",
      "source": [
        "Texto negativo"
      ],
      "metadata": {
        "id": "7gLZLJoFZLGh"
      }
    },
    {
      "cell_type": "code",
      "source": [
        "base_teste['tweet_text'][4000]"
      ],
      "metadata": {
        "colab": {
          "base_uri": "https://localhost:8080/",
          "height": 35
        },
        "id": "ggxUxru3ZPhi",
        "outputId": "a892c330-80de-49ee-bd9a-5812390ba7f7"
      },
      "execution_count": null,
      "outputs": [
        {
          "output_type": "execute_result",
          "data": {
            "text/plain": [
              "'tô triste filmar mulan o mushu emocaonegativa'"
            ],
            "application/vnd.google.colaboratory.intrinsic+json": {
              "type": "string"
            }
          },
          "metadata": {},
          "execution_count": 69
        }
      ]
    },
    {
      "cell_type": "code",
      "source": [
        "texto_negativo = base_teste['tweet_text'][4000] \n",
        "previsao = modelo_carregado(texto_negativo)\n",
        "previsao.cats"
      ],
      "metadata": {
        "colab": {
          "base_uri": "https://localhost:8080/"
        },
        "id": "zkGrSb7YZQlR",
        "outputId": "b70ce619-1097-4da2-e330-edb7f6bc3f3a"
      },
      "execution_count": null,
      "outputs": [
        {
          "output_type": "execute_result",
          "data": {
            "text/plain": [
              "{'NEGATIVO': 0.999934196472168, 'POSITIVO': 4.539786823443137e-05}"
            ]
          },
          "metadata": {},
          "execution_count": 70
        }
      ]
    },
    {
      "cell_type": "markdown",
      "source": [
        "Avaliação na base de treinamento"
      ],
      "metadata": {
        "id": "8dKpY_yUZaUk"
      }
    },
    {
      "cell_type": "code",
      "source": [
        "previsoes = []\n",
        "for texto in base_treinamento['tweet_text']:\n",
        "  previsao = modelo_carregado(texto)\n",
        "  previsoes.append(previsao.cats)"
      ],
      "metadata": {
        "id": "qTVRZS_qZe8B"
      },
      "execution_count": null,
      "outputs": []
    },
    {
      "cell_type": "code",
      "source": [
        "previsoes"
      ],
      "metadata": {
        "colab": {
          "base_uri": "https://localhost:8080/"
        },
        "id": "_UCCp2FcZmee",
        "outputId": "e37931ba-dca4-4f42-ca2b-ee8140f8612d"
      },
      "execution_count": null,
      "outputs": [
        {
          "output_type": "execute_result",
          "data": {
            "text/plain": [
              "[{'NEGATIVO': 6.953728734515607e-05, 'POSITIVO': 0.9999545812606812},\n",
              " {'NEGATIVO': 4.539786823443137e-05, 'POSITIVO': 0.9999545812606812},\n",
              " {'NEGATIVO': 6.47815759293735e-05, 'POSITIVO': 0.9999545812606812},\n",
              " {'NEGATIVO': 7.14345442247577e-05, 'POSITIVO': 0.9999545812606812},\n",
              " {'NEGATIVO': 4.539786823443137e-05, 'POSITIVO': 0.9999545812606812},\n",
              " {'NEGATIVO': 4.539786823443137e-05, 'POSITIVO': 0.9999545812606812},\n",
              " {'NEGATIVO': 0.00016260129632428288, 'POSITIVO': 0.9999468326568604},\n",
              " {'NEGATIVO': 4.539786823443137e-05, 'POSITIVO': 0.9999545812606812},\n",
              " {'NEGATIVO': 0.00021691415167879313, 'POSITIVO': 0.9999481439590454},\n",
              " {'NEGATIVO': 5.375498585635796e-05, 'POSITIVO': 0.9999545812606812},\n",
              " {'NEGATIVO': 0.00011134049418615177, 'POSITIVO': 0.9999545812606812},\n",
              " {'NEGATIVO': 0.0001438066246919334, 'POSITIVO': 0.9996434450149536},\n",
              " {'NEGATIVO': 0.00010077566548716277, 'POSITIVO': 0.9999545812606812},\n",
              " {'NEGATIVO': 4.539786823443137e-05, 'POSITIVO': 0.9999545812606812},\n",
              " {'NEGATIVO': 4.539786823443137e-05, 'POSITIVO': 0.9999545812606812},\n",
              " {'NEGATIVO': 0.00021333008771762252, 'POSITIVO': 0.9999545812606812},\n",
              " {'NEGATIVO': 4.539786823443137e-05, 'POSITIVO': 0.9999545812606812},\n",
              " {'NEGATIVO': 7.143338734749705e-05, 'POSITIVO': 0.9999545812606812},\n",
              " {'NEGATIVO': 0.0002413195325061679, 'POSITIVO': 0.9999330043792725},\n",
              " {'NEGATIVO': 4.539786823443137e-05, 'POSITIVO': 0.9999545812606812},\n",
              " {'NEGATIVO': 4.539786823443137e-05, 'POSITIVO': 0.9999545812606812},\n",
              " {'NEGATIVO': 5.89006049267482e-05, 'POSITIVO': 0.9999545812606812},\n",
              " {'NEGATIVO': 4.539786823443137e-05, 'POSITIVO': 0.9999545812606812},\n",
              " {'NEGATIVO': 4.539786823443137e-05, 'POSITIVO': 0.9999545812606812},\n",
              " {'NEGATIVO': 5.145153772900812e-05, 'POSITIVO': 0.9999545812606812},\n",
              " {'NEGATIVO': 4.539786823443137e-05, 'POSITIVO': 0.9999545812606812},\n",
              " {'NEGATIVO': 6.385050801327452e-05, 'POSITIVO': 0.9999545812606812},\n",
              " {'NEGATIVO': 4.539786823443137e-05, 'POSITIVO': 0.9999545812606812},\n",
              " {'NEGATIVO': 0.0004272510705050081, 'POSITIVO': 0.9999545812606812},\n",
              " {'NEGATIVO': 5.794393291580491e-05, 'POSITIVO': 0.9999545812606812},\n",
              " {'NEGATIVO': 7.197218656074256e-05, 'POSITIVO': 0.9999545812606812},\n",
              " {'NEGATIVO': 5.141430665389635e-05, 'POSITIVO': 0.9999545812606812},\n",
              " {'NEGATIVO': 4.539786823443137e-05, 'POSITIVO': 0.9999545812606812},\n",
              " {'NEGATIVO': 0.0001243489678017795, 'POSITIVO': 0.9999545812606812},\n",
              " {'NEGATIVO': 4.539786823443137e-05, 'POSITIVO': 0.9999545812606812},\n",
              " {'NEGATIVO': 6.045299596735276e-05, 'POSITIVO': 0.9999545812606812},\n",
              " {'NEGATIVO': 0.00037753424840047956, 'POSITIVO': 0.9999545812606812},\n",
              " {'NEGATIVO': 6.361336272675544e-05, 'POSITIVO': 0.9999545812606812},\n",
              " {'NEGATIVO': 6.0213944379938766e-05, 'POSITIVO': 0.9999545812606812},\n",
              " {'NEGATIVO': 0.003729915712028742, 'POSITIVO': 0.9973276853561401},\n",
              " {'NEGATIVO': 4.539786823443137e-05, 'POSITIVO': 0.9999545812606812},\n",
              " {'NEGATIVO': 4.539786823443137e-05, 'POSITIVO': 0.9999545812606812},\n",
              " {'NEGATIVO': 6.655238394159824e-05, 'POSITIVO': 0.9999545812606812},\n",
              " {'NEGATIVO': 4.539786823443137e-05, 'POSITIVO': 0.9999545812606812},\n",
              " {'NEGATIVO': 0.00010306614422006533, 'POSITIVO': 0.9999545812606812},\n",
              " {'NEGATIVO': 4.539786823443137e-05, 'POSITIVO': 0.9999545812606812},\n",
              " {'NEGATIVO': 9.249342110706493e-05, 'POSITIVO': 0.9999545812606812},\n",
              " {'NEGATIVO': 0.00023055396741256118, 'POSITIVO': 0.9999545812606812},\n",
              " {'NEGATIVO': 4.539786823443137e-05, 'POSITIVO': 0.9999545812606812},\n",
              " {'NEGATIVO': 0.00013655021029990166, 'POSITIVO': 0.9999545812606812},\n",
              " {'NEGATIVO': 4.539786823443137e-05, 'POSITIVO': 0.9999545812606812},\n",
              " {'NEGATIVO': 4.539786823443137e-05, 'POSITIVO': 0.9999545812606812},\n",
              " {'NEGATIVO': 4.539786823443137e-05, 'POSITIVO': 0.9999545812606812},\n",
              " {'NEGATIVO': 6.843527080491185e-05, 'POSITIVO': 0.9999545812606812},\n",
              " {'NEGATIVO': 4.539786823443137e-05, 'POSITIVO': 0.9999545812606812},\n",
              " {'NEGATIVO': 0.00012099032028345391, 'POSITIVO': 0.9999545812606812},\n",
              " {'NEGATIVO': 4.539786823443137e-05, 'POSITIVO': 0.9999545812606812},\n",
              " {'NEGATIVO': 4.539786823443137e-05, 'POSITIVO': 0.9999545812606812},\n",
              " {'NEGATIVO': 5.80987507419195e-05, 'POSITIVO': 0.9999545812606812},\n",
              " {'NEGATIVO': 4.811906546819955e-05, 'POSITIVO': 0.9999545812606812},\n",
              " {'NEGATIVO': 0.0001779538724804297, 'POSITIVO': 0.9999545812606812},\n",
              " {'NEGATIVO': 9.865128231467679e-05, 'POSITIVO': 0.9999545812606812},\n",
              " {'NEGATIVO': 0.0005356427282094955, 'POSITIVO': 0.9999545812606812},\n",
              " {'NEGATIVO': 4.539786823443137e-05, 'POSITIVO': 0.9999545812606812},\n",
              " {'NEGATIVO': 0.0005841430393047631, 'POSITIVO': 0.9999545812606812},\n",
              " {'NEGATIVO': 7.704082236159593e-05, 'POSITIVO': 0.9999545812606812},\n",
              " {'NEGATIVO': 7.226516027003527e-05, 'POSITIVO': 0.9999545812606812},\n",
              " {'NEGATIVO': 4.539786823443137e-05, 'POSITIVO': 0.9999545812606812},\n",
              " {'NEGATIVO': 4.539786823443137e-05, 'POSITIVO': 0.9999545812606812},\n",
              " {'NEGATIVO': 0.0003131655976176262, 'POSITIVO': 0.9999545812606812},\n",
              " {'NEGATIVO': 6.161974306451157e-05, 'POSITIVO': 0.9999545812606812},\n",
              " {'NEGATIVO': 4.539786823443137e-05, 'POSITIVO': 0.9999545812606812},\n",
              " {'NEGATIVO': 0.000326506735291332, 'POSITIVO': 0.999951958656311},\n",
              " {'NEGATIVO': 4.9072670663008466e-05, 'POSITIVO': 0.9999545812606812},\n",
              " {'NEGATIVO': 4.539786823443137e-05, 'POSITIVO': 0.9999545812606812},\n",
              " {'NEGATIVO': 0.0005356427282094955, 'POSITIVO': 0.9999545812606812},\n",
              " {'NEGATIVO': 4.539786823443137e-05, 'POSITIVO': 0.999937891960144},\n",
              " {'NEGATIVO': 0.00015381841512862593, 'POSITIVO': 0.9999545812606812},\n",
              " {'NEGATIVO': 5.3533683967543766e-05, 'POSITIVO': 0.9999545812606812},\n",
              " {'NEGATIVO': 4.539786823443137e-05, 'POSITIVO': 0.9999545812606812},\n",
              " {'NEGATIVO': 4.539786823443137e-05, 'POSITIVO': 0.9999545812606812},\n",
              " {'NEGATIVO': 6.691084854537621e-05, 'POSITIVO': 0.9999545812606812},\n",
              " {'NEGATIVO': 5.6902863434515893e-05, 'POSITIVO': 0.9999545812606812},\n",
              " {'NEGATIVO': 8.802489173831418e-05, 'POSITIVO': 0.9999545812606812},\n",
              " {'NEGATIVO': 6.760946416761726e-05, 'POSITIVO': 0.9999545812606812},\n",
              " {'NEGATIVO': 0.00017578460392542183, 'POSITIVO': 0.9999545812606812},\n",
              " {'NEGATIVO': 4.539786823443137e-05, 'POSITIVO': 0.9999545812606812},\n",
              " {'NEGATIVO': 0.004546765703707933, 'POSITIVO': 0.9993603825569153},\n",
              " {'NEGATIVO': 0.00011751644342439249, 'POSITIVO': 0.9999545812606812},\n",
              " {'NEGATIVO': 0.00019580181105993688, 'POSITIVO': 0.9999545812606812},\n",
              " {'NEGATIVO': 4.539786823443137e-05, 'POSITIVO': 0.9999545812606812},\n",
              " {'NEGATIVO': 5.0535927584860474e-05, 'POSITIVO': 0.9999545812606812},\n",
              " {'NEGATIVO': 5.4891261243028566e-05, 'POSITIVO': 0.9999545812606812},\n",
              " {'NEGATIVO': 4.539786823443137e-05, 'POSITIVO': 0.9999545812606812},\n",
              " {'NEGATIVO': 4.539786823443137e-05, 'POSITIVO': 0.9999545812606812},\n",
              " {'NEGATIVO': 0.00010784080950543284, 'POSITIVO': 0.9999545812606812},\n",
              " {'NEGATIVO': 8.768583938945085e-05, 'POSITIVO': 0.9999545812606812},\n",
              " {'NEGATIVO': 4.539786823443137e-05, 'POSITIVO': 0.9999545812606812},\n",
              " {'NEGATIVO': 8.046187576837838e-05, 'POSITIVO': 0.9999545812606812},\n",
              " {'NEGATIVO': 0.0001118540603783913, 'POSITIVO': 0.9999545812606812},\n",
              " {'NEGATIVO': 0.0008506883750669658, 'POSITIVO': 0.9999545812606812},\n",
              " {'NEGATIVO': 4.720307333627716e-05, 'POSITIVO': 0.9999545812606812},\n",
              " {'NEGATIVO': 0.00014948906027711928, 'POSITIVO': 0.9999545812606812},\n",
              " {'NEGATIVO': 4.539786823443137e-05, 'POSITIVO': 0.9999545812606812},\n",
              " {'NEGATIVO': 7.763562462059781e-05, 'POSITIVO': 0.9999545812606812},\n",
              " {'NEGATIVO': 8.311639248859137e-05, 'POSITIVO': 0.9999545812606812},\n",
              " {'NEGATIVO': 0.000201644521439448, 'POSITIVO': 0.9999545812606812},\n",
              " {'NEGATIVO': 0.00030405534198507667, 'POSITIVO': 0.9999016523361206},\n",
              " {'NEGATIVO': 4.539786823443137e-05, 'POSITIVO': 0.9999545812606812},\n",
              " {'NEGATIVO': 9.946068894350901e-05, 'POSITIVO': 0.9999545812606812},\n",
              " {'NEGATIVO': 0.00014809526328463107, 'POSITIVO': 0.9999369382858276},\n",
              " {'NEGATIVO': 4.539786823443137e-05, 'POSITIVO': 0.9999545812606812},\n",
              " {'NEGATIVO': 4.539786823443137e-05, 'POSITIVO': 0.9999545812606812},\n",
              " {'NEGATIVO': 7.72655985201709e-05, 'POSITIVO': 0.9999545812606812},\n",
              " {'NEGATIVO': 9.362091077491641e-05, 'POSITIVO': 0.9999545812606812},\n",
              " {'NEGATIVO': 8.187324419850484e-05, 'POSITIVO': 0.9999545812606812},\n",
              " {'NEGATIVO': 0.0001337986468570307, 'POSITIVO': 0.9999545812606812},\n",
              " {'NEGATIVO': 4.539786823443137e-05, 'POSITIVO': 0.9999545812606812},\n",
              " {'NEGATIVO': 0.0001152632903540507, 'POSITIVO': 0.9999545812606812},\n",
              " {'NEGATIVO': 0.00015198752225842327, 'POSITIVO': 0.9999545812606812},\n",
              " {'NEGATIVO': 4.582460314850323e-05, 'POSITIVO': 0.9999545812606812},\n",
              " {'NEGATIVO': 6.779319664929062e-05, 'POSITIVO': 0.9999545812606812},\n",
              " {'NEGATIVO': 4.539786823443137e-05, 'POSITIVO': 0.9999545812606812},\n",
              " {'NEGATIVO': 0.001282009994611144, 'POSITIVO': 0.999936580657959},\n",
              " {'NEGATIVO': 0.0032046956475824118, 'POSITIVO': 0.9998799562454224},\n",
              " {'NEGATIVO': 9.419510752195492e-05, 'POSITIVO': 0.9999545812606812},\n",
              " {'NEGATIVO': 4.539786823443137e-05, 'POSITIVO': 0.9999545812606812},\n",
              " {'NEGATIVO': 4.539786823443137e-05, 'POSITIVO': 0.9999545812606812},\n",
              " {'NEGATIVO': 0.0003371012571733445, 'POSITIVO': 0.9999545812606812},\n",
              " {'NEGATIVO': 4.539786823443137e-05, 'POSITIVO': 0.9999545812606812},\n",
              " {'NEGATIVO': 4.539786823443137e-05, 'POSITIVO': 0.9999545812606812},\n",
              " {'NEGATIVO': 6.551216210937127e-05, 'POSITIVO': 0.9999545812606812},\n",
              " {'NEGATIVO': 0.00016693316865712404, 'POSITIVO': 0.9999545812606812},\n",
              " {'NEGATIVO': 4.781930329045281e-05, 'POSITIVO': 0.9999545812606812},\n",
              " {'NEGATIVO': 4.539786823443137e-05, 'POSITIVO': 0.9999545812606812},\n",
              " {'NEGATIVO': 7.800265302648768e-05, 'POSITIVO': 0.9999545812606812},\n",
              " {'NEGATIVO': 4.539786823443137e-05, 'POSITIVO': 0.9999545812606812},\n",
              " {'NEGATIVO': 0.00015793289639987051, 'POSITIVO': 0.9999397993087769},\n",
              " {'NEGATIVO': 4.539786823443137e-05, 'POSITIVO': 0.9999545812606812},\n",
              " {'NEGATIVO': 0.00020863728423137218, 'POSITIVO': 0.9999545812606812},\n",
              " {'NEGATIVO': 4.539786823443137e-05, 'POSITIVO': 0.9999545812606812},\n",
              " {'NEGATIVO': 4.539786823443137e-05, 'POSITIVO': 0.9999545812606812},\n",
              " {'NEGATIVO': 0.00017644507170189172, 'POSITIVO': 0.9999545812606812},\n",
              " {'NEGATIVO': 0.0001100469526136294, 'POSITIVO': 0.9999545812606812},\n",
              " {'NEGATIVO': 0.00034725622390396893, 'POSITIVO': 0.9999111890792847},\n",
              " {'NEGATIVO': 4.539786823443137e-05, 'POSITIVO': 0.9999545812606812},\n",
              " {'NEGATIVO': 4.539786823443137e-05, 'POSITIVO': 0.9999545812606812},\n",
              " {'NEGATIVO': 9.789429168449715e-05, 'POSITIVO': 0.9999545812606812},\n",
              " {'NEGATIVO': 4.539786823443137e-05, 'POSITIVO': 0.9999545812606812},\n",
              " {'NEGATIVO': 5.4406136769102886e-05, 'POSITIVO': 0.9999545812606812},\n",
              " {'NEGATIVO': 0.001311842235736549, 'POSITIVO': 0.9999024868011475},\n",
              " {'NEGATIVO': 0.0025612132158130407, 'POSITIVO': 0.9999091625213623},\n",
              " {'NEGATIVO': 9.557682642480358e-05, 'POSITIVO': 0.9999545812606812},\n",
              " {'NEGATIVO': 7.891031418694183e-05, 'POSITIVO': 0.9999545812606812},\n",
              " {'NEGATIVO': 5.538720506592654e-05, 'POSITIVO': 0.9999545812606812},\n",
              " {'NEGATIVO': 4.539786823443137e-05, 'POSITIVO': 0.9999545812606812},\n",
              " {'NEGATIVO': 0.00022028497187420726, 'POSITIVO': 0.9999545812606812},\n",
              " {'NEGATIVO': 4.539786823443137e-05, 'POSITIVO': 0.9999545812606812},\n",
              " {'NEGATIVO': 0.004454357549548149, 'POSITIVO': 0.9987195730209351},\n",
              " {'NEGATIVO': 4.539786823443137e-05, 'POSITIVO': 0.9999545812606812},\n",
              " {'NEGATIVO': 4.539786823443137e-05, 'POSITIVO': 0.9999545812606812},\n",
              " {'NEGATIVO': 0.00010774294787552208, 'POSITIVO': 0.9999545812606812},\n",
              " {'NEGATIVO': 5.255806536297314e-05, 'POSITIVO': 0.9999545812606812},\n",
              " {'NEGATIVO': 4.539786823443137e-05, 'POSITIVO': 0.9999545812606812},\n",
              " {'NEGATIVO': 0.0002235252468381077, 'POSITIVO': 0.9999545812606812},\n",
              " {'NEGATIVO': 4.539786823443137e-05, 'POSITIVO': 0.9999545812606812},\n",
              " {'NEGATIVO': 0.00015620993508491665, 'POSITIVO': 0.9999545812606812},\n",
              " {'NEGATIVO': 9.108311496675014e-05, 'POSITIVO': 0.9999545812606812},\n",
              " {'NEGATIVO': 4.539786823443137e-05, 'POSITIVO': 0.9999545812606812},\n",
              " {'NEGATIVO': 8.159134449670091e-05, 'POSITIVO': 0.9999545812606812},\n",
              " {'NEGATIVO': 0.0004397657758090645, 'POSITIVO': 0.9999545812606812},\n",
              " {'NEGATIVO': 4.539786823443137e-05, 'POSITIVO': 0.9999545812606812},\n",
              " {'NEGATIVO': 9.174001752398908e-05, 'POSITIVO': 0.9999545812606812},\n",
              " {'NEGATIVO': 0.002704553073272109, 'POSITIVO': 0.9996687173843384},\n",
              " {'NEGATIVO': 0.00014787695545237511, 'POSITIVO': 0.9999545812606812},\n",
              " {'NEGATIVO': 4.539786823443137e-05, 'POSITIVO': 0.9999545812606812},\n",
              " {'NEGATIVO': 0.0007689653430134058, 'POSITIVO': 0.9999392032623291},\n",
              " {'NEGATIVO': 4.539786823443137e-05, 'POSITIVO': 0.9999545812606812},\n",
              " {'NEGATIVO': 0.00048342469381168485, 'POSITIVO': 0.9999536275863647},\n",
              " {'NEGATIVO': 8.892577170627192e-05, 'POSITIVO': 0.9999545812606812},\n",
              " {'NEGATIVO': 0.00038613463402725756, 'POSITIVO': 0.9999545812606812},\n",
              " {'NEGATIVO': 4.539786823443137e-05, 'POSITIVO': 0.9999545812606812},\n",
              " {'NEGATIVO': 4.539786823443137e-05, 'POSITIVO': 0.9999545812606812},\n",
              " {'NEGATIVO': 0.0006309866439551115, 'POSITIVO': 0.9998743534088135},\n",
              " {'NEGATIVO': 4.539786823443137e-05, 'POSITIVO': 0.9999545812606812},\n",
              " {'NEGATIVO': 4.539786823443137e-05, 'POSITIVO': 0.9999545812606812},\n",
              " {'NEGATIVO': 4.539786823443137e-05, 'POSITIVO': 0.9999545812606812},\n",
              " {'NEGATIVO': 4.539786823443137e-05, 'POSITIVO': 0.9999545812606812},\n",
              " {'NEGATIVO': 0.0002489014877937734, 'POSITIVO': 0.9999545812606812},\n",
              " {'NEGATIVO': 0.0005291512934491038, 'POSITIVO': 0.9999545812606812},\n",
              " {'NEGATIVO': 0.00016205756401177496, 'POSITIVO': 0.9999545812606812},\n",
              " {'NEGATIVO': 4.539786823443137e-05, 'POSITIVO': 0.9999545812606812},\n",
              " {'NEGATIVO': 4.539786823443137e-05, 'POSITIVO': 0.9999545812606812},\n",
              " {'NEGATIVO': 0.0001199565376737155, 'POSITIVO': 0.9998509883880615},\n",
              " {'NEGATIVO': 4.539786823443137e-05, 'POSITIVO': 0.9999545812606812},\n",
              " {'NEGATIVO': 0.0001244495651917532, 'POSITIVO': 0.9999545812606812},\n",
              " {'NEGATIVO': 4.539786823443137e-05, 'POSITIVO': 0.9999363422393799},\n",
              " {'NEGATIVO': 4.539786823443137e-05, 'POSITIVO': 0.9999545812606812},\n",
              " {'NEGATIVO': 0.00016161022358573973, 'POSITIVO': 0.9999545812606812},\n",
              " {'NEGATIVO': 0.0005523833679035306, 'POSITIVO': 0.9999545812606812},\n",
              " {'NEGATIVO': 4.539786823443137e-05, 'POSITIVO': 0.9999545812606812},\n",
              " {'NEGATIVO': 0.0037425763439387083, 'POSITIVO': 0.9990795850753784},\n",
              " {'NEGATIVO': 8.635500853415579e-05, 'POSITIVO': 0.9999545812606812},\n",
              " {'NEGATIVO': 0.00012606868403963745, 'POSITIVO': 0.9999545812606812},\n",
              " {'NEGATIVO': 4.539786823443137e-05, 'POSITIVO': 0.9999545812606812},\n",
              " {'NEGATIVO': 4.539786823443137e-05, 'POSITIVO': 0.9999545812606812},\n",
              " {'NEGATIVO': 4.539786823443137e-05, 'POSITIVO': 0.9999545812606812},\n",
              " {'NEGATIVO': 6.176723400130868e-05, 'POSITIVO': 0.9999545812606812},\n",
              " {'NEGATIVO': 0.00018117936269845814, 'POSITIVO': 0.9999545812606812},\n",
              " {'NEGATIVO': 5.288092506816611e-05, 'POSITIVO': 0.9999545812606812},\n",
              " {'NEGATIVO': 4.539786823443137e-05, 'POSITIVO': 0.9999545812606812},\n",
              " {'NEGATIVO': 5.405720366979949e-05, 'POSITIVO': 0.9999545812606812},\n",
              " {'NEGATIVO': 9.17185825528577e-05, 'POSITIVO': 0.9999486207962036},\n",
              " {'NEGATIVO': 0.00020270187815185636, 'POSITIVO': 0.9999457597732544},\n",
              " {'NEGATIVO': 7.760136213619262e-05, 'POSITIVO': 0.9999545812606812},\n",
              " {'NEGATIVO': 8.016333595151082e-05, 'POSITIVO': 0.9999545812606812},\n",
              " {'NEGATIVO': 0.00019610952585935593, 'POSITIVO': 0.9999545812606812},\n",
              " {'NEGATIVO': 9.18613513931632e-05, 'POSITIVO': 0.9999545812606812},\n",
              " {'NEGATIVO': 0.0019186742138117552, 'POSITIVO': 0.9997310042381287},\n",
              " {'NEGATIVO': 0.00010008022945839912, 'POSITIVO': 0.9999545812606812},\n",
              " {'NEGATIVO': 4.539786823443137e-05, 'POSITIVO': 0.9999545812606812},\n",
              " {'NEGATIVO': 4.539786823443137e-05, 'POSITIVO': 0.9999545812606812},\n",
              " {'NEGATIVO': 6.073804615880363e-05, 'POSITIVO': 0.9999545812606812},\n",
              " {'NEGATIVO': 4.539786823443137e-05, 'POSITIVO': 0.9999545812606812},\n",
              " {'NEGATIVO': 5.6813398259691894e-05, 'POSITIVO': 0.9999545812606812},\n",
              " {'NEGATIVO': 4.539786823443137e-05, 'POSITIVO': 0.9999545812606812},\n",
              " {'NEGATIVO': 0.001305797602981329, 'POSITIVO': 0.9999545812606812},\n",
              " {'NEGATIVO': 0.0003128976095467806, 'POSITIVO': 0.9999545812606812},\n",
              " {'NEGATIVO': 4.539786823443137e-05, 'POSITIVO': 0.9999545812606812},\n",
              " {'NEGATIVO': 0.00014716868463438004, 'POSITIVO': 0.9999545812606812},\n",
              " {'NEGATIVO': 0.00011485361028462648, 'POSITIVO': 0.9999545812606812},\n",
              " {'NEGATIVO': 8.684231579536572e-05, 'POSITIVO': 0.9999545812606812},\n",
              " {'NEGATIVO': 4.539786823443137e-05, 'POSITIVO': 0.9999545812606812},\n",
              " {'NEGATIVO': 4.539786823443137e-05, 'POSITIVO': 0.9999545812606812},\n",
              " {'NEGATIVO': 4.539786823443137e-05, 'POSITIVO': 0.9999545812606812},\n",
              " {'NEGATIVO': 0.00011871313472511247, 'POSITIVO': 0.9999545812606812},\n",
              " {'NEGATIVO': 0.00047845207154750824, 'POSITIVO': 0.9999545812606812},\n",
              " {'NEGATIVO': 0.00013853357813786715, 'POSITIVO': 0.9999545812606812},\n",
              " {'NEGATIVO': 7.524533430114388e-05, 'POSITIVO': 0.9999545812606812},\n",
              " {'NEGATIVO': 0.0003736265643965453, 'POSITIVO': 0.9999545812606812},\n",
              " {'NEGATIVO': 0.00041994944331236184, 'POSITIVO': 0.9999545812606812},\n",
              " {'NEGATIVO': 0.00011183561582583934, 'POSITIVO': 0.9999545812606812},\n",
              " {'NEGATIVO': 4.539786823443137e-05, 'POSITIVO': 0.9999545812606812},\n",
              " {'NEGATIVO': 4.539786823443137e-05, 'POSITIVO': 0.9999545812606812},\n",
              " {'NEGATIVO': 5.80987507419195e-05, 'POSITIVO': 0.9999545812606812},\n",
              " {'NEGATIVO': 0.0006608236581087112, 'POSITIVO': 0.9999545812606812},\n",
              " {'NEGATIVO': 4.539786823443137e-05, 'POSITIVO': 0.9999545812606812},\n",
              " {'NEGATIVO': 5.661891191266477e-05, 'POSITIVO': 0.9999545812606812},\n",
              " {'NEGATIVO': 4.539786823443137e-05, 'POSITIVO': 0.9999545812606812},\n",
              " {'NEGATIVO': 4.539786823443137e-05, 'POSITIVO': 0.9999545812606812},\n",
              " {'NEGATIVO': 5.095981032354757e-05, 'POSITIVO': 0.9999545812606812},\n",
              " {'NEGATIVO': 8.135206007864326e-05, 'POSITIVO': 0.9999545812606812},\n",
              " {'NEGATIVO': 4.539786823443137e-05, 'POSITIVO': 0.9999545812606812},\n",
              " {'NEGATIVO': 4.539786823443137e-05, 'POSITIVO': 0.9999545812606812},\n",
              " {'NEGATIVO': 0.00018312213069293648, 'POSITIVO': 0.9999545812606812},\n",
              " {'NEGATIVO': 5.80987507419195e-05, 'POSITIVO': 0.9999545812606812},\n",
              " {'NEGATIVO': 4.539786823443137e-05, 'POSITIVO': 0.9999545812606812},\n",
              " {'NEGATIVO': 4.539786823443137e-05, 'POSITIVO': 0.9999545812606812},\n",
              " {'NEGATIVO': 0.0012649536365643144, 'POSITIVO': 0.9998760223388672},\n",
              " {'NEGATIVO': 0.00018574287241790444, 'POSITIVO': 0.9999545812606812},\n",
              " {'NEGATIVO': 4.7969890147214755e-05, 'POSITIVO': 0.9999545812606812},\n",
              " {'NEGATIVO': 0.0001273304660571739, 'POSITIVO': 0.9999545812606812},\n",
              " {'NEGATIVO': 0.0003456709673628211, 'POSITIVO': 0.9999217987060547},\n",
              " {'NEGATIVO': 6.691084854537621e-05, 'POSITIVO': 0.9999545812606812},\n",
              " {'NEGATIVO': 4.539786823443137e-05, 'POSITIVO': 0.9999545812606812},\n",
              " {'NEGATIVO': 4.539786823443137e-05, 'POSITIVO': 0.9999545812606812},\n",
              " {'NEGATIVO': 4.539786823443137e-05, 'POSITIVO': 0.9999545812606812},\n",
              " {'NEGATIVO': 4.539786823443137e-05, 'POSITIVO': 0.9999545812606812},\n",
              " {'NEGATIVO': 0.00016652411432005465, 'POSITIVO': 0.9999545812606812},\n",
              " {'NEGATIVO': 0.0006409336347132921, 'POSITIVO': 0.9999545812606812},\n",
              " {'NEGATIVO': 0.0002768047561403364, 'POSITIVO': 0.9999527931213379},\n",
              " {'NEGATIVO': 4.539786823443137e-05, 'POSITIVO': 0.9999545812606812},\n",
              " {'NEGATIVO': 6.691084854537621e-05, 'POSITIVO': 0.9999545812606812},\n",
              " {'NEGATIVO': 0.0004106922715436667, 'POSITIVO': 0.9999545812606812},\n",
              " {'NEGATIVO': 9.485400369158015e-05, 'POSITIVO': 0.9999545812606812},\n",
              " {'NEGATIVO': 4.539786823443137e-05, 'POSITIVO': 0.9999545812606812},\n",
              " {'NEGATIVO': 0.0001510501460870728, 'POSITIVO': 0.9999545812606812},\n",
              " {'NEGATIVO': 5.068887912784703e-05, 'POSITIVO': 0.9999545812606812},\n",
              " {'NEGATIVO': 0.0005265669315122068, 'POSITIVO': 0.9999545812606812},\n",
              " {'NEGATIVO': 4.539786823443137e-05, 'POSITIVO': 0.9999545812606812},\n",
              " {'NEGATIVO': 7.745785114821047e-05, 'POSITIVO': 0.9999545812606812},\n",
              " {'NEGATIVO': 9.41933030844666e-05, 'POSITIVO': 0.9999545812606812},\n",
              " {'NEGATIVO': 4.539786823443137e-05, 'POSITIVO': 0.9999545812606812},\n",
              " {'NEGATIVO': 9.303266415372491e-05, 'POSITIVO': 0.9999545812606812},\n",
              " {'NEGATIVO': 4.539786823443137e-05, 'POSITIVO': 0.9999545812606812},\n",
              " {'NEGATIVO': 6.69799919705838e-05, 'POSITIVO': 0.9999545812606812},\n",
              " {'NEGATIVO': 9.982411575037986e-05, 'POSITIVO': 0.9999545812606812},\n",
              " {'NEGATIVO': 0.00017699794261716306, 'POSITIVO': 0.9999545812606812},\n",
              " {'NEGATIVO': 4.539786823443137e-05, 'POSITIVO': 0.9999545812606812},\n",
              " {'NEGATIVO': 4.539786823443137e-05, 'POSITIVO': 0.9999545812606812},\n",
              " {'NEGATIVO': 5.217270154389553e-05, 'POSITIVO': 0.9999545812606812},\n",
              " {'NEGATIVO': 0.00023055396741256118, 'POSITIVO': 0.9999545812606812},\n",
              " {'NEGATIVO': 0.00016444116772618145, 'POSITIVO': 0.9999545812606812},\n",
              " {'NEGATIVO': 0.0005737035535275936, 'POSITIVO': 0.9998301267623901},\n",
              " {'NEGATIVO': 4.539786823443137e-05, 'POSITIVO': 0.9999545812606812},\n",
              " {'NEGATIVO': 0.0002498396788723767, 'POSITIVO': 0.9998472929000854},\n",
              " {'NEGATIVO': 0.00021250102145131677, 'POSITIVO': 0.9999545812606812},\n",
              " {'NEGATIVO': 6.869281060062349e-05, 'POSITIVO': 0.9999545812606812},\n",
              " {'NEGATIVO': 0.0031800945289433002, 'POSITIVO': 0.9993372559547424},\n",
              " {'NEGATIVO': 0.0002804282703436911, 'POSITIVO': 0.9999545812606812},\n",
              " {'NEGATIVO': 4.539786823443137e-05, 'POSITIVO': 0.9999545812606812},\n",
              " {'NEGATIVO': 0.00031357217812910676, 'POSITIVO': 0.9999545812606812},\n",
              " {'NEGATIVO': 7.016241579549387e-05, 'POSITIVO': 0.9999545812606812},\n",
              " {'NEGATIVO': 4.539786823443137e-05, 'POSITIVO': 0.9999545812606812},\n",
              " {'NEGATIVO': 0.00020726854563690722, 'POSITIVO': 0.9999545812606812},\n",
              " {'NEGATIVO': 4.539786823443137e-05, 'POSITIVO': 0.9999545812606812},\n",
              " {'NEGATIVO': 0.00023055396741256118, 'POSITIVO': 0.9999545812606812},\n",
              " {'NEGATIVO': 6.691084854537621e-05, 'POSITIVO': 0.9999545812606812},\n",
              " {'NEGATIVO': 9.259906801162288e-05, 'POSITIVO': 0.9999545812606812},\n",
              " {'NEGATIVO': 4.539786823443137e-05, 'POSITIVO': 0.9999545812606812},\n",
              " {'NEGATIVO': 4.539786823443137e-05, 'POSITIVO': 0.9999545812606812},\n",
              " {'NEGATIVO': 4.539786823443137e-05, 'POSITIVO': 0.9999545812606812},\n",
              " {'NEGATIVO': 0.000863082124851644, 'POSITIVO': 0.9993187189102173},\n",
              " {'NEGATIVO': 0.0001306310878135264, 'POSITIVO': 0.999932050704956},\n",
              " {'NEGATIVO': 4.539786823443137e-05, 'POSITIVO': 0.9999545812606812},\n",
              " {'NEGATIVO': 4.539786823443137e-05, 'POSITIVO': 0.9999545812606812},\n",
              " {'NEGATIVO': 0.0001650149206398055, 'POSITIVO': 0.9999545812606812},\n",
              " {'NEGATIVO': 0.0006358778337016702, 'POSITIVO': 0.9999545812606812},\n",
              " {'NEGATIVO': 5.001420868211426e-05, 'POSITIVO': 0.9999545812606812},\n",
              " {'NEGATIVO': 0.00022833373805042356, 'POSITIVO': 0.9999545812606812},\n",
              " {'NEGATIVO': 8.02538197604008e-05, 'POSITIVO': 0.9999545812606812},\n",
              " {'NEGATIVO': 4.539786823443137e-05, 'POSITIVO': 0.9999545812606812},\n",
              " {'NEGATIVO': 5.035437425249256e-05, 'POSITIVO': 0.9999545812606812},\n",
              " {'NEGATIVO': 0.00011310553236398846, 'POSITIVO': 0.9999545812606812},\n",
              " {'NEGATIVO': 4.539786823443137e-05, 'POSITIVO': 0.9999545812606812},\n",
              " {'NEGATIVO': 0.0002726940729189664, 'POSITIVO': 0.9999545812606812},\n",
              " {'NEGATIVO': 0.00012360325490590185, 'POSITIVO': 0.9999346733093262},\n",
              " {'NEGATIVO': 4.798329609911889e-05, 'POSITIVO': 0.9999545812606812},\n",
              " {'NEGATIVO': 4.539786823443137e-05, 'POSITIVO': 0.9999545812606812},\n",
              " {'NEGATIVO': 6.541315087815747e-05, 'POSITIVO': 0.9999545812606812},\n",
              " {'NEGATIVO': 4.539786823443137e-05, 'POSITIVO': 0.9999545812606812},\n",
              " {'NEGATIVO': 4.539786823443137e-05, 'POSITIVO': 0.9999545812606812},\n",
              " {'NEGATIVO': 4.539786823443137e-05, 'POSITIVO': 0.9999545812606812},\n",
              " {'NEGATIVO': 0.0001240337296621874, 'POSITIVO': 0.9999537467956543},\n",
              " {'NEGATIVO': 0.0006387447938323021, 'POSITIVO': 0.9996032118797302},\n",
              " {'NEGATIVO': 0.0001113758553401567, 'POSITIVO': 0.9999545812606812},\n",
              " {'NEGATIVO': 4.539786823443137e-05, 'POSITIVO': 0.9999545812606812},\n",
              " {'NEGATIVO': 0.00014387919509317726, 'POSITIVO': 0.9999545812606812},\n",
              " {'NEGATIVO': 4.539786823443137e-05, 'POSITIVO': 0.9999545812606812},\n",
              " {'NEGATIVO': 0.0003212980809621513, 'POSITIVO': 0.9999545812606812},\n",
              " {'NEGATIVO': 4.539786823443137e-05, 'POSITIVO': 0.9999545812606812},\n",
              " {'NEGATIVO': 4.539786823443137e-05, 'POSITIVO': 0.9999545812606812},\n",
              " {'NEGATIVO': 4.539786823443137e-05, 'POSITIVO': 0.9999545812606812},\n",
              " {'NEGATIVO': 4.539786823443137e-05, 'POSITIVO': 0.9999545812606812},\n",
              " {'NEGATIVO': 0.00013769441284239292, 'POSITIVO': 0.9999545812606812},\n",
              " {'NEGATIVO': 4.539786823443137e-05, 'POSITIVO': 0.9999545812606812},\n",
              " {'NEGATIVO': 5.2524144848575816e-05, 'POSITIVO': 0.9999545812606812},\n",
              " {'NEGATIVO': 4.539786823443137e-05, 'POSITIVO': 0.9999545812606812},\n",
              " {'NEGATIVO': 4.539786823443137e-05, 'POSITIVO': 0.9999545812606812},\n",
              " {'NEGATIVO': 0.000584938854444772, 'POSITIVO': 0.9999545812606812},\n",
              " {'NEGATIVO': 0.00011714610445778817, 'POSITIVO': 0.9999545812606812},\n",
              " {'NEGATIVO': 4.539786823443137e-05, 'POSITIVO': 0.9999545812606812},\n",
              " {'NEGATIVO': 0.00016231332847382873, 'POSITIVO': 0.9999545812606812},\n",
              " {'NEGATIVO': 8.966351015260443e-05, 'POSITIVO': 0.9999545812606812},\n",
              " {'NEGATIVO': 4.539786823443137e-05, 'POSITIVO': 0.9999545812606812},\n",
              " {'NEGATIVO': 0.0006982659688219428, 'POSITIVO': 0.9999545812606812},\n",
              " {'NEGATIVO': 4.539786823443137e-05, 'POSITIVO': 0.9999545812606812},\n",
              " {'NEGATIVO': 4.539786823443137e-05, 'POSITIVO': 0.9999545812606812},\n",
              " {'NEGATIVO': 0.0001671405480010435, 'POSITIVO': 0.9999545812606812},\n",
              " {'NEGATIVO': 0.00012863308074884117, 'POSITIVO': 0.9999545812606812},\n",
              " {'NEGATIVO': 0.0004376194265205413, 'POSITIVO': 0.9999545812606812},\n",
              " {'NEGATIVO': 4.539786823443137e-05, 'POSITIVO': 0.9999545812606812},\n",
              " {'NEGATIVO': 0.00019673693168442696, 'POSITIVO': 0.9999545812606812},\n",
              " {'NEGATIVO': 0.0003706130082719028, 'POSITIVO': 0.9999337196350098},\n",
              " {'NEGATIVO': 0.00017559532716404647, 'POSITIVO': 0.9999545812606812},\n",
              " {'NEGATIVO': 4.539786823443137e-05, 'POSITIVO': 0.9999545812606812},\n",
              " {'NEGATIVO': 6.367599416989833e-05, 'POSITIVO': 0.9999545812606812},\n",
              " {'NEGATIVO': 0.00011266108049312606, 'POSITIVO': 0.9999545812606812},\n",
              " {'NEGATIVO': 4.539786823443137e-05, 'POSITIVO': 0.9999545812606812},\n",
              " {'NEGATIVO': 0.00019561145745683461, 'POSITIVO': 0.9999545812606812},\n",
              " {'NEGATIVO': 0.00032747784280218184, 'POSITIVO': 0.9999545812606812},\n",
              " {'NEGATIVO': 4.539786823443137e-05, 'POSITIVO': 0.9999545812606812},\n",
              " {'NEGATIVO': 8.599582361057401e-05, 'POSITIVO': 0.9999545812606812},\n",
              " {'NEGATIVO': 4.539786823443137e-05, 'POSITIVO': 0.9999545812606812},\n",
              " {'NEGATIVO': 0.00012919485743623227, 'POSITIVO': 0.9999545812606812},\n",
              " {'NEGATIVO': 6.405340536730364e-05, 'POSITIVO': 0.9999545812606812},\n",
              " {'NEGATIVO': 5.5747703299857676e-05, 'POSITIVO': 0.9999545812606812},\n",
              " {'NEGATIVO': 0.00011190462828380987, 'POSITIVO': 0.9999545812606812},\n",
              " {'NEGATIVO': 6.773200584575534e-05, 'POSITIVO': 0.9999545812606812},\n",
              " {'NEGATIVO': 7.20367970643565e-05, 'POSITIVO': 0.9999545812606812},\n",
              " {'NEGATIVO': 4.539786823443137e-05, 'POSITIVO': 0.9999545812606812},\n",
              " {'NEGATIVO': 5.8780875406228006e-05, 'POSITIVO': 0.9999545812606812},\n",
              " {'NEGATIVO': 0.00020368861441966146, 'POSITIVO': 0.9999545812606812},\n",
              " {'NEGATIVO': 5.306809180183336e-05, 'POSITIVO': 0.9999545812606812},\n",
              " {'NEGATIVO': 7.800288585713133e-05, 'POSITIVO': 0.9999545812606812},\n",
              " {'NEGATIVO': 4.539786823443137e-05, 'POSITIVO': 0.9999545812606812},\n",
              " {'NEGATIVO': 4.539786823443137e-05, 'POSITIVO': 0.9999545812606812},\n",
              " {'NEGATIVO': 6.691084854537621e-05, 'POSITIVO': 0.9999545812606812},\n",
              " {'NEGATIVO': 0.0002803863026201725, 'POSITIVO': 0.9999545812606812},\n",
              " {'NEGATIVO': 6.691084854537621e-05, 'POSITIVO': 0.9999545812606812},\n",
              " {'NEGATIVO': 0.0004298529529478401, 'POSITIVO': 0.9999545812606812},\n",
              " {'NEGATIVO': 6.576153100468218e-05, 'POSITIVO': 0.9999545812606812},\n",
              " {'NEGATIVO': 4.539786823443137e-05, 'POSITIVO': 0.9999545812606812},\n",
              " {'NEGATIVO': 0.00014855476911179721, 'POSITIVO': 0.9999545812606812},\n",
              " {'NEGATIVO': 0.0002860421664081514, 'POSITIVO': 0.9999545812606812},\n",
              " {'NEGATIVO': 0.00011441866081440821, 'POSITIVO': 0.9999545812606812},\n",
              " {'NEGATIVO': 0.00012606257223524153, 'POSITIVO': 0.9999545812606812},\n",
              " {'NEGATIVO': 4.539786823443137e-05, 'POSITIVO': 0.9999545812606812},\n",
              " {'NEGATIVO': 5.77930077270139e-05, 'POSITIVO': 0.9999545812606812},\n",
              " {'NEGATIVO': 4.539786823443137e-05, 'POSITIVO': 0.9999545812606812},\n",
              " {'NEGATIVO': 0.00015902239829301834, 'POSITIVO': 0.9999545812606812},\n",
              " {'NEGATIVO': 4.539786823443137e-05, 'POSITIVO': 0.9999545812606812},\n",
              " {'NEGATIVO': 6.30954818916507e-05, 'POSITIVO': 0.9999545812606812},\n",
              " {'NEGATIVO': 4.539786823443137e-05, 'POSITIVO': 0.9999545812606812},\n",
              " {'NEGATIVO': 8.908643940230832e-05, 'POSITIVO': 0.9999545812606812},\n",
              " {'NEGATIVO': 0.0001468625123379752, 'POSITIVO': 0.9999545812606812},\n",
              " {'NEGATIVO': 4.8884536226978526e-05, 'POSITIVO': 0.9999545812606812},\n",
              " {'NEGATIVO': 0.0003551466506905854, 'POSITIVO': 0.9999545812606812},\n",
              " {'NEGATIVO': 4.539786823443137e-05, 'POSITIVO': 0.9999545812606812},\n",
              " {'NEGATIVO': 0.0004993648617528379, 'POSITIVO': 0.9999545812606812},\n",
              " {'NEGATIVO': 6.691084854537621e-05, 'POSITIVO': 0.9999545812606812},\n",
              " {'NEGATIVO': 4.539786823443137e-05, 'POSITIVO': 0.9999545812606812},\n",
              " {'NEGATIVO': 5.234772470430471e-05, 'POSITIVO': 0.9999545812606812},\n",
              " {'NEGATIVO': 4.539786823443137e-05, 'POSITIVO': 0.9999545812606812},\n",
              " {'NEGATIVO': 0.00012578530004248023, 'POSITIVO': 0.9999545812606812},\n",
              " {'NEGATIVO': 4.539786823443137e-05, 'POSITIVO': 0.9999545812606812},\n",
              " {'NEGATIVO': 6.532800034619868e-05, 'POSITIVO': 0.9999545812606812},\n",
              " {'NEGATIVO': 0.000978850293904543, 'POSITIVO': 0.9999545812606812},\n",
              " {'NEGATIVO': 4.539786823443137e-05, 'POSITIVO': 0.9999545812606812},\n",
              " {'NEGATIVO': 4.539786823443137e-05, 'POSITIVO': 0.9999545812606812},\n",
              " {'NEGATIVO': 0.006518060341477394, 'POSITIVO': 0.997239351272583},\n",
              " {'NEGATIVO': 4.539786823443137e-05, 'POSITIVO': 0.9999545812606812},\n",
              " {'NEGATIVO': 4.539786823443137e-05, 'POSITIVO': 0.9999545812606812},\n",
              " {'NEGATIVO': 7.986088894540444e-05, 'POSITIVO': 0.9999545812606812},\n",
              " {'NEGATIVO': 6.704005500068888e-05, 'POSITIVO': 0.9999545812606812},\n",
              " {'NEGATIVO': 0.00011348861880833283, 'POSITIVO': 0.9999545812606812},\n",
              " {'NEGATIVO': 4.539786823443137e-05, 'POSITIVO': 0.9999545812606812},\n",
              " {'NEGATIVO': 0.00037524159415625036, 'POSITIVO': 0.9999545812606812},\n",
              " {'NEGATIVO': 0.0004269986238796264, 'POSITIVO': 0.9999545812606812},\n",
              " {'NEGATIVO': 4.539786823443137e-05, 'POSITIVO': 0.9999545812606812},\n",
              " {'NEGATIVO': 8.688040543347597e-05, 'POSITIVO': 0.9999545812606812},\n",
              " {'NEGATIVO': 0.00011253234697505832, 'POSITIVO': 0.9999545812606812},\n",
              " {'NEGATIVO': 0.00011215013364562765, 'POSITIVO': 0.9999545812606812},\n",
              " {'NEGATIVO': 4.539786823443137e-05, 'POSITIVO': 0.9999545812606812},\n",
              " {'NEGATIVO': 0.00016537279589101672, 'POSITIVO': 0.9999545812606812},\n",
              " {'NEGATIVO': 4.640522092813626e-05, 'POSITIVO': 0.9999545812606812},\n",
              " {'NEGATIVO': 4.539786823443137e-05, 'POSITIVO': 0.9999545812606812},\n",
              " {'NEGATIVO': 4.539786823443137e-05, 'POSITIVO': 0.9999545812606812},\n",
              " {'NEGATIVO': 7.193416968220845e-05, 'POSITIVO': 0.9999545812606812},\n",
              " {'NEGATIVO': 4.539786823443137e-05, 'POSITIVO': 0.9999545812606812},\n",
              " {'NEGATIVO': 4.539786823443137e-05, 'POSITIVO': 0.9999545812606812},\n",
              " {'NEGATIVO': 7.240566628752276e-05, 'POSITIVO': 0.9999545812606812},\n",
              " {'NEGATIVO': 4.539786823443137e-05, 'POSITIVO': 0.9999545812606812},\n",
              " {'NEGATIVO': 4.539786823443137e-05, 'POSITIVO': 0.9999545812606812},\n",
              " {'NEGATIVO': 0.00010675107478164136, 'POSITIVO': 0.9999545812606812},\n",
              " {'NEGATIVO': 5.49469878023956e-05, 'POSITIVO': 0.9999545812606812},\n",
              " {'NEGATIVO': 4.539786823443137e-05, 'POSITIVO': 0.9999545812606812},\n",
              " {'NEGATIVO': 0.00019262712157797068, 'POSITIVO': 0.9999545812606812},\n",
              " {'NEGATIVO': 4.539786823443137e-05, 'POSITIVO': 0.9999545812606812},\n",
              " {'NEGATIVO': 4.884701775154099e-05, 'POSITIVO': 0.9999545812606812},\n",
              " {'NEGATIVO': 4.539786823443137e-05, 'POSITIVO': 0.9999545812606812},\n",
              " {'NEGATIVO': 9.394913649884984e-05, 'POSITIVO': 0.9999545812606812},\n",
              " {'NEGATIVO': 0.00030918230186216533, 'POSITIVO': 0.9999545812606812},\n",
              " {'NEGATIVO': 4.539786823443137e-05, 'POSITIVO': 0.9999545812606812},\n",
              " {'NEGATIVO': 7.341660966631025e-05, 'POSITIVO': 0.9999545812606812},\n",
              " {'NEGATIVO': 5.8201170759275556e-05, 'POSITIVO': 0.9999545812606812},\n",
              " {'NEGATIVO': 4.539786823443137e-05, 'POSITIVO': 0.9999545812606812},\n",
              " {'NEGATIVO': 0.0005356427282094955, 'POSITIVO': 0.9999545812606812},\n",
              " {'NEGATIVO': 0.0014922807458788157, 'POSITIVO': 0.9999151229858398},\n",
              " {'NEGATIVO': 4.539786823443137e-05, 'POSITIVO': 0.9999545812606812},\n",
              " {'NEGATIVO': 0.00025241405819542706, 'POSITIVO': 0.999862551689148},\n",
              " {'NEGATIVO': 6.854662206023932e-05, 'POSITIVO': 0.9999545812606812},\n",
              " {'NEGATIVO': 0.0006880829459987581, 'POSITIVO': 0.9999545812606812},\n",
              " {'NEGATIVO': 0.00011604763130890206, 'POSITIVO': 0.9999545812606812},\n",
              " {'NEGATIVO': 4.936677942168899e-05, 'POSITIVO': 0.9999545812606812},\n",
              " {'NEGATIVO': 4.683361476054415e-05, 'POSITIVO': 0.9999545812606812},\n",
              " {'NEGATIVO': 4.924744280287996e-05, 'POSITIVO': 0.9999545812606812},\n",
              " {'NEGATIVO': 4.539786823443137e-05, 'POSITIVO': 0.9999545812606812},\n",
              " {'NEGATIVO': 0.00011989968334091827, 'POSITIVO': 0.9999545812606812},\n",
              " {'NEGATIVO': 4.539786823443137e-05, 'POSITIVO': 0.9999545812606812},\n",
              " {'NEGATIVO': 4.539786823443137e-05, 'POSITIVO': 0.9999545812606812},\n",
              " {'NEGATIVO': 5.801968654850498e-05, 'POSITIVO': 0.9999545812606812},\n",
              " {'NEGATIVO': 6.125439540483057e-05, 'POSITIVO': 0.9999545812606812},\n",
              " {'NEGATIVO': 8.026116847759113e-05, 'POSITIVO': 0.9999545812606812},\n",
              " {'NEGATIVO': 4.539786823443137e-05, 'POSITIVO': 0.9999545812606812},\n",
              " {'NEGATIVO': 4.539786823443137e-05, 'POSITIVO': 0.9999545812606812},\n",
              " {'NEGATIVO': 0.0003313313645776361, 'POSITIVO': 0.9999545812606812},\n",
              " {'NEGATIVO': 0.00012772421177942306, 'POSITIVO': 0.9999545812606812},\n",
              " {'NEGATIVO': 9.576731827110052e-05, 'POSITIVO': 0.9999545812606812},\n",
              " {'NEGATIVO': 4.539786823443137e-05, 'POSITIVO': 0.9999545812606812},\n",
              " {'NEGATIVO': 0.0001585964346304536, 'POSITIVO': 0.9999545812606812},\n",
              " {'NEGATIVO': 0.0004054559103678912, 'POSITIVO': 0.9999545812606812},\n",
              " {'NEGATIVO': 6.016182669554837e-05, 'POSITIVO': 0.9999545812606812},\n",
              " {'NEGATIVO': 0.00014657086285296828, 'POSITIVO': 0.9999545812606812},\n",
              " {'NEGATIVO': 8.967711619334295e-05, 'POSITIVO': 0.9999545812606812},\n",
              " {'NEGATIVO': 7.938823546282947e-05, 'POSITIVO': 0.9999545812606812},\n",
              " {'NEGATIVO': 0.0005356427282094955, 'POSITIVO': 0.9999545812606812},\n",
              " {'NEGATIVO': 6.93186666467227e-05, 'POSITIVO': 0.9999545812606812},\n",
              " {'NEGATIVO': 0.0002005636488320306, 'POSITIVO': 0.9998496770858765},\n",
              " {'NEGATIVO': 4.81551032862626e-05, 'POSITIVO': 0.9999545812606812},\n",
              " {'NEGATIVO': 5.0514721806393936e-05, 'POSITIVO': 0.9999545812606812},\n",
              " {'NEGATIVO': 5.5792163038859144e-05, 'POSITIVO': 0.9999545812606812},\n",
              " {'NEGATIVO': 0.00027416518423706293, 'POSITIVO': 0.9999545812606812},\n",
              " {'NEGATIVO': 4.539786823443137e-05, 'POSITIVO': 0.9999545812606812},\n",
              " {'NEGATIVO': 4.539786823443137e-05, 'POSITIVO': 0.9999545812606812},\n",
              " {'NEGATIVO': 0.0016369479708373547, 'POSITIVO': 0.9999090433120728},\n",
              " {'NEGATIVO': 0.0001364948839182034, 'POSITIVO': 0.9999545812606812},\n",
              " {'NEGATIVO': 4.539786823443137e-05, 'POSITIVO': 0.9999545812606812},\n",
              " {'NEGATIVO': 0.0007839963072910905, 'POSITIVO': 0.9998310804367065},\n",
              " {'NEGATIVO': 0.00027043893351219594, 'POSITIVO': 0.9999545812606812},\n",
              " {'NEGATIVO': 0.0002328743867110461, 'POSITIVO': 0.9996694326400757},\n",
              " {'NEGATIVO': 4.539786823443137e-05, 'POSITIVO': 0.9999545812606812},\n",
              " {'NEGATIVO': 4.539786823443137e-05, 'POSITIVO': 0.9999545812606812},\n",
              " {'NEGATIVO': 4.621324842446484e-05, 'POSITIVO': 0.9999545812606812},\n",
              " {'NEGATIVO': 4.621324842446484e-05, 'POSITIVO': 0.9999545812606812},\n",
              " {'NEGATIVO': 5.349377534002997e-05, 'POSITIVO': 0.9999545812606812},\n",
              " {'NEGATIVO': 4.621324842446484e-05, 'POSITIVO': 0.9999545812606812},\n",
              " {'NEGATIVO': 5.454176425701007e-05, 'POSITIVO': 0.9999545812606812},\n",
              " {'NEGATIVO': 4.621324842446484e-05, 'POSITIVO': 0.9999545812606812},\n",
              " {'NEGATIVO': 4.539786823443137e-05, 'POSITIVO': 0.9999545812606812},\n",
              " {'NEGATIVO': 6.609202682739124e-05, 'POSITIVO': 0.9999545812606812},\n",
              " {'NEGATIVO': 0.0007965629338286817, 'POSITIVO': 0.9999545812606812},\n",
              " {'NEGATIVO': 4.539786823443137e-05, 'POSITIVO': 0.9999545812606812},\n",
              " {'NEGATIVO': 0.00020819353812839836, 'POSITIVO': 0.9999545812606812},\n",
              " {'NEGATIVO': 0.00016996623890008777, 'POSITIVO': 0.9999545812606812},\n",
              " {'NEGATIVO': 0.0013216901570558548, 'POSITIVO': 0.9999545812606812},\n",
              " {'NEGATIVO': 4.539786823443137e-05, 'POSITIVO': 0.9999545812606812},\n",
              " {'NEGATIVO': 0.0007867268286645412, 'POSITIVO': 0.9996466636657715},\n",
              " {'NEGATIVO': 4.539786823443137e-05, 'POSITIVO': 0.9999545812606812},\n",
              " {'NEGATIVO': 4.539786823443137e-05, 'POSITIVO': 0.9999545812606812},\n",
              " {'NEGATIVO': 6.561075861100107e-05, 'POSITIVO': 0.9999545812606812},\n",
              " {'NEGATIVO': 0.0007030153647065163, 'POSITIVO': 0.9999474287033081},\n",
              " {'NEGATIVO': 4.539786823443137e-05, 'POSITIVO': 0.9999545812606812},\n",
              " {'NEGATIVO': 4.539786823443137e-05, 'POSITIVO': 0.9999545812606812},\n",
              " {'NEGATIVO': 4.539786823443137e-05, 'POSITIVO': 0.9999545812606812},\n",
              " {'NEGATIVO': 4.539786823443137e-05, 'POSITIVO': 0.9999545812606812},\n",
              " {'NEGATIVO': 4.539786823443137e-05, 'POSITIVO': 0.9999545812606812},\n",
              " {'NEGATIVO': 4.539786823443137e-05, 'POSITIVO': 0.9999545812606812},\n",
              " {'NEGATIVO': 6.691084854537621e-05, 'POSITIVO': 0.9999545812606812},\n",
              " {'NEGATIVO': 0.005650017410516739, 'POSITIVO': 0.9993591904640198},\n",
              " {'NEGATIVO': 4.539786823443137e-05, 'POSITIVO': 0.9999545812606812},\n",
              " {'NEGATIVO': 6.565569492522627e-05, 'POSITIVO': 0.9999545812606812},\n",
              " {'NEGATIVO': 5.80987507419195e-05, 'POSITIVO': 0.9999545812606812},\n",
              " {'NEGATIVO': 9.964845958165824e-05, 'POSITIVO': 0.9999545812606812},\n",
              " {'NEGATIVO': 5.3731200750917196e-05, 'POSITIVO': 0.9999545812606812},\n",
              " {'NEGATIVO': 4.539786823443137e-05, 'POSITIVO': 0.9999545812606812},\n",
              " {'NEGATIVO': 7.000555342528969e-05, 'POSITIVO': 0.9999545812606812},\n",
              " {'NEGATIVO': 6.391495844582096e-05, 'POSITIVO': 0.9999545812606812},\n",
              " {'NEGATIVO': 0.00016475662414450198, 'POSITIVO': 0.9999459981918335},\n",
              " {'NEGATIVO': 6.545140786329284e-05, 'POSITIVO': 0.9999545812606812},\n",
              " {'NEGATIVO': 0.00012294780754018575, 'POSITIVO': 0.9999545812606812},\n",
              " {'NEGATIVO': 4.539786823443137e-05, 'POSITIVO': 0.9999545812606812},\n",
              " {'NEGATIVO': 4.539786823443137e-05, 'POSITIVO': 0.9999545812606812},\n",
              " {'NEGATIVO': 8.964222797658294e-05, 'POSITIVO': 0.9999545812606812},\n",
              " {'NEGATIVO': 0.00011472981714177877, 'POSITIVO': 0.9999545812606812},\n",
              " {'NEGATIVO': 4.539786823443137e-05, 'POSITIVO': 0.9999545812606812},\n",
              " {'NEGATIVO': 4.539786823443137e-05, 'POSITIVO': 0.9999545812606812},\n",
              " {'NEGATIVO': 4.539786823443137e-05, 'POSITIVO': 0.9999545812606812},\n",
              " {'NEGATIVO': 4.539786823443137e-05, 'POSITIVO': 0.9999545812606812},\n",
              " {'NEGATIVO': 0.00012732816685456783, 'POSITIVO': 0.9999545812606812},\n",
              " {'NEGATIVO': 0.00011117796384496614, 'POSITIVO': 0.9999545812606812},\n",
              " {'NEGATIVO': 0.0020175569225102663, 'POSITIVO': 0.999237060546875},\n",
              " {'NEGATIVO': 4.552106838673353e-05, 'POSITIVO': 0.9999545812606812},\n",
              " {'NEGATIVO': 4.539786823443137e-05, 'POSITIVO': 0.9999545812606812},\n",
              " {'NEGATIVO': 4.539786823443137e-05, 'POSITIVO': 0.9999545812606812},\n",
              " {'NEGATIVO': 0.0018085272749885917, 'POSITIVO': 0.9995517134666443},\n",
              " {'NEGATIVO': 0.0003660809015855193, 'POSITIVO': 0.9999545812606812},\n",
              " {'NEGATIVO': 6.753046181984246e-05, 'POSITIVO': 0.9999545812606812},\n",
              " {'NEGATIVO': 9.587340173311532e-05, 'POSITIVO': 0.9999545812606812},\n",
              " {'NEGATIVO': 0.0001054434324032627, 'POSITIVO': 0.9999545812606812},\n",
              " {'NEGATIVO': 4.539786823443137e-05, 'POSITIVO': 0.9999545812606812},\n",
              " {'NEGATIVO': 0.00014748336980119348, 'POSITIVO': 0.9999545812606812},\n",
              " {'NEGATIVO': 4.539786823443137e-05, 'POSITIVO': 0.9999545812606812},\n",
              " {'NEGATIVO': 4.539786823443137e-05, 'POSITIVO': 0.9999545812606812},\n",
              " {'NEGATIVO': 4.539786823443137e-05, 'POSITIVO': 0.9999545812606812},\n",
              " {'NEGATIVO': 0.00034660185337997973, 'POSITIVO': 0.9999545812606812},\n",
              " {'NEGATIVO': 4.539786823443137e-05, 'POSITIVO': 0.9999545812606812},\n",
              " {'NEGATIVO': 4.539786823443137e-05, 'POSITIVO': 0.9999545812606812},\n",
              " {'NEGATIVO': 4.670293856179342e-05, 'POSITIVO': 0.9999545812606812},\n",
              " {'NEGATIVO': 4.539786823443137e-05, 'POSITIVO': 0.9999545812606812},\n",
              " {'NEGATIVO': 4.539786823443137e-05, 'POSITIVO': 0.9999545812606812},\n",
              " {'NEGATIVO': 9.568689711159095e-05, 'POSITIVO': 0.9999545812606812},\n",
              " {'NEGATIVO': 4.539786823443137e-05, 'POSITIVO': 0.9999545812606812},\n",
              " {'NEGATIVO': 4.539786823443137e-05, 'POSITIVO': 0.9999545812606812},\n",
              " {'NEGATIVO': 0.0038568160962313414, 'POSITIVO': 0.9999338388442993},\n",
              " {'NEGATIVO': 5.186810813029297e-05, 'POSITIVO': 0.9999545812606812},\n",
              " {'NEGATIVO': 4.539786823443137e-05, 'POSITIVO': 0.9999545812606812},\n",
              " {'NEGATIVO': 4.539786823443137e-05, 'POSITIVO': 0.9999545812606812},\n",
              " {'NEGATIVO': 4.539786823443137e-05, 'POSITIVO': 0.9999545812606812},\n",
              " {'NEGATIVO': 4.539786823443137e-05, 'POSITIVO': 0.9999545812606812},\n",
              " {'NEGATIVO': 5.977940236334689e-05, 'POSITIVO': 0.9999545812606812},\n",
              " {'NEGATIVO': 4.539786823443137e-05, 'POSITIVO': 0.9999545812606812},\n",
              " {'NEGATIVO': 0.00011078577517764643, 'POSITIVO': 0.9999545812606812},\n",
              " {'NEGATIVO': 0.00023250874073710293, 'POSITIVO': 0.9998496770858765},\n",
              " {'NEGATIVO': 4.539786823443137e-05, 'POSITIVO': 0.9999545812606812},\n",
              " {'NEGATIVO': 7.553728937637061e-05, 'POSITIVO': 0.9999545812606812},\n",
              " {'NEGATIVO': 5.051785410614684e-05, 'POSITIVO': 0.9999545812606812},\n",
              " {'NEGATIVO': 0.0001536847121315077, 'POSITIVO': 0.9999545812606812},\n",
              " {'NEGATIVO': 9.054878319147974e-05, 'POSITIVO': 0.9999545812606812},\n",
              " {'NEGATIVO': 0.0001396013394696638, 'POSITIVO': 0.9999545812606812},\n",
              " {'NEGATIVO': 4.539786823443137e-05, 'POSITIVO': 0.9999545812606812},\n",
              " {'NEGATIVO': 4.539786823443137e-05, 'POSITIVO': 0.9999545812606812},\n",
              " {'NEGATIVO': 4.539786823443137e-05, 'POSITIVO': 0.9999545812606812},\n",
              " {'NEGATIVO': 4.539786823443137e-05, 'POSITIVO': 0.9999545812606812},\n",
              " {'NEGATIVO': 4.539786823443137e-05, 'POSITIVO': 0.9999545812606812},\n",
              " {'NEGATIVO': 5.395610423875041e-05, 'POSITIVO': 0.9999545812606812},\n",
              " {'NEGATIVO': 4.539786823443137e-05, 'POSITIVO': 0.9999545812606812},\n",
              " {'NEGATIVO': 8.152647933457047e-05, 'POSITIVO': 0.9999545812606812},\n",
              " {'NEGATIVO': 0.00016245779988821596, 'POSITIVO': 0.9999545812606812},\n",
              " {'NEGATIVO': 4.539786823443137e-05, 'POSITIVO': 0.9999545812606812},\n",
              " {'NEGATIVO': 0.00015402228746097535, 'POSITIVO': 0.9999545812606812},\n",
              " {'NEGATIVO': 7.12608452886343e-05, 'POSITIVO': 0.9999545812606812},\n",
              " {'NEGATIVO': 4.539786823443137e-05, 'POSITIVO': 0.9999545812606812},\n",
              " {'NEGATIVO': 0.0006493747350759804, 'POSITIVO': 0.9997991919517517},\n",
              " {'NEGATIVO': 8.654749399283901e-05, 'POSITIVO': 0.9999545812606812},\n",
              " {'NEGATIVO': 4.539786823443137e-05, 'POSITIVO': 0.9999545812606812},\n",
              " {'NEGATIVO': 5.257365046418272e-05, 'POSITIVO': 0.9999545812606812},\n",
              " {'NEGATIVO': 7.658040703972802e-05, 'POSITIVO': 0.9999545812606812},\n",
              " {'NEGATIVO': 0.0003894840774592012, 'POSITIVO': 0.9999018907546997},\n",
              " {'NEGATIVO': 4.539786823443137e-05, 'POSITIVO': 0.9999545812606812},\n",
              " {'NEGATIVO': 5.4906184232095256e-05, 'POSITIVO': 0.9999545812606812},\n",
              " {'NEGATIVO': 0.00016446167137473822, 'POSITIVO': 0.9999545812606812},\n",
              " {'NEGATIVO': 0.00015584008360747248, 'POSITIVO': 0.9999545812606812},\n",
              " {'NEGATIVO': 5.924548167968169e-05, 'POSITIVO': 0.9999545812606812},\n",
              " {'NEGATIVO': 4.539786823443137e-05, 'POSITIVO': 0.9999545812606812},\n",
              " {'NEGATIVO': 4.539786823443137e-05, 'POSITIVO': 0.9999545812606812},\n",
              " {'NEGATIVO': 0.00017085943545680493, 'POSITIVO': 0.9999545812606812},\n",
              " {'NEGATIVO': 0.00043653094326145947, 'POSITIVO': 0.9999220371246338},\n",
              " {'NEGATIVO': 4.539786823443137e-05, 'POSITIVO': 0.9999545812606812},\n",
              " {'NEGATIVO': 4.539786823443137e-05, 'POSITIVO': 0.9999545812606812},\n",
              " {'NEGATIVO': 0.00014954793732613325, 'POSITIVO': 0.9999545812606812},\n",
              " {'NEGATIVO': 0.00010251195635646582, 'POSITIVO': 0.9999545812606812},\n",
              " {'NEGATIVO': 0.00014831982844043523, 'POSITIVO': 0.9999545812606812},\n",
              " {'NEGATIVO': 0.003319777548313141, 'POSITIVO': 0.9963873624801636},\n",
              " {'NEGATIVO': 4.539786823443137e-05, 'POSITIVO': 0.9999545812606812},\n",
              " {'NEGATIVO': 6.280104571487755e-05, 'POSITIVO': 0.9999545812606812},\n",
              " {'NEGATIVO': 0.00013462448259815574, 'POSITIVO': 0.9999545812606812},\n",
              " {'NEGATIVO': 0.000230037301662378, 'POSITIVO': 0.9999545812606812},\n",
              " {'NEGATIVO': 4.539786823443137e-05, 'POSITIVO': 0.9999545812606812},\n",
              " {'NEGATIVO': 4.539786823443137e-05, 'POSITIVO': 0.9999545812606812},\n",
              " {'NEGATIVO': 5.885277278139256e-05, 'POSITIVO': 0.9999545812606812},\n",
              " {'NEGATIVO': 0.00010834112617885694, 'POSITIVO': 0.9999545812606812},\n",
              " {'NEGATIVO': 4.539786823443137e-05, 'POSITIVO': 0.9999545812606812},\n",
              " {'NEGATIVO': 0.00010197075607720762, 'POSITIVO': 0.9999545812606812},\n",
              " {'NEGATIVO': 0.00015277111378964037, 'POSITIVO': 0.9999545812606812},\n",
              " {'NEGATIVO': 0.0001409004325978458, 'POSITIVO': 0.9999545812606812},\n",
              " {'NEGATIVO': 4.539786823443137e-05, 'POSITIVO': 0.9999545812606812},\n",
              " {'NEGATIVO': 0.0001483867090428248, 'POSITIVO': 0.9999545812606812},\n",
              " {'NEGATIVO': 5.517134195542894e-05, 'POSITIVO': 0.9999545812606812},\n",
              " {'NEGATIVO': 0.0003670445003081113, 'POSITIVO': 0.9999545812606812},\n",
              " {'NEGATIVO': 0.00043495214777067304, 'POSITIVO': 0.9999545812606812},\n",
              " {'NEGATIVO': 6.127268716227263e-05, 'POSITIVO': 0.9999545812606812},\n",
              " {'NEGATIVO': 0.000184629563591443, 'POSITIVO': 0.9999520778656006},\n",
              " {'NEGATIVO': 4.539786823443137e-05, 'POSITIVO': 0.9999545812606812},\n",
              " {'NEGATIVO': 9.17970683076419e-05, 'POSITIVO': 0.9999545812606812},\n",
              " {'NEGATIVO': 0.00020011382002849132, 'POSITIVO': 0.9999545812606812},\n",
              " {'NEGATIVO': 4.539786823443137e-05, 'POSITIVO': 0.9999545812606812},\n",
              " {'NEGATIVO': 4.539786823443137e-05, 'POSITIVO': 0.9999545812606812},\n",
              " {'NEGATIVO': 4.92807048431132e-05, 'POSITIVO': 0.9999545812606812},\n",
              " {'NEGATIVO': 0.000306381203699857, 'POSITIVO': 0.9999545812606812},\n",
              " {'NEGATIVO': 4.539786823443137e-05, 'POSITIVO': 0.9999545812606812},\n",
              " {'NEGATIVO': 6.691084854537621e-05, 'POSITIVO': 0.9999545812606812},\n",
              " {'NEGATIVO': 4.539786823443137e-05, 'POSITIVO': 0.9999545812606812},\n",
              " {'NEGATIVO': 4.539786823443137e-05, 'POSITIVO': 0.9999545812606812},\n",
              " {'NEGATIVO': 4.539786823443137e-05, 'POSITIVO': 0.9999545812606812},\n",
              " {'NEGATIVO': 0.00012019858695566654, 'POSITIVO': 0.9999545812606812},\n",
              " {'NEGATIVO': 4.539786823443137e-05, 'POSITIVO': 0.9999545812606812},\n",
              " {'NEGATIVO': 0.00021113049297127873, 'POSITIVO': 0.9999545812606812},\n",
              " {'NEGATIVO': 0.0003381964925210923, 'POSITIVO': 0.9999545812606812},\n",
              " {'NEGATIVO': 5.2294792112661526e-05, 'POSITIVO': 0.9999545812606812},\n",
              " {'NEGATIVO': 0.0002285866648890078, 'POSITIVO': 0.9999545812606812},\n",
              " {'NEGATIVO': 0.00032445104443468153, 'POSITIVO': 0.9999545812606812},\n",
              " {'NEGATIVO': 0.00032411928987130523, 'POSITIVO': 0.9999545812606812},\n",
              " {'NEGATIVO': 0.0006676108459942043, 'POSITIVO': 0.9999545812606812},\n",
              " {'NEGATIVO': 4.539786823443137e-05, 'POSITIVO': 0.9999545812606812},\n",
              " {'NEGATIVO': 0.004147960804402828, 'POSITIVO': 0.9996559619903564},\n",
              " {'NEGATIVO': 4.8904399591265246e-05, 'POSITIVO': 0.9999545812606812},\n",
              " {'NEGATIVO': 7.286531763384119e-05, 'POSITIVO': 0.9999545812606812},\n",
              " {'NEGATIVO': 0.0002292069111717865, 'POSITIVO': 0.9999545812606812},\n",
              " {'NEGATIVO': 4.539786823443137e-05, 'POSITIVO': 0.9999545812606812},\n",
              " {'NEGATIVO': 7.021120836725459e-05, 'POSITIVO': 0.9999545812606812},\n",
              " {'NEGATIVO': 5.57772655156441e-05, 'POSITIVO': 0.9999545812606812},\n",
              " {'NEGATIVO': 0.00023055396741256118, 'POSITIVO': 0.9999545812606812},\n",
              " {'NEGATIVO': 4.539786823443137e-05, 'POSITIVO': 0.9999545812606812},\n",
              " {'NEGATIVO': 4.539786823443137e-05, 'POSITIVO': 0.9999545812606812},\n",
              " {'NEGATIVO': 4.539786823443137e-05, 'POSITIVO': 0.9999545812606812},\n",
              " {'NEGATIVO': 4.539786823443137e-05, 'POSITIVO': 0.9999545812606812},\n",
              " {'NEGATIVO': 0.0031116208992898464, 'POSITIVO': 0.9997192025184631},\n",
              " {'NEGATIVO': 0.00013439414033200592, 'POSITIVO': 0.9999545812606812},\n",
              " {'NEGATIVO': 9.671357838669792e-05, 'POSITIVO': 0.9999545812606812},\n",
              " {'NEGATIVO': 0.00011348861880833283, 'POSITIVO': 0.9999545812606812},\n",
              " {'NEGATIVO': 0.00011973402433795854, 'POSITIVO': 0.9999545812606812},\n",
              " {'NEGATIVO': 7.456618914147839e-05, 'POSITIVO': 0.9999414682388306},\n",
              " {'NEGATIVO': 0.0024771213065832853, 'POSITIVO': 0.9999545812606812},\n",
              " {'NEGATIVO': 4.539786823443137e-05, 'POSITIVO': 0.9999545812606812},\n",
              " {'NEGATIVO': 4.539786823443137e-05, 'POSITIVO': 0.9999545812606812},\n",
              " {'NEGATIVO': 5.80987507419195e-05, 'POSITIVO': 0.9999545812606812},\n",
              " {'NEGATIVO': 4.539786823443137e-05, 'POSITIVO': 0.9999545812606812},\n",
              " {'NEGATIVO': 8.128947229124606e-05, 'POSITIVO': 0.9999545812606812},\n",
              " {'NEGATIVO': 4.539786823443137e-05, 'POSITIVO': 0.9999545812606812},\n",
              " {'NEGATIVO': 4.539786823443137e-05, 'POSITIVO': 0.9999545812606812},\n",
              " {'NEGATIVO': 4.539786823443137e-05, 'POSITIVO': 0.9999545812606812},\n",
              " {'NEGATIVO': 6.274729094002396e-05, 'POSITIVO': 0.9999545812606812},\n",
              " {'NEGATIVO': 0.00015102524776011705, 'POSITIVO': 0.9999545812606812},\n",
              " {'NEGATIVO': 0.005597340874373913, 'POSITIVO': 0.999422550201416},\n",
              " {'NEGATIVO': 4.539786823443137e-05, 'POSITIVO': 0.9999545812606812},\n",
              " {'NEGATIVO': 5.790251088910736e-05, 'POSITIVO': 0.9999545812606812},\n",
              " {'NEGATIVO': 0.00013409343955572695, 'POSITIVO': 0.9999545812606812},\n",
              " {'NEGATIVO': 5.245846841717139e-05, 'POSITIVO': 0.9999545812606812},\n",
              " {'NEGATIVO': 7.336292037507519e-05, 'POSITIVO': 0.9999545812606812},\n",
              " {'NEGATIVO': 5.627714563161135e-05, 'POSITIVO': 0.9999545812606812},\n",
              " {'NEGATIVO': 4.539786823443137e-05, 'POSITIVO': 0.9999545812606812},\n",
              " {'NEGATIVO': 0.0006652073352597654, 'POSITIVO': 0.9999545812606812},\n",
              " {'NEGATIVO': 4.539786823443137e-05, 'POSITIVO': 0.9999545812606812},\n",
              " {'NEGATIVO': 0.00015070702647790313, 'POSITIVO': 0.9998511075973511},\n",
              " {'NEGATIVO': 4.539786823443137e-05, 'POSITIVO': 0.9999545812606812},\n",
              " {'NEGATIVO': 4.539786823443137e-05, 'POSITIVO': 0.9999545812606812},\n",
              " {'NEGATIVO': 0.0006739365053363144, 'POSITIVO': 0.9998857975006104},\n",
              " {'NEGATIVO': 5.314928057487123e-05, 'POSITIVO': 0.9999545812606812},\n",
              " {'NEGATIVO': 9.752318146638572e-05, 'POSITIVO': 0.9999545812606812},\n",
              " {'NEGATIVO': 4.539786823443137e-05, 'POSITIVO': 0.9999545812606812},\n",
              " {'NEGATIVO': 0.00018849543994292617, 'POSITIVO': 0.9999545812606812},\n",
              " {'NEGATIVO': 0.0032529751770198345, 'POSITIVO': 0.9989805817604065},\n",
              " {'NEGATIVO': 4.539786823443137e-05, 'POSITIVO': 0.9999545812606812},\n",
              " {'NEGATIVO': 4.539786823443137e-05, 'POSITIVO': 0.9999545812606812},\n",
              " {'NEGATIVO': 8.828615682432428e-05, 'POSITIVO': 0.9999545812606812},\n",
              " {'NEGATIVO': 0.001644883188419044, 'POSITIVO': 0.99956876039505},\n",
              " {'NEGATIVO': 4.539786823443137e-05, 'POSITIVO': 0.9999545812606812},\n",
              " {'NEGATIVO': 7.214858487714082e-05, 'POSITIVO': 0.9998676776885986},\n",
              " {'NEGATIVO': 0.00012055487604811788, 'POSITIVO': 0.9999545812606812},\n",
              " {'NEGATIVO': 4.539786823443137e-05, 'POSITIVO': 0.9999545812606812},\n",
              " {'NEGATIVO': 4.539786823443137e-05, 'POSITIVO': 0.9999545812606812},\n",
              " {'NEGATIVO': 5.691431579180062e-05, 'POSITIVO': 0.9999545812606812},\n",
              " {'NEGATIVO': 0.0007042693323455751, 'POSITIVO': 0.9999222755432129},\n",
              " {'NEGATIVO': 0.0008197082788683474, 'POSITIVO': 0.9999213218688965},\n",
              " {'NEGATIVO': 0.00014272824046202004, 'POSITIVO': 0.9999545812606812},\n",
              " {'NEGATIVO': 6.364928412949666e-05, 'POSITIVO': 0.9999545812606812},\n",
              " {'NEGATIVO': 4.539786823443137e-05, 'POSITIVO': 0.9999545812606812},\n",
              " {'NEGATIVO': 0.00023055396741256118, 'POSITIVO': 0.9999545812606812},\n",
              " {'NEGATIVO': 4.539786823443137e-05, 'POSITIVO': 0.9999545812606812},\n",
              " {'NEGATIVO': 7.777856808388606e-05, 'POSITIVO': 0.9999545812606812},\n",
              " {'NEGATIVO': 4.539786823443137e-05, 'POSITIVO': 0.9999545812606812},\n",
              " {'NEGATIVO': 4.539786823443137e-05, 'POSITIVO': 0.9999545812606812},\n",
              " {'NEGATIVO': 0.00018385291332378983, 'POSITIVO': 0.9999545812606812},\n",
              " {'NEGATIVO': 4.539786823443137e-05, 'POSITIVO': 0.9999545812606812},\n",
              " {'NEGATIVO': 4.539786823443137e-05, 'POSITIVO': 0.9999545812606812},\n",
              " {'NEGATIVO': 0.000566342961974442, 'POSITIVO': 0.9999545812606812},\n",
              " {'NEGATIVO': 0.00022147319396026433, 'POSITIVO': 0.9999545812606812},\n",
              " {'NEGATIVO': 0.00010433991701574996, 'POSITIVO': 0.9999545812606812},\n",
              " {'NEGATIVO': 6.448855856433511e-05, 'POSITIVO': 0.9999545812606812},\n",
              " {'NEGATIVO': 5.08280390931759e-05, 'POSITIVO': 0.9999545812606812},\n",
              " {'NEGATIVO': 7.099170761648566e-05, 'POSITIVO': 0.9999545812606812},\n",
              " {'NEGATIVO': 4.539786823443137e-05, 'POSITIVO': 0.9999545812606812},\n",
              " {'NEGATIVO': 8.670577517477795e-05, 'POSITIVO': 0.9999545812606812},\n",
              " {'NEGATIVO': 4.539786823443137e-05, 'POSITIVO': 0.9999545812606812},\n",
              " {'NEGATIVO': 4.539786823443137e-05, 'POSITIVO': 0.9999545812606812},\n",
              " {'NEGATIVO': 0.00010835176362888888, 'POSITIVO': 0.9999545812606812},\n",
              " {'NEGATIVO': 0.00013875370495952666, 'POSITIVO': 0.9999545812606812},\n",
              " {'NEGATIVO': 9.754429629538208e-05, 'POSITIVO': 0.9999545812606812},\n",
              " {'NEGATIVO': 4.539786823443137e-05, 'POSITIVO': 0.9999545812606812},\n",
              " {'NEGATIVO': 4.539786823443137e-05, 'POSITIVO': 0.9999545812606812},\n",
              " {'NEGATIVO': 4.539786823443137e-05, 'POSITIVO': 0.9999545812606812},\n",
              " {'NEGATIVO': 0.0007099653012119234, 'POSITIVO': 0.9999532699584961},\n",
              " {'NEGATIVO': 4.539786823443137e-05, 'POSITIVO': 0.9999545812606812},\n",
              " {'NEGATIVO': 4.539786823443137e-05, 'POSITIVO': 0.9999545812606812},\n",
              " {'NEGATIVO': 9.429558122064918e-05, 'POSITIVO': 0.9999545812606812},\n",
              " {'NEGATIVO': 0.00018931535305455327, 'POSITIVO': 0.9999545812606812},\n",
              " {'NEGATIVO': 4.539786823443137e-05, 'POSITIVO': 0.9999545812606812},\n",
              " {'NEGATIVO': 0.00016384296759497374, 'POSITIVO': 0.9999545812606812},\n",
              " {'NEGATIVO': 0.0014483937993645668, 'POSITIVO': 0.9999545812606812},\n",
              " {'NEGATIVO': 7.124474359443411e-05, 'POSITIVO': 0.9999545812606812},\n",
              " {'NEGATIVO': 0.0002991057699546218, 'POSITIVO': 0.9999545812606812},\n",
              " {'NEGATIVO': 0.0009059685980901122, 'POSITIVO': 0.999880313873291},\n",
              " {'NEGATIVO': 4.9657919589662924e-05, 'POSITIVO': 0.9999545812606812},\n",
              " {'NEGATIVO': 0.00033288091071881354, 'POSITIVO': 0.9999545812606812},\n",
              " {'NEGATIVO': 7.479984924430028e-05, 'POSITIVO': 0.9999545812606812},\n",
              " {'NEGATIVO': 4.539786823443137e-05, 'POSITIVO': 0.9999545812606812},\n",
              " {'NEGATIVO': 0.0004340396844781935, 'POSITIVO': 0.9999545812606812},\n",
              " {'NEGATIVO': 8.186083141481504e-05, 'POSITIVO': 0.9999545812606812},\n",
              " {'NEGATIVO': 4.539786823443137e-05, 'POSITIVO': 0.9999545812606812},\n",
              " {'NEGATIVO': 4.539786823443137e-05, 'POSITIVO': 0.9999545812606812},\n",
              " {'NEGATIVO': 4.539786823443137e-05, 'POSITIVO': 0.9999545812606812},\n",
              " {'NEGATIVO': 4.539786823443137e-05, 'POSITIVO': 0.9999545812606812},\n",
              " {'NEGATIVO': 4.539786823443137e-05, 'POSITIVO': 0.9999545812606812},\n",
              " {'NEGATIVO': 6.897822458995506e-05, 'POSITIVO': 0.9999545812606812},\n",
              " {'NEGATIVO': 7.997261855052784e-05, 'POSITIVO': 0.9999545812606812},\n",
              " {'NEGATIVO': 4.539786823443137e-05, 'POSITIVO': 0.9999545812606812},\n",
              " {'NEGATIVO': 9.051743836607784e-05, 'POSITIVO': 0.9999542236328125},\n",
              " {'NEGATIVO': 7.617587834829465e-05, 'POSITIVO': 0.9999545812606812},\n",
              " {'NEGATIVO': 4.539786823443137e-05, 'POSITIVO': 0.9999545812606812},\n",
              " {'NEGATIVO': 6.0204525652807206e-05, 'POSITIVO': 0.9999545812606812},\n",
              " {'NEGATIVO': 0.0001221087877638638, 'POSITIVO': 0.9999545812606812},\n",
              " {'NEGATIVO': 4.539786823443137e-05, 'POSITIVO': 0.9999545812606812},\n",
              " {'NEGATIVO': 0.00015132635599002242, 'POSITIVO': 0.9999545812606812},\n",
              " {'NEGATIVO': 4.539786823443137e-05, 'POSITIVO': 0.9999545812606812},\n",
              " {'NEGATIVO': 9.1439054813236e-05, 'POSITIVO': 0.9999545812606812},\n",
              " {'NEGATIVO': 9.33948831516318e-05, 'POSITIVO': 0.9999545812606812},\n",
              " {'NEGATIVO': 4.539786823443137e-05, 'POSITIVO': 0.9999545812606812},\n",
              " {'NEGATIVO': 0.000244186696363613, 'POSITIVO': 0.9999545812606812},\n",
              " {'NEGATIVO': 4.539786823443137e-05, 'POSITIVO': 0.9999545812606812},\n",
              " {'NEGATIVO': 4.539786823443137e-05, 'POSITIVO': 0.9999545812606812},\n",
              " {'NEGATIVO': 7.435111911036074e-05, 'POSITIVO': 0.9999545812606812},\n",
              " {'NEGATIVO': 0.00031242542900145054, 'POSITIVO': 0.9999545812606812},\n",
              " {'NEGATIVO': 5.738814070355147e-05, 'POSITIVO': 0.9999545812606812},\n",
              " {'NEGATIVO': 4.539786823443137e-05, 'POSITIVO': 0.9999545812606812},\n",
              " {'NEGATIVO': 4.539786823443137e-05, 'POSITIVO': 0.9999545812606812},\n",
              " {'NEGATIVO': 4.539786823443137e-05, 'POSITIVO': 0.9999545812606812},\n",
              " {'NEGATIVO': 9.132437116932124e-05, 'POSITIVO': 0.9999545812606812},\n",
              " {'NEGATIVO': 4.539786823443137e-05, 'POSITIVO': 0.9999545812606812},\n",
              " {'NEGATIVO': 5.396495544118807e-05, 'POSITIVO': 0.9999545812606812},\n",
              " {'NEGATIVO': 4.539786823443137e-05, 'POSITIVO': 0.9999545812606812},\n",
              " {'NEGATIVO': 5.867009895155206e-05, 'POSITIVO': 0.9999545812606812},\n",
              " {'NEGATIVO': 0.00020715575374197215, 'POSITIVO': 0.9999545812606812},\n",
              " {'NEGATIVO': 4.539786823443137e-05, 'POSITIVO': 0.9999545812606812},\n",
              " {'NEGATIVO': 4.539786823443137e-05, 'POSITIVO': 0.9999545812606812},\n",
              " {'NEGATIVO': 0.00021131658286321908, 'POSITIVO': 0.9999409914016724},\n",
              " {'NEGATIVO': 4.539786823443137e-05, 'POSITIVO': 0.9999545812606812},\n",
              " {'NEGATIVO': 0.00015012442599982023, 'POSITIVO': 0.9999545812606812},\n",
              " {'NEGATIVO': 0.00027798485825769603, 'POSITIVO': 0.9999545812606812},\n",
              " {'NEGATIVO': 0.00010595981439109892, 'POSITIVO': 0.9999545812606812},\n",
              " {'NEGATIVO': 0.00021422881400212646, 'POSITIVO': 0.9999545812606812},\n",
              " {'NEGATIVO': 4.539786823443137e-05, 'POSITIVO': 0.9999545812606812},\n",
              " {'NEGATIVO': 0.0002499924448784441, 'POSITIVO': 0.9999459981918335},\n",
              " {'NEGATIVO': 5.2621402574004605e-05, 'POSITIVO': 0.9999545812606812},\n",
              " {'NEGATIVO': 4.540635200100951e-05, 'POSITIVO': 0.9999545812606812},\n",
              " {'NEGATIVO': 4.539786823443137e-05, 'POSITIVO': 0.9999545812606812},\n",
              " {'NEGATIVO': 4.7740886657265946e-05, 'POSITIVO': 0.9999545812606812},\n",
              " {'NEGATIVO': 5.10610880155582e-05, 'POSITIVO': 0.9999545812606812},\n",
              " {'NEGATIVO': 4.5481199776986614e-05, 'POSITIVO': 0.9999545812606812},\n",
              " {'NEGATIVO': 0.00012010005593765527, 'POSITIVO': 0.9999545812606812},\n",
              " {'NEGATIVO': 4.539786823443137e-05, 'POSITIVO': 0.9999545812606812},\n",
              " {'NEGATIVO': 0.0005255081923678517, 'POSITIVO': 0.9999545812606812},\n",
              " {'NEGATIVO': 4.78041656606365e-05, 'POSITIVO': 0.9999545812606812},\n",
              " {'NEGATIVO': 4.539786823443137e-05, 'POSITIVO': 0.9999545812606812},\n",
              " {'NEGATIVO': 0.0002006371069001034, 'POSITIVO': 0.9999545812606812},\n",
              " {'NEGATIVO': 6.691084854537621e-05, 'POSITIVO': 0.9999545812606812},\n",
              " {'NEGATIVO': 4.539786823443137e-05, 'POSITIVO': 0.9999545812606812},\n",
              " {'NEGATIVO': 0.000315057928673923, 'POSITIVO': 0.9999545812606812},\n",
              " {'NEGATIVO': 0.00012878772395197302, 'POSITIVO': 0.9999545812606812},\n",
              " {'NEGATIVO': 4.539786823443137e-05, 'POSITIVO': 0.9999545812606812},\n",
              " {'NEGATIVO': 0.0001231112255482003, 'POSITIVO': 0.9999545812606812},\n",
              " {'NEGATIVO': 4.539786823443137e-05, 'POSITIVO': 0.9999545812606812},\n",
              " {'NEGATIVO': 0.00017879458027891815, 'POSITIVO': 0.9999545812606812},\n",
              " {'NEGATIVO': 4.539786823443137e-05, 'POSITIVO': 0.9999545812606812},\n",
              " {'NEGATIVO': 4.539786823443137e-05, 'POSITIVO': 0.9999545812606812},\n",
              " {'NEGATIVO': 5.077649257145822e-05, 'POSITIVO': 0.9999470710754395},\n",
              " {'NEGATIVO': 0.00010764611215563491, 'POSITIVO': 0.9999545812606812},\n",
              " {'NEGATIVO': 4.539786823443137e-05, 'POSITIVO': 0.9999545812606812},\n",
              " {'NEGATIVO': 0.00037753424840047956, 'POSITIVO': 0.9999545812606812},\n",
              " {'NEGATIVO': 4.539786823443137e-05, 'POSITIVO': 0.9999545812606812},\n",
              " {'NEGATIVO': 0.0002108971239067614, 'POSITIVO': 0.9999545812606812},\n",
              " {'NEGATIVO': 4.539786823443137e-05, 'POSITIVO': 0.9999545812606812},\n",
              " {'NEGATIVO': 8.105014421744272e-05, 'POSITIVO': 0.9999545812606812},\n",
              " {'NEGATIVO': 4.539786823443137e-05, 'POSITIVO': 0.9999545812606812},\n",
              " {'NEGATIVO': 8.084558794507757e-05, 'POSITIVO': 0.9999545812606812},\n",
              " {'NEGATIVO': 5.190625597606413e-05, 'POSITIVO': 0.9999545812606812},\n",
              " {'NEGATIVO': 7.463341171387583e-05, 'POSITIVO': 0.9999545812606812},\n",
              " {'NEGATIVO': 4.539786823443137e-05, 'POSITIVO': 0.9999545812606812},\n",
              " {'NEGATIVO': 4.539786823443137e-05, 'POSITIVO': 0.9999545812606812},\n",
              " {'NEGATIVO': 0.0003187580732628703, 'POSITIVO': 0.9999545812606812},\n",
              " {'NEGATIVO': 4.539786823443137e-05, 'POSITIVO': 0.9999545812606812},\n",
              " {'NEGATIVO': 5.181530650588684e-05, 'POSITIVO': 0.9999545812606812},\n",
              " {'NEGATIVO': 0.00024095004482660443, 'POSITIVO': 0.9999545812606812},\n",
              " {'NEGATIVO': 4.539786823443137e-05, 'POSITIVO': 0.9999545812606812},\n",
              " {'NEGATIVO': 0.00010387768998043612, 'POSITIVO': 0.9999545812606812},\n",
              " {'NEGATIVO': 0.000167353282449767, 'POSITIVO': 0.9999545812606812},\n",
              " {'NEGATIVO': 4.539786823443137e-05, 'POSITIVO': 0.9999545812606812},\n",
              " {'NEGATIVO': 4.539786823443137e-05, 'POSITIVO': 0.9999545812606812},\n",
              " {'NEGATIVO': 0.00012297523790039122, 'POSITIVO': 0.9999545812606812},\n",
              " {'NEGATIVO': 6.392063369276002e-05, 'POSITIVO': 0.9999545812606812},\n",
              " {'NEGATIVO': 4.539786823443137e-05, 'POSITIVO': 0.9999545812606812},\n",
              " {'NEGATIVO': 4.539786823443137e-05, 'POSITIVO': 0.9999545812606812},\n",
              " {'NEGATIVO': 0.00035671022487804294, 'POSITIVO': 0.9999545812606812},\n",
              " {'NEGATIVO': 4.539786823443137e-05, 'POSITIVO': 0.9999545812606812},\n",
              " {'NEGATIVO': 4.539786823443137e-05, 'POSITIVO': 0.9999545812606812},\n",
              " {'NEGATIVO': 0.0002853064797818661, 'POSITIVO': 0.9999545812606812},\n",
              " {'NEGATIVO': 6.384923472069204e-05, 'POSITIVO': 0.9999545812606812},\n",
              " {'NEGATIVO': 8.159134449670091e-05, 'POSITIVO': 0.9999545812606812},\n",
              " {'NEGATIVO': 8.635385165689513e-05, 'POSITIVO': 0.9999545812606812},\n",
              " {'NEGATIVO': 0.0005391265149228275, 'POSITIVO': 0.9999545812606812},\n",
              " {'NEGATIVO': 4.539786823443137e-05, 'POSITIVO': 0.9999545812606812},\n",
              " {'NEGATIVO': 4.974194598617032e-05, 'POSITIVO': 0.9999545812606812},\n",
              " {'NEGATIVO': 4.539786823443137e-05, 'POSITIVO': 0.9999545812606812},\n",
              " {'NEGATIVO': 0.00014761519560124725, 'POSITIVO': 0.9999545812606812},\n",
              " {'NEGATIVO': 4.539786823443137e-05, 'POSITIVO': 0.9999545812606812},\n",
              " {'NEGATIVO': 4.539786823443137e-05, 'POSITIVO': 0.9999545812606812},\n",
              " {'NEGATIVO': 4.539786823443137e-05, 'POSITIVO': 0.9999545812606812},\n",
              " {'NEGATIVO': 4.539786823443137e-05, 'POSITIVO': 0.9999545812606812},\n",
              " {'NEGATIVO': 6.280104571487755e-05, 'POSITIVO': 0.9999545812606812},\n",
              " {'NEGATIVO': 0.00015686011465732008, 'POSITIVO': 0.9998278617858887},\n",
              " {'NEGATIVO': 4.539786823443137e-05, 'POSITIVO': 0.9999545812606812},\n",
              " {'NEGATIVO': 4.539786823443137e-05, 'POSITIVO': 0.9999545812606812},\n",
              " {'NEGATIVO': 0.00027083911118097603, 'POSITIVO': 0.9999545812606812},\n",
              " {'NEGATIVO': 0.000291764794383198, 'POSITIVO': 0.9999545812606812},\n",
              " {'NEGATIVO': 5.004960985388607e-05, 'POSITIVO': 0.9999545812606812},\n",
              " {'NEGATIVO': 0.00010747431224444881, 'POSITIVO': 0.9999545812606812},\n",
              " {'NEGATIVO': 0.00013676873641088605, 'POSITIVO': 0.9999545812606812},\n",
              " {'NEGATIVO': 4.539786823443137e-05, 'POSITIVO': 0.9999545812606812},\n",
              " {'NEGATIVO': 4.539786823443137e-05, 'POSITIVO': 0.9999545812606812},\n",
              " {'NEGATIVO': 0.009244557470083237, 'POSITIVO': 0.9981548190116882},\n",
              " {'NEGATIVO': 4.539786823443137e-05, 'POSITIVO': 0.9999545812606812},\n",
              " {'NEGATIVO': 4.539786823443137e-05, 'POSITIVO': 0.9999545812606812},\n",
              " {'NEGATIVO': 4.539786823443137e-05, 'POSITIVO': 0.9999545812606812},\n",
              " {'NEGATIVO': 0.0009391771745868027, 'POSITIVO': 0.9998347759246826},\n",
              " {'NEGATIVO': 4.539786823443137e-05, 'POSITIVO': 0.9999545812606812},\n",
              " {'NEGATIVO': 5.8728426665766165e-05, 'POSITIVO': 0.9999545812606812},\n",
              " {'NEGATIVO': 7.41648836992681e-05, 'POSITIVO': 0.9999545812606812},\n",
              " {'NEGATIVO': 4.539786823443137e-05, 'POSITIVO': 0.9999545812606812},\n",
              " {'NEGATIVO': 0.00014975313388276845, 'POSITIVO': 0.9999545812606812},\n",
              " {'NEGATIVO': 4.539786823443137e-05, 'POSITIVO': 0.9999545812606812},\n",
              " {'NEGATIVO': 4.539786823443137e-05, 'POSITIVO': 0.9999545812606812},\n",
              " {'NEGATIVO': 8.234413689933717e-05, 'POSITIVO': 0.9999545812606812},\n",
              " {'NEGATIVO': 4.539786823443137e-05, 'POSITIVO': 0.9999545812606812},\n",
              " {'NEGATIVO': 4.539786823443137e-05, 'POSITIVO': 0.9999545812606812},\n",
              " {'NEGATIVO': 4.539786823443137e-05, 'POSITIVO': 0.9999545812606812},\n",
              " {'NEGATIVO': 4.539786823443137e-05, 'POSITIVO': 0.9999545812606812},\n",
              " {'NEGATIVO': 6.407148612197489e-05, 'POSITIVO': 0.9999545812606812},\n",
              " {'NEGATIVO': 4.539786823443137e-05, 'POSITIVO': 0.9999545812606812},\n",
              " {'NEGATIVO': 4.539786823443137e-05, 'POSITIVO': 0.9999545812606812},\n",
              " {'NEGATIVO': 0.00015604931104462594, 'POSITIVO': 0.9999545812606812},\n",
              " {'NEGATIVO': 0.00025739558623172343, 'POSITIVO': 0.9999545812606812},\n",
              " {'NEGATIVO': 6.0747028328478336e-05, 'POSITIVO': 0.9999545812606812},\n",
              " {'NEGATIVO': 4.539786823443137e-05, 'POSITIVO': 0.9999545812606812},\n",
              " {'NEGATIVO': 4.539786823443137e-05, 'POSITIVO': 0.9999545812606812},\n",
              " {'NEGATIVO': 4.539786823443137e-05, 'POSITIVO': 0.9999545812606812},\n",
              " {'NEGATIVO': 5.825114203616977e-05, 'POSITIVO': 0.9999545812606812},\n",
              " {'NEGATIVO': 4.539786823443137e-05, 'POSITIVO': 0.9999520778656006},\n",
              " {'NEGATIVO': 7.142521644709632e-05, 'POSITIVO': 0.9999545812606812},\n",
              " {'NEGATIVO': 4.539786823443137e-05, 'POSITIVO': 0.9999545812606812},\n",
              " {'NEGATIVO': 4.539786823443137e-05, 'POSITIVO': 0.9999545812606812},\n",
              " {'NEGATIVO': 0.00010475322778802365, 'POSITIVO': 0.9998194575309753},\n",
              " {'NEGATIVO': 0.007342729717493057, 'POSITIVO': 0.997548520565033},\n",
              " {'NEGATIVO': 0.000314072152832523, 'POSITIVO': 0.9999545812606812},\n",
              " {'NEGATIVO': 4.539786823443137e-05, 'POSITIVO': 0.9999545812606812},\n",
              " {'NEGATIVO': 6.691084854537621e-05, 'POSITIVO': 0.9999545812606812},\n",
              " {'NEGATIVO': 4.774175613420084e-05, 'POSITIVO': 0.9999545812606812},\n",
              " {'NEGATIVO': 0.002805764088407159, 'POSITIVO': 0.9997394680976868},\n",
              " {'NEGATIVO': 4.539786823443137e-05, 'POSITIVO': 0.9999545812606812},\n",
              " {'NEGATIVO': 0.00010810067760758102, 'POSITIVO': 0.9999545812606812},\n",
              " {'NEGATIVO': 5.3265066526364535e-05, 'POSITIVO': 0.9999545812606812},\n",
              " {'NEGATIVO': 4.539786823443137e-05, 'POSITIVO': 0.9999545812606812},\n",
              " {'NEGATIVO': 0.0003149702388327569, 'POSITIVO': 0.9999545812606812},\n",
              " {'NEGATIVO': 6.918369035702199e-05, 'POSITIVO': 0.9999545812606812},\n",
              " {'NEGATIVO': 4.539786823443137e-05, 'POSITIVO': 0.9999545812606812},\n",
              " {'NEGATIVO': 5.887882434763014e-05, 'POSITIVO': 0.9999545812606812},\n",
              " {'NEGATIVO': 0.003948282450437546, 'POSITIVO': 0.9996415376663208},\n",
              " {'NEGATIVO': 0.00023055396741256118, 'POSITIVO': 0.9999545812606812},\n",
              " {'NEGATIVO': 0.00011517178063513711, 'POSITIVO': 0.9999545812606812},\n",
              " {'NEGATIVO': 0.00020148002658970654, 'POSITIVO': 0.9999545812606812},\n",
              " {'NEGATIVO': 4.539786823443137e-05, 'POSITIVO': 0.9999545812606812},\n",
              " {'NEGATIVO': 0.00026316859293729067, 'POSITIVO': 0.9999545812606812},\n",
              " {'NEGATIVO': 8.607096242485568e-05, 'POSITIVO': 0.9999545812606812},\n",
              " {'NEGATIVO': 8.205919584725052e-05, 'POSITIVO': 0.9999545812606812},\n",
              " {'NEGATIVO': 5.813200186821632e-05, 'POSITIVO': 0.9999545812606812},\n",
              " {'NEGATIVO': 4.539786823443137e-05, 'POSITIVO': 0.9999545812606812},\n",
              " {'NEGATIVO': 0.0001326736673945561, 'POSITIVO': 0.9999545812606812},\n",
              " {'NEGATIVO': 0.00040438646101392806, 'POSITIVO': 0.9999545812606812},\n",
              " {'NEGATIVO': 4.539786823443137e-05, 'POSITIVO': 0.9999545812606812},\n",
              " {'NEGATIVO': 4.539786823443137e-05, 'POSITIVO': 0.9999545812606812},\n",
              " {'NEGATIVO': 4.539786823443137e-05, 'POSITIVO': 0.9999545812606812},\n",
              " {'NEGATIVO': 0.0001288088533328846, 'POSITIVO': 0.9999545812606812},\n",
              " {'NEGATIVO': 4.539786823443137e-05, 'POSITIVO': 0.9999545812606812},\n",
              " {'NEGATIVO': 7.88336037658155e-05, 'POSITIVO': 0.9999545812606812},\n",
              " {'NEGATIVO': 9.457698615733534e-05, 'POSITIVO': 0.9999545812606812},\n",
              " {'NEGATIVO': 8.025200077099726e-05, 'POSITIVO': 0.9999545812606812},\n",
              " {'NEGATIVO': 4.539786823443137e-05, 'POSITIVO': 0.9999545812606812},\n",
              " {'NEGATIVO': 0.00016837110160849988, 'POSITIVO': 0.9999545812606812},\n",
              " {'NEGATIVO': 5.3396073781186715e-05, 'POSITIVO': 0.9999545812606812},\n",
              " {'NEGATIVO': 0.00023055396741256118, 'POSITIVO': 0.9999545812606812},\n",
              " {'NEGATIVO': 0.0001341631286777556, 'POSITIVO': 0.9999545812606812},\n",
              " {'NEGATIVO': 4.539786823443137e-05, 'POSITIVO': 0.9999545812606812},\n",
              " {'NEGATIVO': 0.00010261014540446922, 'POSITIVO': 0.9999545812606812},\n",
              " {'NEGATIVO': 4.539786823443137e-05, 'POSITIVO': 0.9999545812606812},\n",
              " {'NEGATIVO': 4.872150384471752e-05, 'POSITIVO': 0.9999545812606812},\n",
              " {'NEGATIVO': 4.539786823443137e-05, 'POSITIVO': 0.9999545812606812},\n",
              " {'NEGATIVO': 0.000217892971704714, 'POSITIVO': 0.9999545812606812},\n",
              " {'NEGATIVO': 6.836736429249868e-05, 'POSITIVO': 0.9999545812606812},\n",
              " {'NEGATIVO': 0.0009779847459867597, 'POSITIVO': 0.9999545812606812},\n",
              " {'NEGATIVO': 9.469828364672139e-05, 'POSITIVO': 0.9999545812606812},\n",
              " {'NEGATIVO': 0.0005356427282094955, 'POSITIVO': 0.9999545812606812},\n",
              " {'NEGATIVO': 4.539786823443137e-05, 'POSITIVO': 0.9999545812606812},\n",
              " {'NEGATIVO': 4.539786823443137e-05, 'POSITIVO': 0.9999545812606812},\n",
              " {'NEGATIVO': 4.539786823443137e-05, 'POSITIVO': 0.9999545812606812},\n",
              " {'NEGATIVO': 7.906902465038002e-05, 'POSITIVO': 0.9999545812606812},\n",
              " {'NEGATIVO': 0.00018053904932457954, 'POSITIVO': 0.9999545812606812},\n",
              " {'NEGATIVO': 6.691084854537621e-05, 'POSITIVO': 0.9999545812606812},\n",
              " {'NEGATIVO': 5.80987507419195e-05, 'POSITIVO': 0.9999545812606812},\n",
              " {'NEGATIVO': 4.539786823443137e-05, 'POSITIVO': 0.9999545812606812},\n",
              " {'NEGATIVO': 4.539786823443137e-05, 'POSITIVO': 0.9999545812606812},\n",
              " {'NEGATIVO': 4.539786823443137e-05, 'POSITIVO': 0.9999545812606812},\n",
              " {'NEGATIVO': 4.539786823443137e-05, 'POSITIVO': 0.9999545812606812},\n",
              " {'NEGATIVO': 0.00010679291881388053, 'POSITIVO': 0.9999545812606812},\n",
              " {'NEGATIVO': 4.539786823443137e-05, 'POSITIVO': 0.9999545812606812},\n",
              " {'NEGATIVO': 4.539786823443137e-05, 'POSITIVO': 0.9999545812606812},\n",
              " {'NEGATIVO': 7.530944276368245e-05, 'POSITIVO': 0.9999545812606812},\n",
              " {'NEGATIVO': 0.000119691678264644, 'POSITIVO': 0.9999545812606812},\n",
              " {'NEGATIVO': 4.539786823443137e-05, 'POSITIVO': 0.9999545812606812},\n",
              " {'NEGATIVO': 0.00015573104610666633, 'POSITIVO': 0.9999545812606812},\n",
              " {'NEGATIVO': 4.539786823443137e-05, 'POSITIVO': 0.9999545812606812},\n",
              " {'NEGATIVO': 4.953546522301622e-05, 'POSITIVO': 0.9999545812606812},\n",
              " {'NEGATIVO': 6.887700146762654e-05, 'POSITIVO': 0.9999545812606812},\n",
              " {'NEGATIVO': 4.539786823443137e-05, 'POSITIVO': 0.9999545812606812},\n",
              " {'NEGATIVO': 9.384517761645839e-05, 'POSITIVO': 0.9999545812606812},\n",
              " {'NEGATIVO': 6.922843749634922e-05, 'POSITIVO': 0.9999545812606812},\n",
              " {'NEGATIVO': 5.2347029850352556e-05, 'POSITIVO': 0.9999545812606812},\n",
              " {'NEGATIVO': 7.420024485327303e-05, 'POSITIVO': 0.9999545812606812},\n",
              " {'NEGATIVO': 7.470048149116337e-05, 'POSITIVO': 0.9999545812606812},\n",
              " {'NEGATIVO': 7.76349552324973e-05, 'POSITIVO': 0.9999545812606812},\n",
              " {'NEGATIVO': 0.0001075791078619659, 'POSITIVO': 0.9999545812606812},\n",
              " {'NEGATIVO': 4.539786823443137e-05, 'POSITIVO': 0.9999545812606812},\n",
              " ...]"
            ]
          },
          "metadata": {},
          "execution_count": 51
        }
      ]
    },
    {
      "cell_type": "code",
      "source": [
        "previsoes_final = []\n",
        "for previsao in previsoes:\n",
        "  if previsao['POSITIVO'] > previsao['NEGATIVO']:\n",
        "    previsoes_final.append(1)\n",
        "  else:\n",
        "    previsoes_final.append(0)\n",
        "\n",
        "previsoes_final = np.array(previsoes_final)"
      ],
      "metadata": {
        "id": "2jPqnJgUh5Sf"
      },
      "execution_count": null,
      "outputs": []
    },
    {
      "cell_type": "code",
      "source": [
        "previsoes_final"
      ],
      "metadata": {
        "colab": {
          "base_uri": "https://localhost:8080/"
        },
        "id": "Nj9gVpOhh9By",
        "outputId": "52d4225a-d970-4859-afc9-14b534bd63db"
      },
      "execution_count": null,
      "outputs": [
        {
          "output_type": "execute_result",
          "data": {
            "text/plain": [
              "array([1, 1, 1, ..., 0, 0, 0])"
            ]
          },
          "metadata": {},
          "execution_count": 53
        }
      ]
    },
    {
      "cell_type": "code",
      "source": [
        "respostas_reais = base_treinamento['sentiment'].values\n",
        "respostas_reais"
      ],
      "metadata": {
        "colab": {
          "base_uri": "https://localhost:8080/"
        },
        "id": "x345MygIh_lD",
        "outputId": "acbea65c-be32-4f9d-ca86-0ecd4f4f9850"
      },
      "execution_count": null,
      "outputs": [
        {
          "output_type": "execute_result",
          "data": {
            "text/plain": [
              "array([1, 1, 1, ..., 0, 0, 0])"
            ]
          },
          "metadata": {},
          "execution_count": 54
        }
      ]
    },
    {
      "cell_type": "code",
      "source": [
        "from sklearn.metrics import confusion_matrix, accuracy_score\n",
        "accuracy_score(respostas_reais, previsoes_final)"
      ],
      "metadata": {
        "colab": {
          "base_uri": "https://localhost:8080/"
        },
        "id": "cvSO3btSiCI6",
        "outputId": "e0ddc17e-89a6-4d90-bb17-e3b4ff404dc9"
      },
      "execution_count": null,
      "outputs": [
        {
          "output_type": "execute_result",
          "data": {
            "text/plain": [
              "1.0"
            ]
          },
          "metadata": {},
          "execution_count": 55
        }
      ]
    },
    {
      "cell_type": "code",
      "source": [
        "cm = confusion_matrix(respostas_reais, previsoes_final)\n",
        "cm"
      ],
      "metadata": {
        "colab": {
          "base_uri": "https://localhost:8080/"
        },
        "id": "UTe-4taBiEya",
        "outputId": "13b816f1-82ec-40c7-c431-f591372cae70"
      },
      "execution_count": null,
      "outputs": [
        {
          "output_type": "execute_result",
          "data": {
            "text/plain": [
              "array([[25000,     0],\n",
              "       [    0, 25000]])"
            ]
          },
          "metadata": {},
          "execution_count": 56
        }
      ]
    },
    {
      "cell_type": "code",
      "source": [
        "sns.heatmap(cm, annot=True)"
      ],
      "metadata": {
        "colab": {
          "base_uri": "https://localhost:8080/",
          "height": 287
        },
        "id": "iVejJ8ZQiHl7",
        "outputId": "ed3b7080-430e-4cfc-8f28-614e3aa5ff94"
      },
      "execution_count": null,
      "outputs": [
        {
          "output_type": "execute_result",
          "data": {
            "text/plain": [
              "<matplotlib.axes._subplots.AxesSubplot at 0x7f6b42e845d0>"
            ]
          },
          "metadata": {},
          "execution_count": 57
        },
        {
          "output_type": "display_data",
          "data": {
            "text/plain": [
              "<Figure size 432x288 with 2 Axes>"
            ],
            "image/png": "[encoded data removed]"
          },
          "metadata": {
            "needs_background": "light"
          }
        }
      ]
    },
    {
      "cell_type": "markdown",
      "source": [
        "Avaliação na base Teste"
      ],
      "metadata": {
        "id": "S2CrO1_NiMcQ"
      }
    },
    {
      "cell_type": "code",
      "source": [
        "previsoes = []\n",
        "for texto in base_teste['tweet_text']:\n",
        "  previsao = modelo_carregado(texto)\n",
        "  previsoes.append(previsao.cats)"
      ],
      "metadata": {
        "id": "MZvH_KjHiQj0"
      },
      "execution_count": null,
      "outputs": []
    },
    {
      "cell_type": "code",
      "source": [
        "previsoes_final = []\n",
        "for previsao in previsoes:\n",
        "  if previsao['POSITIVO'] > previsao['NEGATIVO']:\n",
        "    previsoes_final.append(1)\n",
        "  else:\n",
        "    previsoes_final.append(0)\n",
        "\n",
        "previsoes_final = np.array(previsoes_final)"
      ],
      "metadata": {
        "id": "Iz9lXhvTiWmc"
      },
      "execution_count": null,
      "outputs": []
    },
    {
      "cell_type": "code",
      "source": [
        "respostas_reais = base_teste['sentiment'].values"
      ],
      "metadata": {
        "id": "vMQ5GNRViXwu"
      },
      "execution_count": null,
      "outputs": []
    },
    {
      "cell_type": "code",
      "source": [
        "accuracy_score(respostas_reais, previsoes_final)"
      ],
      "metadata": {
        "colab": {
          "base_uri": "https://localhost:8080/"
        },
        "id": "C3C6pHkOial6",
        "outputId": "336f9642-519d-4429-8fd8-0f5f3df47adb"
      },
      "execution_count": null,
      "outputs": [
        {
          "output_type": "execute_result",
          "data": {
            "text/plain": [
              "0.9972"
            ]
          },
          "metadata": {},
          "execution_count": 61
        }
      ]
    },
    {
      "cell_type": "code",
      "source": [
        "cm = confusion_matrix(respostas_reais, previsoes_final)\n",
        "cm"
      ],
      "metadata": {
        "colab": {
          "base_uri": "https://localhost:8080/"
        },
        "id": "RAO-Hs-die63",
        "outputId": "a779e239-6143-428b-b33d-b063964fc0be"
      },
      "execution_count": null,
      "outputs": [
        {
          "output_type": "execute_result",
          "data": {
            "text/plain": [
              "array([[2494,    6],\n",
              "       [   8, 2492]])"
            ]
          },
          "metadata": {},
          "execution_count": 62
        }
      ]
    },
    {
      "cell_type": "code",
      "source": [
        "sns.heatmap(cm, annot=True)"
      ],
      "metadata": {
        "colab": {
          "base_uri": "https://localhost:8080/",
          "height": 283
        },
        "id": "oH-qOOG9iiJ3",
        "outputId": "6f2ed2e2-16e1-4ec6-ae90-9dc48651117d"
      },
      "execution_count": null,
      "outputs": [
        {
          "output_type": "execute_result",
          "data": {
            "text/plain": [
              "<matplotlib.axes._subplots.AxesSubplot at 0x7f6b42dbef50>"
            ]
          },
          "metadata": {},
          "execution_count": 63
        },
        {
          "output_type": "display_data",
          "data": {
            "text/plain": [
              "<Figure size 432x288 with 2 Axes>"
            ],
            "image/png": "[encoded data removed]"
          },
          "metadata": {
            "needs_background": "light"
          }
        }
      ]
    },
    {
      "cell_type": "markdown",
      "source": [
        "Conclusão "
      ],
      "metadata": {
        "id": "fXLb9rqKijh6"
      }
    },
    {
      "cell_type": "markdown",
      "source": [
        "Apenas com o spacy foi feito um classificador de sentimento, com o resultado de pequena discrepância no resultado (vale ressaltar que o dataframe já estava limpo e é mais fácil de fazer o modelo, até porque não teve dados para tratar). Mas é interessante utilizar outros recursos para explorar, como representação de bag of words e bibliotecas, como Nltk."
      ],
      "metadata": {
        "id": "7Eq4IInKk45i"
      }
    }
  ]
}